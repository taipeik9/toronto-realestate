{
 "cells": [
  {
   "attachments": {},
   "cell_type": "markdown",
   "metadata": {},
   "source": [
    "# Brainstation Final Project, Toronto Housing Prices"
   ]
  },
  {
   "cell_type": "code",
   "execution_count": 337,
   "metadata": {},
   "outputs": [],
   "source": [
    "from typing import Union\n",
    "\n",
    "import pandas as pd\n",
    "import numpy as np\n",
    "\n",
    "import matplotlib.pyplot as plt\n",
    "import seaborn as sns\n",
    "\n",
    "import plotly.io as pio\n",
    "import plotly.graph_objects as go\n",
    "import plotly.express as px\n",
    "pio.renderers.default = \"vscode\"\n",
    "\n",
    "pd.set_option('plotting.backend', 'plotly')\n",
    "pd.options.mode.chained_assignment = None  # default='warn'"
   ]
  },
  {
   "attachments": {},
   "cell_type": "markdown",
   "metadata": {},
   "source": [
    "## Loading the Datasets\n",
    "\n",
    "I scraped 3 sites, all of which have similar listings. I will choose which one to use based on some factors."
   ]
  },
  {
   "cell_type": "code",
   "execution_count": 33,
   "metadata": {},
   "outputs": [],
   "source": [
    "trreb = pd.read_csv('data/trreb-jan17.csv', parse_dates=['added_at'])\n",
    "realtor = pd.read_csv('data/realtorca-jan17.csv')\n",
    "zoocasa = pd.read_csv('data/zoocasa-jan17.csv', parse_dates=['added_at'])"
   ]
  },
  {
   "cell_type": "code",
   "execution_count": 34,
   "metadata": {},
   "outputs": [
    {
     "data": {
      "text/plain": [
       "'Dataset # of Rows: Trreb: 1495, Realtor.ca: 4046, Zoocasa: 3856'"
      ]
     },
     "execution_count": 34,
     "metadata": {},
     "output_type": "execute_result"
    }
   ],
   "source": [
    "f\"Dataset # of Rows: Trreb: {trreb.shape[0]}, Realtor.ca: {realtor.shape[0]}, Zoocasa: {zoocasa.shape[0]}\""
   ]
  },
  {
   "attachments": {},
   "cell_type": "markdown",
   "metadata": {},
   "source": [
    "Trreb has far less entries than the other two so I will not be using it for the model."
   ]
  },
  {
   "cell_type": "code",
   "execution_count": 35,
   "metadata": {},
   "outputs": [],
   "source": [
    "# Zoocasa has entries with \"0 Room totals\"\n",
    "zoocasa['rooms_total'].replace(0.0, np.nan, inplace=True)"
   ]
  },
  {
   "cell_type": "code",
   "execution_count": 36,
   "metadata": {},
   "outputs": [
    {
     "data": {
      "text/plain": [
       "\"19'4'' x 11'5'',14'8'' x 8'4'',8'9'' x 11'9'',4'10'' x 5'6'',5'5'' x 4'5'',15'0'' x 11'9''\""
      ]
     },
     "execution_count": 36,
     "metadata": {},
     "output_type": "execute_result"
    }
   ],
   "source": [
    "# Realtor.ca has more entries but also an inconvenient issue where the internal square footage is not included, but the room dimensions are\n",
    "# this wouldn't be too hard to calculate but some rooms are missing, which was yield skewed results with our model.\n",
    "realtor['room_dim_list'][0]"
   ]
  },
  {
   "cell_type": "code",
   "execution_count": 37,
   "metadata": {},
   "outputs": [
    {
     "data": {
      "text/plain": [
       "'Measurements not available,Measurements not available,Measurements not available,Measurements not available,Measurements not available,Measurements not available,Measurements not available,Measurements not available,Measurements not available'"
      ]
     },
     "execution_count": 37,
     "metadata": {},
     "output_type": "execute_result"
    }
   ],
   "source": [
    "# Instead of a NaN value, the dataset comes out like this for rooms without available dimensions so I need to fix that.\n",
    "realtor.room_dim_list[117]"
   ]
  },
  {
   "cell_type": "code",
   "execution_count": 38,
   "metadata": {},
   "outputs": [
    {
     "data": {
      "text/plain": [
       "nan"
      ]
     },
     "execution_count": 38,
     "metadata": {},
     "output_type": "execute_result"
    }
   ],
   "source": [
    "realtor['room_dim_list_fixed'] = realtor['room_dim_list'].str.replace('Measurements not available,', '').replace('Measurements not available', '')\n",
    "realtor['room_dim_list_fixed'].replace('', np.nan, regex=True, inplace=True)\n",
    "realtor.room_dim_list_fixed[117]"
   ]
  },
  {
   "cell_type": "code",
   "execution_count": 39,
   "metadata": {},
   "outputs": [],
   "source": [
    "z_potential_features = ['price', 'bedrooms', 'bedrooms_partial', 'bathrooms', 'bathrooms_partial', 'square_footage_min', 'square_footage_max', 'parking', 'type', 'garage_type', 'exterior', 'driveway_type', 'basement_type', 'features', 'levels', 'rooms_total', 'desc']\n",
    "r_potential_features = ['price', 'bedrooms', 'bathrooms', 'archi_style', 'room_dim_list_fixed', 'parking', 'parking_type','type', 'exterior', 'utility', 'basement_type', 'features', 'levels', 'rooms_total', 'public_desc', 'heating']"
   ]
  },
  {
   "attachments": {},
   "cell_type": "markdown",
   "metadata": {},
   "source": [
    "## Counting NaN Values to Compare Datasets"
   ]
  },
  {
   "cell_type": "code",
   "execution_count": 40,
   "metadata": {},
   "outputs": [
    {
     "data": {
      "application/vnd.plotly.v1+json": {
       "config": {
        "plotlyServerURL": "https://plot.ly"
       },
       "data": [
        {
         "alignmentgroup": "True",
         "hovertemplate": "variable=0<br>Features=%{x}<br># of NaN values=%{y}<extra></extra>",
         "legendgroup": "0",
         "marker": {
          "color": "#636efa",
          "pattern": {
           "shape": ""
          }
         },
         "name": "0",
         "offsetgroup": "0",
         "orientation": "v",
         "showlegend": true,
         "textposition": "auto",
         "type": "bar",
         "x": [
          "price",
          "bedrooms",
          "bathrooms",
          "archi_style",
          "room_dim_list_fixed",
          "parking",
          "parking_type",
          "type",
          "exterior",
          "utility",
          "basement_type",
          "features",
          "levels",
          "rooms_total",
          "public_desc",
          "heating"
         ],
         "xaxis": "x",
         "y": [
          0,
          57,
          33,
          3762,
          878,
          4046,
          4046,
          60,
          205,
          3859,
          2854,
          1739,
          2616,
          332,
          0,
          208
         ],
         "yaxis": "y"
        }
       ],
       "layout": {
        "barmode": "relative",
        "legend": {
         "title": {
          "text": "variable"
         },
         "tracegroupgap": 0
        },
        "showlegend": false,
        "template": {
         "data": {
          "bar": [
           {
            "error_x": {
             "color": "#2a3f5f"
            },
            "error_y": {
             "color": "#2a3f5f"
            },
            "marker": {
             "line": {
              "color": "#E5ECF6",
              "width": 0.5
             },
             "pattern": {
              "fillmode": "overlay",
              "size": 10,
              "solidity": 0.2
             }
            },
            "type": "bar"
           }
          ],
          "barpolar": [
           {
            "marker": {
             "line": {
              "color": "#E5ECF6",
              "width": 0.5
             },
             "pattern": {
              "fillmode": "overlay",
              "size": 10,
              "solidity": 0.2
             }
            },
            "type": "barpolar"
           }
          ],
          "carpet": [
           {
            "aaxis": {
             "endlinecolor": "#2a3f5f",
             "gridcolor": "white",
             "linecolor": "white",
             "minorgridcolor": "white",
             "startlinecolor": "#2a3f5f"
            },
            "baxis": {
             "endlinecolor": "#2a3f5f",
             "gridcolor": "white",
             "linecolor": "white",
             "minorgridcolor": "white",
             "startlinecolor": "#2a3f5f"
            },
            "type": "carpet"
           }
          ],
          "choropleth": [
           {
            "colorbar": {
             "outlinewidth": 0,
             "ticks": ""
            },
            "type": "choropleth"
           }
          ],
          "contour": [
           {
            "colorbar": {
             "outlinewidth": 0,
             "ticks": ""
            },
            "colorscale": [
             [
              0,
              "#0d0887"
             ],
             [
              0.1111111111111111,
              "#46039f"
             ],
             [
              0.2222222222222222,
              "#7201a8"
             ],
             [
              0.3333333333333333,
              "#9c179e"
             ],
             [
              0.4444444444444444,
              "#bd3786"
             ],
             [
              0.5555555555555556,
              "#d8576b"
             ],
             [
              0.6666666666666666,
              "#ed7953"
             ],
             [
              0.7777777777777778,
              "#fb9f3a"
             ],
             [
              0.8888888888888888,
              "#fdca26"
             ],
             [
              1,
              "#f0f921"
             ]
            ],
            "type": "contour"
           }
          ],
          "contourcarpet": [
           {
            "colorbar": {
             "outlinewidth": 0,
             "ticks": ""
            },
            "type": "contourcarpet"
           }
          ],
          "heatmap": [
           {
            "colorbar": {
             "outlinewidth": 0,
             "ticks": ""
            },
            "colorscale": [
             [
              0,
              "#0d0887"
             ],
             [
              0.1111111111111111,
              "#46039f"
             ],
             [
              0.2222222222222222,
              "#7201a8"
             ],
             [
              0.3333333333333333,
              "#9c179e"
             ],
             [
              0.4444444444444444,
              "#bd3786"
             ],
             [
              0.5555555555555556,
              "#d8576b"
             ],
             [
              0.6666666666666666,
              "#ed7953"
             ],
             [
              0.7777777777777778,
              "#fb9f3a"
             ],
             [
              0.8888888888888888,
              "#fdca26"
             ],
             [
              1,
              "#f0f921"
             ]
            ],
            "type": "heatmap"
           }
          ],
          "heatmapgl": [
           {
            "colorbar": {
             "outlinewidth": 0,
             "ticks": ""
            },
            "colorscale": [
             [
              0,
              "#0d0887"
             ],
             [
              0.1111111111111111,
              "#46039f"
             ],
             [
              0.2222222222222222,
              "#7201a8"
             ],
             [
              0.3333333333333333,
              "#9c179e"
             ],
             [
              0.4444444444444444,
              "#bd3786"
             ],
             [
              0.5555555555555556,
              "#d8576b"
             ],
             [
              0.6666666666666666,
              "#ed7953"
             ],
             [
              0.7777777777777778,
              "#fb9f3a"
             ],
             [
              0.8888888888888888,
              "#fdca26"
             ],
             [
              1,
              "#f0f921"
             ]
            ],
            "type": "heatmapgl"
           }
          ],
          "histogram": [
           {
            "marker": {
             "pattern": {
              "fillmode": "overlay",
              "size": 10,
              "solidity": 0.2
             }
            },
            "type": "histogram"
           }
          ],
          "histogram2d": [
           {
            "colorbar": {
             "outlinewidth": 0,
             "ticks": ""
            },
            "colorscale": [
             [
              0,
              "#0d0887"
             ],
             [
              0.1111111111111111,
              "#46039f"
             ],
             [
              0.2222222222222222,
              "#7201a8"
             ],
             [
              0.3333333333333333,
              "#9c179e"
             ],
             [
              0.4444444444444444,
              "#bd3786"
             ],
             [
              0.5555555555555556,
              "#d8576b"
             ],
             [
              0.6666666666666666,
              "#ed7953"
             ],
             [
              0.7777777777777778,
              "#fb9f3a"
             ],
             [
              0.8888888888888888,
              "#fdca26"
             ],
             [
              1,
              "#f0f921"
             ]
            ],
            "type": "histogram2d"
           }
          ],
          "histogram2dcontour": [
           {
            "colorbar": {
             "outlinewidth": 0,
             "ticks": ""
            },
            "colorscale": [
             [
              0,
              "#0d0887"
             ],
             [
              0.1111111111111111,
              "#46039f"
             ],
             [
              0.2222222222222222,
              "#7201a8"
             ],
             [
              0.3333333333333333,
              "#9c179e"
             ],
             [
              0.4444444444444444,
              "#bd3786"
             ],
             [
              0.5555555555555556,
              "#d8576b"
             ],
             [
              0.6666666666666666,
              "#ed7953"
             ],
             [
              0.7777777777777778,
              "#fb9f3a"
             ],
             [
              0.8888888888888888,
              "#fdca26"
             ],
             [
              1,
              "#f0f921"
             ]
            ],
            "type": "histogram2dcontour"
           }
          ],
          "mesh3d": [
           {
            "colorbar": {
             "outlinewidth": 0,
             "ticks": ""
            },
            "type": "mesh3d"
           }
          ],
          "parcoords": [
           {
            "line": {
             "colorbar": {
              "outlinewidth": 0,
              "ticks": ""
             }
            },
            "type": "parcoords"
           }
          ],
          "pie": [
           {
            "automargin": true,
            "type": "pie"
           }
          ],
          "scatter": [
           {
            "fillpattern": {
             "fillmode": "overlay",
             "size": 10,
             "solidity": 0.2
            },
            "type": "scatter"
           }
          ],
          "scatter3d": [
           {
            "line": {
             "colorbar": {
              "outlinewidth": 0,
              "ticks": ""
             }
            },
            "marker": {
             "colorbar": {
              "outlinewidth": 0,
              "ticks": ""
             }
            },
            "type": "scatter3d"
           }
          ],
          "scattercarpet": [
           {
            "marker": {
             "colorbar": {
              "outlinewidth": 0,
              "ticks": ""
             }
            },
            "type": "scattercarpet"
           }
          ],
          "scattergeo": [
           {
            "marker": {
             "colorbar": {
              "outlinewidth": 0,
              "ticks": ""
             }
            },
            "type": "scattergeo"
           }
          ],
          "scattergl": [
           {
            "marker": {
             "colorbar": {
              "outlinewidth": 0,
              "ticks": ""
             }
            },
            "type": "scattergl"
           }
          ],
          "scattermapbox": [
           {
            "marker": {
             "colorbar": {
              "outlinewidth": 0,
              "ticks": ""
             }
            },
            "type": "scattermapbox"
           }
          ],
          "scatterpolar": [
           {
            "marker": {
             "colorbar": {
              "outlinewidth": 0,
              "ticks": ""
             }
            },
            "type": "scatterpolar"
           }
          ],
          "scatterpolargl": [
           {
            "marker": {
             "colorbar": {
              "outlinewidth": 0,
              "ticks": ""
             }
            },
            "type": "scatterpolargl"
           }
          ],
          "scatterternary": [
           {
            "marker": {
             "colorbar": {
              "outlinewidth": 0,
              "ticks": ""
             }
            },
            "type": "scatterternary"
           }
          ],
          "surface": [
           {
            "colorbar": {
             "outlinewidth": 0,
             "ticks": ""
            },
            "colorscale": [
             [
              0,
              "#0d0887"
             ],
             [
              0.1111111111111111,
              "#46039f"
             ],
             [
              0.2222222222222222,
              "#7201a8"
             ],
             [
              0.3333333333333333,
              "#9c179e"
             ],
             [
              0.4444444444444444,
              "#bd3786"
             ],
             [
              0.5555555555555556,
              "#d8576b"
             ],
             [
              0.6666666666666666,
              "#ed7953"
             ],
             [
              0.7777777777777778,
              "#fb9f3a"
             ],
             [
              0.8888888888888888,
              "#fdca26"
             ],
             [
              1,
              "#f0f921"
             ]
            ],
            "type": "surface"
           }
          ],
          "table": [
           {
            "cells": {
             "fill": {
              "color": "#EBF0F8"
             },
             "line": {
              "color": "white"
             }
            },
            "header": {
             "fill": {
              "color": "#C8D4E3"
             },
             "line": {
              "color": "white"
             }
            },
            "type": "table"
           }
          ]
         },
         "layout": {
          "annotationdefaults": {
           "arrowcolor": "#2a3f5f",
           "arrowhead": 0,
           "arrowwidth": 1
          },
          "autotypenumbers": "strict",
          "coloraxis": {
           "colorbar": {
            "outlinewidth": 0,
            "ticks": ""
           }
          },
          "colorscale": {
           "diverging": [
            [
             0,
             "#8e0152"
            ],
            [
             0.1,
             "#c51b7d"
            ],
            [
             0.2,
             "#de77ae"
            ],
            [
             0.3,
             "#f1b6da"
            ],
            [
             0.4,
             "#fde0ef"
            ],
            [
             0.5,
             "#f7f7f7"
            ],
            [
             0.6,
             "#e6f5d0"
            ],
            [
             0.7,
             "#b8e186"
            ],
            [
             0.8,
             "#7fbc41"
            ],
            [
             0.9,
             "#4d9221"
            ],
            [
             1,
             "#276419"
            ]
           ],
           "sequential": [
            [
             0,
             "#0d0887"
            ],
            [
             0.1111111111111111,
             "#46039f"
            ],
            [
             0.2222222222222222,
             "#7201a8"
            ],
            [
             0.3333333333333333,
             "#9c179e"
            ],
            [
             0.4444444444444444,
             "#bd3786"
            ],
            [
             0.5555555555555556,
             "#d8576b"
            ],
            [
             0.6666666666666666,
             "#ed7953"
            ],
            [
             0.7777777777777778,
             "#fb9f3a"
            ],
            [
             0.8888888888888888,
             "#fdca26"
            ],
            [
             1,
             "#f0f921"
            ]
           ],
           "sequentialminus": [
            [
             0,
             "#0d0887"
            ],
            [
             0.1111111111111111,
             "#46039f"
            ],
            [
             0.2222222222222222,
             "#7201a8"
            ],
            [
             0.3333333333333333,
             "#9c179e"
            ],
            [
             0.4444444444444444,
             "#bd3786"
            ],
            [
             0.5555555555555556,
             "#d8576b"
            ],
            [
             0.6666666666666666,
             "#ed7953"
            ],
            [
             0.7777777777777778,
             "#fb9f3a"
            ],
            [
             0.8888888888888888,
             "#fdca26"
            ],
            [
             1,
             "#f0f921"
            ]
           ]
          },
          "colorway": [
           "#636efa",
           "#EF553B",
           "#00cc96",
           "#ab63fa",
           "#FFA15A",
           "#19d3f3",
           "#FF6692",
           "#B6E880",
           "#FF97FF",
           "#FECB52"
          ],
          "font": {
           "color": "#2a3f5f"
          },
          "geo": {
           "bgcolor": "white",
           "lakecolor": "white",
           "landcolor": "#E5ECF6",
           "showlakes": true,
           "showland": true,
           "subunitcolor": "white"
          },
          "hoverlabel": {
           "align": "left"
          },
          "hovermode": "closest",
          "mapbox": {
           "style": "light"
          },
          "paper_bgcolor": "white",
          "plot_bgcolor": "#E5ECF6",
          "polar": {
           "angularaxis": {
            "gridcolor": "white",
            "linecolor": "white",
            "ticks": ""
           },
           "bgcolor": "#E5ECF6",
           "radialaxis": {
            "gridcolor": "white",
            "linecolor": "white",
            "ticks": ""
           }
          },
          "scene": {
           "xaxis": {
            "backgroundcolor": "#E5ECF6",
            "gridcolor": "white",
            "gridwidth": 2,
            "linecolor": "white",
            "showbackground": true,
            "ticks": "",
            "zerolinecolor": "white"
           },
           "yaxis": {
            "backgroundcolor": "#E5ECF6",
            "gridcolor": "white",
            "gridwidth": 2,
            "linecolor": "white",
            "showbackground": true,
            "ticks": "",
            "zerolinecolor": "white"
           },
           "zaxis": {
            "backgroundcolor": "#E5ECF6",
            "gridcolor": "white",
            "gridwidth": 2,
            "linecolor": "white",
            "showbackground": true,
            "ticks": "",
            "zerolinecolor": "white"
           }
          },
          "shapedefaults": {
           "line": {
            "color": "#2a3f5f"
           }
          },
          "ternary": {
           "aaxis": {
            "gridcolor": "white",
            "linecolor": "white",
            "ticks": ""
           },
           "baxis": {
            "gridcolor": "white",
            "linecolor": "white",
            "ticks": ""
           },
           "bgcolor": "#E5ECF6",
           "caxis": {
            "gridcolor": "white",
            "linecolor": "white",
            "ticks": ""
           }
          },
          "title": {
           "x": 0.05
          },
          "xaxis": {
           "automargin": true,
           "gridcolor": "white",
           "linecolor": "white",
           "ticks": "",
           "title": {
            "standoff": 15
           },
           "zerolinecolor": "white",
           "zerolinewidth": 2
          },
          "yaxis": {
           "automargin": true,
           "gridcolor": "white",
           "linecolor": "white",
           "ticks": "",
           "title": {
            "standoff": 15
           },
           "zerolinecolor": "white",
           "zerolinewidth": 2
          }
         }
        },
        "title": {
         "text": "Realtor.ca NaN Count"
        },
        "xaxis": {
         "anchor": "y",
         "domain": [
          0,
          1
         ],
         "title": {
          "text": "Features"
         }
        },
        "yaxis": {
         "anchor": "x",
         "domain": [
          0,
          1
         ],
         "title": {
          "text": "# of NaN values"
         }
        }
       }
      }
     },
     "metadata": {},
     "output_type": "display_data"
    },
    {
     "data": {
      "application/vnd.plotly.v1+json": {
       "config": {
        "plotlyServerURL": "https://plot.ly"
       },
       "data": [
        {
         "alignmentgroup": "True",
         "hovertemplate": "variable=0<br>Features=%{x}<br># of NaN values=%{y}<extra></extra>",
         "legendgroup": "0",
         "marker": {
          "color": "#636efa",
          "pattern": {
           "shape": ""
          }
         },
         "name": "0",
         "offsetgroup": "0",
         "orientation": "v",
         "showlegend": true,
         "textposition": "auto",
         "type": "bar",
         "x": [
          "price",
          "bedrooms",
          "bedrooms_partial",
          "bathrooms",
          "bathrooms_partial",
          "square_footage_min",
          "square_footage_max",
          "parking",
          "type",
          "garage_type",
          "exterior",
          "driveway_type",
          "basement_type",
          "features",
          "levels",
          "rooms_total",
          "desc"
         ],
         "xaxis": "x",
         "y": [
          0,
          0,
          2054,
          0,
          3841,
          857,
          784,
          12,
          2,
          6,
          19,
          2642,
          27,
          93,
          1,
          283,
          8
         ],
         "yaxis": "y"
        }
       ],
       "layout": {
        "barmode": "relative",
        "legend": {
         "title": {
          "text": "variable"
         },
         "tracegroupgap": 0
        },
        "showlegend": false,
        "template": {
         "data": {
          "bar": [
           {
            "error_x": {
             "color": "#2a3f5f"
            },
            "error_y": {
             "color": "#2a3f5f"
            },
            "marker": {
             "line": {
              "color": "#E5ECF6",
              "width": 0.5
             },
             "pattern": {
              "fillmode": "overlay",
              "size": 10,
              "solidity": 0.2
             }
            },
            "type": "bar"
           }
          ],
          "barpolar": [
           {
            "marker": {
             "line": {
              "color": "#E5ECF6",
              "width": 0.5
             },
             "pattern": {
              "fillmode": "overlay",
              "size": 10,
              "solidity": 0.2
             }
            },
            "type": "barpolar"
           }
          ],
          "carpet": [
           {
            "aaxis": {
             "endlinecolor": "#2a3f5f",
             "gridcolor": "white",
             "linecolor": "white",
             "minorgridcolor": "white",
             "startlinecolor": "#2a3f5f"
            },
            "baxis": {
             "endlinecolor": "#2a3f5f",
             "gridcolor": "white",
             "linecolor": "white",
             "minorgridcolor": "white",
             "startlinecolor": "#2a3f5f"
            },
            "type": "carpet"
           }
          ],
          "choropleth": [
           {
            "colorbar": {
             "outlinewidth": 0,
             "ticks": ""
            },
            "type": "choropleth"
           }
          ],
          "contour": [
           {
            "colorbar": {
             "outlinewidth": 0,
             "ticks": ""
            },
            "colorscale": [
             [
              0,
              "#0d0887"
             ],
             [
              0.1111111111111111,
              "#46039f"
             ],
             [
              0.2222222222222222,
              "#7201a8"
             ],
             [
              0.3333333333333333,
              "#9c179e"
             ],
             [
              0.4444444444444444,
              "#bd3786"
             ],
             [
              0.5555555555555556,
              "#d8576b"
             ],
             [
              0.6666666666666666,
              "#ed7953"
             ],
             [
              0.7777777777777778,
              "#fb9f3a"
             ],
             [
              0.8888888888888888,
              "#fdca26"
             ],
             [
              1,
              "#f0f921"
             ]
            ],
            "type": "contour"
           }
          ],
          "contourcarpet": [
           {
            "colorbar": {
             "outlinewidth": 0,
             "ticks": ""
            },
            "type": "contourcarpet"
           }
          ],
          "heatmap": [
           {
            "colorbar": {
             "outlinewidth": 0,
             "ticks": ""
            },
            "colorscale": [
             [
              0,
              "#0d0887"
             ],
             [
              0.1111111111111111,
              "#46039f"
             ],
             [
              0.2222222222222222,
              "#7201a8"
             ],
             [
              0.3333333333333333,
              "#9c179e"
             ],
             [
              0.4444444444444444,
              "#bd3786"
             ],
             [
              0.5555555555555556,
              "#d8576b"
             ],
             [
              0.6666666666666666,
              "#ed7953"
             ],
             [
              0.7777777777777778,
              "#fb9f3a"
             ],
             [
              0.8888888888888888,
              "#fdca26"
             ],
             [
              1,
              "#f0f921"
             ]
            ],
            "type": "heatmap"
           }
          ],
          "heatmapgl": [
           {
            "colorbar": {
             "outlinewidth": 0,
             "ticks": ""
            },
            "colorscale": [
             [
              0,
              "#0d0887"
             ],
             [
              0.1111111111111111,
              "#46039f"
             ],
             [
              0.2222222222222222,
              "#7201a8"
             ],
             [
              0.3333333333333333,
              "#9c179e"
             ],
             [
              0.4444444444444444,
              "#bd3786"
             ],
             [
              0.5555555555555556,
              "#d8576b"
             ],
             [
              0.6666666666666666,
              "#ed7953"
             ],
             [
              0.7777777777777778,
              "#fb9f3a"
             ],
             [
              0.8888888888888888,
              "#fdca26"
             ],
             [
              1,
              "#f0f921"
             ]
            ],
            "type": "heatmapgl"
           }
          ],
          "histogram": [
           {
            "marker": {
             "pattern": {
              "fillmode": "overlay",
              "size": 10,
              "solidity": 0.2
             }
            },
            "type": "histogram"
           }
          ],
          "histogram2d": [
           {
            "colorbar": {
             "outlinewidth": 0,
             "ticks": ""
            },
            "colorscale": [
             [
              0,
              "#0d0887"
             ],
             [
              0.1111111111111111,
              "#46039f"
             ],
             [
              0.2222222222222222,
              "#7201a8"
             ],
             [
              0.3333333333333333,
              "#9c179e"
             ],
             [
              0.4444444444444444,
              "#bd3786"
             ],
             [
              0.5555555555555556,
              "#d8576b"
             ],
             [
              0.6666666666666666,
              "#ed7953"
             ],
             [
              0.7777777777777778,
              "#fb9f3a"
             ],
             [
              0.8888888888888888,
              "#fdca26"
             ],
             [
              1,
              "#f0f921"
             ]
            ],
            "type": "histogram2d"
           }
          ],
          "histogram2dcontour": [
           {
            "colorbar": {
             "outlinewidth": 0,
             "ticks": ""
            },
            "colorscale": [
             [
              0,
              "#0d0887"
             ],
             [
              0.1111111111111111,
              "#46039f"
             ],
             [
              0.2222222222222222,
              "#7201a8"
             ],
             [
              0.3333333333333333,
              "#9c179e"
             ],
             [
              0.4444444444444444,
              "#bd3786"
             ],
             [
              0.5555555555555556,
              "#d8576b"
             ],
             [
              0.6666666666666666,
              "#ed7953"
             ],
             [
              0.7777777777777778,
              "#fb9f3a"
             ],
             [
              0.8888888888888888,
              "#fdca26"
             ],
             [
              1,
              "#f0f921"
             ]
            ],
            "type": "histogram2dcontour"
           }
          ],
          "mesh3d": [
           {
            "colorbar": {
             "outlinewidth": 0,
             "ticks": ""
            },
            "type": "mesh3d"
           }
          ],
          "parcoords": [
           {
            "line": {
             "colorbar": {
              "outlinewidth": 0,
              "ticks": ""
             }
            },
            "type": "parcoords"
           }
          ],
          "pie": [
           {
            "automargin": true,
            "type": "pie"
           }
          ],
          "scatter": [
           {
            "fillpattern": {
             "fillmode": "overlay",
             "size": 10,
             "solidity": 0.2
            },
            "type": "scatter"
           }
          ],
          "scatter3d": [
           {
            "line": {
             "colorbar": {
              "outlinewidth": 0,
              "ticks": ""
             }
            },
            "marker": {
             "colorbar": {
              "outlinewidth": 0,
              "ticks": ""
             }
            },
            "type": "scatter3d"
           }
          ],
          "scattercarpet": [
           {
            "marker": {
             "colorbar": {
              "outlinewidth": 0,
              "ticks": ""
             }
            },
            "type": "scattercarpet"
           }
          ],
          "scattergeo": [
           {
            "marker": {
             "colorbar": {
              "outlinewidth": 0,
              "ticks": ""
             }
            },
            "type": "scattergeo"
           }
          ],
          "scattergl": [
           {
            "marker": {
             "colorbar": {
              "outlinewidth": 0,
              "ticks": ""
             }
            },
            "type": "scattergl"
           }
          ],
          "scattermapbox": [
           {
            "marker": {
             "colorbar": {
              "outlinewidth": 0,
              "ticks": ""
             }
            },
            "type": "scattermapbox"
           }
          ],
          "scatterpolar": [
           {
            "marker": {
             "colorbar": {
              "outlinewidth": 0,
              "ticks": ""
             }
            },
            "type": "scatterpolar"
           }
          ],
          "scatterpolargl": [
           {
            "marker": {
             "colorbar": {
              "outlinewidth": 0,
              "ticks": ""
             }
            },
            "type": "scatterpolargl"
           }
          ],
          "scatterternary": [
           {
            "marker": {
             "colorbar": {
              "outlinewidth": 0,
              "ticks": ""
             }
            },
            "type": "scatterternary"
           }
          ],
          "surface": [
           {
            "colorbar": {
             "outlinewidth": 0,
             "ticks": ""
            },
            "colorscale": [
             [
              0,
              "#0d0887"
             ],
             [
              0.1111111111111111,
              "#46039f"
             ],
             [
              0.2222222222222222,
              "#7201a8"
             ],
             [
              0.3333333333333333,
              "#9c179e"
             ],
             [
              0.4444444444444444,
              "#bd3786"
             ],
             [
              0.5555555555555556,
              "#d8576b"
             ],
             [
              0.6666666666666666,
              "#ed7953"
             ],
             [
              0.7777777777777778,
              "#fb9f3a"
             ],
             [
              0.8888888888888888,
              "#fdca26"
             ],
             [
              1,
              "#f0f921"
             ]
            ],
            "type": "surface"
           }
          ],
          "table": [
           {
            "cells": {
             "fill": {
              "color": "#EBF0F8"
             },
             "line": {
              "color": "white"
             }
            },
            "header": {
             "fill": {
              "color": "#C8D4E3"
             },
             "line": {
              "color": "white"
             }
            },
            "type": "table"
           }
          ]
         },
         "layout": {
          "annotationdefaults": {
           "arrowcolor": "#2a3f5f",
           "arrowhead": 0,
           "arrowwidth": 1
          },
          "autotypenumbers": "strict",
          "coloraxis": {
           "colorbar": {
            "outlinewidth": 0,
            "ticks": ""
           }
          },
          "colorscale": {
           "diverging": [
            [
             0,
             "#8e0152"
            ],
            [
             0.1,
             "#c51b7d"
            ],
            [
             0.2,
             "#de77ae"
            ],
            [
             0.3,
             "#f1b6da"
            ],
            [
             0.4,
             "#fde0ef"
            ],
            [
             0.5,
             "#f7f7f7"
            ],
            [
             0.6,
             "#e6f5d0"
            ],
            [
             0.7,
             "#b8e186"
            ],
            [
             0.8,
             "#7fbc41"
            ],
            [
             0.9,
             "#4d9221"
            ],
            [
             1,
             "#276419"
            ]
           ],
           "sequential": [
            [
             0,
             "#0d0887"
            ],
            [
             0.1111111111111111,
             "#46039f"
            ],
            [
             0.2222222222222222,
             "#7201a8"
            ],
            [
             0.3333333333333333,
             "#9c179e"
            ],
            [
             0.4444444444444444,
             "#bd3786"
            ],
            [
             0.5555555555555556,
             "#d8576b"
            ],
            [
             0.6666666666666666,
             "#ed7953"
            ],
            [
             0.7777777777777778,
             "#fb9f3a"
            ],
            [
             0.8888888888888888,
             "#fdca26"
            ],
            [
             1,
             "#f0f921"
            ]
           ],
           "sequentialminus": [
            [
             0,
             "#0d0887"
            ],
            [
             0.1111111111111111,
             "#46039f"
            ],
            [
             0.2222222222222222,
             "#7201a8"
            ],
            [
             0.3333333333333333,
             "#9c179e"
            ],
            [
             0.4444444444444444,
             "#bd3786"
            ],
            [
             0.5555555555555556,
             "#d8576b"
            ],
            [
             0.6666666666666666,
             "#ed7953"
            ],
            [
             0.7777777777777778,
             "#fb9f3a"
            ],
            [
             0.8888888888888888,
             "#fdca26"
            ],
            [
             1,
             "#f0f921"
            ]
           ]
          },
          "colorway": [
           "#636efa",
           "#EF553B",
           "#00cc96",
           "#ab63fa",
           "#FFA15A",
           "#19d3f3",
           "#FF6692",
           "#B6E880",
           "#FF97FF",
           "#FECB52"
          ],
          "font": {
           "color": "#2a3f5f"
          },
          "geo": {
           "bgcolor": "white",
           "lakecolor": "white",
           "landcolor": "#E5ECF6",
           "showlakes": true,
           "showland": true,
           "subunitcolor": "white"
          },
          "hoverlabel": {
           "align": "left"
          },
          "hovermode": "closest",
          "mapbox": {
           "style": "light"
          },
          "paper_bgcolor": "white",
          "plot_bgcolor": "#E5ECF6",
          "polar": {
           "angularaxis": {
            "gridcolor": "white",
            "linecolor": "white",
            "ticks": ""
           },
           "bgcolor": "#E5ECF6",
           "radialaxis": {
            "gridcolor": "white",
            "linecolor": "white",
            "ticks": ""
           }
          },
          "scene": {
           "xaxis": {
            "backgroundcolor": "#E5ECF6",
            "gridcolor": "white",
            "gridwidth": 2,
            "linecolor": "white",
            "showbackground": true,
            "ticks": "",
            "zerolinecolor": "white"
           },
           "yaxis": {
            "backgroundcolor": "#E5ECF6",
            "gridcolor": "white",
            "gridwidth": 2,
            "linecolor": "white",
            "showbackground": true,
            "ticks": "",
            "zerolinecolor": "white"
           },
           "zaxis": {
            "backgroundcolor": "#E5ECF6",
            "gridcolor": "white",
            "gridwidth": 2,
            "linecolor": "white",
            "showbackground": true,
            "ticks": "",
            "zerolinecolor": "white"
           }
          },
          "shapedefaults": {
           "line": {
            "color": "#2a3f5f"
           }
          },
          "ternary": {
           "aaxis": {
            "gridcolor": "white",
            "linecolor": "white",
            "ticks": ""
           },
           "baxis": {
            "gridcolor": "white",
            "linecolor": "white",
            "ticks": ""
           },
           "bgcolor": "#E5ECF6",
           "caxis": {
            "gridcolor": "white",
            "linecolor": "white",
            "ticks": ""
           }
          },
          "title": {
           "x": 0.05
          },
          "xaxis": {
           "automargin": true,
           "gridcolor": "white",
           "linecolor": "white",
           "ticks": "",
           "title": {
            "standoff": 15
           },
           "zerolinecolor": "white",
           "zerolinewidth": 2
          },
          "yaxis": {
           "automargin": true,
           "gridcolor": "white",
           "linecolor": "white",
           "ticks": "",
           "title": {
            "standoff": 15
           },
           "zerolinecolor": "white",
           "zerolinewidth": 2
          }
         }
        },
        "title": {
         "text": "Zoocasa NaN Count"
        },
        "xaxis": {
         "anchor": "y",
         "domain": [
          0,
          1
         ],
         "title": {
          "text": "Features"
         }
        },
        "yaxis": {
         "anchor": "x",
         "domain": [
          0,
          1
         ],
         "title": {
          "text": "# of NaN values"
         }
        }
       }
      }
     },
     "metadata": {},
     "output_type": "display_data"
    }
   ],
   "source": [
    "# Realtor.ca\n",
    "fig = px.bar(\n",
    "    data_frame=realtor[r_potential_features].isna().sum(), \n",
    "    labels={'value': '# of NaN values', 'index': 'Features'},\n",
    "    title=\"Realtor.ca NaN Count\"\n",
    ")\n",
    "fig.update_layout(showlegend=False)\n",
    "fig.show()\n",
    "\n",
    "# Zoocasa\n",
    "fig = px.bar(\n",
    "    data_frame=zoocasa[z_potential_features].isna().sum(), \n",
    "    labels={'value': '# of NaN values', 'index': 'Features'},\n",
    "    title=\"Zoocasa NaN Count\"\n",
    ")\n",
    "fig.update_layout(showlegend=False)\n",
    "fig.show()"
   ]
  },
  {
   "attachments": {},
   "cell_type": "markdown",
   "metadata": {},
   "source": [
    "Realtor.ca is missing almost all of its parking data, as well as its levels and architectural style. These are pretty essential for my model. As for the square footage, it is pretty similar for both sets of data. From this alone, I have chosen to use the Zoocasa data"
   ]
  },
  {
   "cell_type": "code",
   "execution_count": 41,
   "metadata": {},
   "outputs": [],
   "source": [
    "# Second Zoocasa dataset, partially scraped 9 days after the first one.\n",
    "zoocasa_2 = pd.read_csv('data/zoocasa-jan26.csv', parse_dates=['added_at'])\n",
    "zoocasa_2['rooms_total'].replace(0.0, np.nan, inplace=True)"
   ]
  },
  {
   "cell_type": "code",
   "execution_count": 42,
   "metadata": {},
   "outputs": [
    {
     "data": {
      "text/plain": [
       "'Second scrape added: 485 listings'"
      ]
     },
     "execution_count": 42,
     "metadata": {},
     "output_type": "execute_result"
    }
   ],
   "source": [
    "zoocasa_concat = pd.concat([zoocasa, zoocasa_2], axis=0)\n",
    "zoocasa_concat.drop_duplicates(subset='mls_num', keep='first', inplace=True)\n",
    "zoocasa_concat.reset_index(drop=True, inplace=True)\n",
    "f\"Second scrape added: {zoocasa_concat.shape[0] - zoocasa.shape[0]} listings\""
   ]
  },
  {
   "cell_type": "code",
   "execution_count": 43,
   "metadata": {},
   "outputs": [],
   "source": [
    "# Removing all listings added before 2022, not relevant\n",
    "df = zoocasa_concat[(zoocasa_concat['added_at'].dt.year == 2022) | (zoocasa_concat['added_at'].dt.year == 2023)]"
   ]
  },
  {
   "cell_type": "code",
   "execution_count": 44,
   "metadata": {},
   "outputs": [],
   "source": [
    "df = df[~df['square_footage_max'].isna() & ~df['square_footage_min'].isna()]\n",
    "df = df[~df['rooms_total'].isna()]"
   ]
  },
  {
   "cell_type": "code",
   "execution_count": 45,
   "metadata": {},
   "outputs": [],
   "source": [
    "df['fsa'] = df['postal_code'].str.slice(0,3)\n",
    "df['bedrooms_partial'] = df['bedrooms_partial'].fillna(0)"
   ]
  },
  {
   "cell_type": "code",
   "execution_count": 46,
   "metadata": {},
   "outputs": [
    {
     "data": {
      "text/plain": [
       "array(['M9M', 'M5A', 'M8V', 'M4S', 'M6M', 'M5S', 'M4Y', 'M1G', 'M4P',\n",
       "       'M8Y', '000', 'M6P', 'M6E', 'M4V', 'M1E', 'M4L', 'M8X', 'M6K',\n",
       "       'M2J', 'M5P', 'M5V', 'M4C', 'M1W', 'M5E', 'M1P', 'M9N', 'M2N',\n",
       "       'M3A', 'M5R', 'M9R', 'M2R', 'M1M', 'M2M', 'M9V', 'M5J', 'M4W',\n",
       "       'M1S', 'M4E', 'M6L', 'M6N', 'M6C', 'M9B', 'M3C', 'M1K', 'M3N',\n",
       "       'M6B', 'M1B', 'M1J', 'M8Z', 'M9A', 'M6R', 'M1R', 'M3M', 'M8W',\n",
       "       'M5M', 'M5G', 'M5T', 'M5B', 'M5C', 'M6J', 'M2H', 'M9C', 'M3J',\n",
       "       'M2K', 'M6H', 'M3H', 'M4N', 'M4A', 'M9L', 'M6S', 'M4G', 'M6G',\n",
       "       'M1N', 'M6A', 'M3K', 'M4K', 'M2P', 'M9W', 'M1T', 'M1V', 'M2L',\n",
       "       'M1H', 'M4M', 'M3B', 'M5H', 'M1L', 'M9P', 'M5N', 'M4R', 'M1C',\n",
       "       'M2S', 'M4T', 'M4B', 'M4H', 'M4J', 'M4X', 'M1X', 'L4J', 'TBA',\n",
       "       'M3L', 'XXX', 'L9J', 'M2E', 'L1T', 'L9Y'], dtype=object)"
      ]
     },
     "execution_count": 46,
     "metadata": {},
     "output_type": "execute_result"
    }
   ],
   "source": [
    "df['fsa'].unique()"
   ]
  },
  {
   "cell_type": "code",
   "execution_count": 47,
   "metadata": {},
   "outputs": [],
   "source": [
    "df = df[df['fsa'] != 'XXX']"
   ]
  },
  {
   "cell_type": "code",
   "execution_count": 48,
   "metadata": {},
   "outputs": [
    {
     "data": {
      "text/html": [
       "<div>\n",
       "<style scoped>\n",
       "    .dataframe tbody tr th:only-of-type {\n",
       "        vertical-align: middle;\n",
       "    }\n",
       "\n",
       "    .dataframe tbody tr th {\n",
       "        vertical-align: top;\n",
       "    }\n",
       "\n",
       "    .dataframe thead th {\n",
       "        text-align: right;\n",
       "    }\n",
       "</style>\n",
       "<table border=\"1\" class=\"dataframe\">\n",
       "  <thead>\n",
       "    <tr style=\"text-align: right;\">\n",
       "      <th></th>\n",
       "      <th>price</th>\n",
       "      <th>bedrooms</th>\n",
       "      <th>bedrooms_partial</th>\n",
       "      <th>bathrooms</th>\n",
       "      <th>bathrooms_partial</th>\n",
       "      <th>square_footage_min</th>\n",
       "      <th>square_footage_max</th>\n",
       "      <th>parking</th>\n",
       "      <th>rooms_total</th>\n",
       "    </tr>\n",
       "  </thead>\n",
       "  <tbody>\n",
       "    <tr>\n",
       "      <th>count</th>\n",
       "      <td>3.147000e+03</td>\n",
       "      <td>3147.000000</td>\n",
       "      <td>3147.000000</td>\n",
       "      <td>3147.000000</td>\n",
       "      <td>4.00</td>\n",
       "      <td>3147.000000</td>\n",
       "      <td>3147.000000</td>\n",
       "      <td>3143.000000</td>\n",
       "      <td>3147.000000</td>\n",
       "    </tr>\n",
       "    <tr>\n",
       "      <th>mean</th>\n",
       "      <td>1.073980e+06</td>\n",
       "      <td>1.935176</td>\n",
       "      <td>0.464887</td>\n",
       "      <td>1.959009</td>\n",
       "      <td>0.25</td>\n",
       "      <td>1027.281220</td>\n",
       "      <td>1250.650143</td>\n",
       "      <td>1.535635</td>\n",
       "      <td>6.276772</td>\n",
       "    </tr>\n",
       "    <tr>\n",
       "      <th>std</th>\n",
       "      <td>9.484472e+05</td>\n",
       "      <td>1.008038</td>\n",
       "      <td>0.584519</td>\n",
       "      <td>1.088534</td>\n",
       "      <td>0.50</td>\n",
       "      <td>702.009717</td>\n",
       "      <td>866.576028</td>\n",
       "      <td>13.159508</td>\n",
       "      <td>2.196044</td>\n",
       "    </tr>\n",
       "    <tr>\n",
       "      <th>min</th>\n",
       "      <td>1.000000e+00</td>\n",
       "      <td>0.000000</td>\n",
       "      <td>0.000000</td>\n",
       "      <td>1.000000</td>\n",
       "      <td>0.00</td>\n",
       "      <td>0.000000</td>\n",
       "      <td>499.000000</td>\n",
       "      <td>0.000000</td>\n",
       "      <td>1.000000</td>\n",
       "    </tr>\n",
       "    <tr>\n",
       "      <th>25%</th>\n",
       "      <td>6.194440e+05</td>\n",
       "      <td>1.000000</td>\n",
       "      <td>0.000000</td>\n",
       "      <td>1.000000</td>\n",
       "      <td>0.00</td>\n",
       "      <td>600.000000</td>\n",
       "      <td>699.000000</td>\n",
       "      <td>1.000000</td>\n",
       "      <td>5.000000</td>\n",
       "    </tr>\n",
       "    <tr>\n",
       "      <th>50%</th>\n",
       "      <td>7.589000e+05</td>\n",
       "      <td>2.000000</td>\n",
       "      <td>0.000000</td>\n",
       "      <td>2.000000</td>\n",
       "      <td>0.00</td>\n",
       "      <td>900.000000</td>\n",
       "      <td>999.000000</td>\n",
       "      <td>1.000000</td>\n",
       "      <td>6.000000</td>\n",
       "    </tr>\n",
       "    <tr>\n",
       "      <th>75%</th>\n",
       "      <td>1.139000e+06</td>\n",
       "      <td>2.000000</td>\n",
       "      <td>1.000000</td>\n",
       "      <td>2.000000</td>\n",
       "      <td>0.25</td>\n",
       "      <td>1200.000000</td>\n",
       "      <td>1399.000000</td>\n",
       "      <td>1.000000</td>\n",
       "      <td>7.000000</td>\n",
       "    </tr>\n",
       "    <tr>\n",
       "      <th>max</th>\n",
       "      <td>1.777500e+07</td>\n",
       "      <td>9.000000</td>\n",
       "      <td>5.000000</td>\n",
       "      <td>8.000000</td>\n",
       "      <td>1.00</td>\n",
       "      <td>4750.000000</td>\n",
       "      <td>5000.000000</td>\n",
       "      <td>706.000000</td>\n",
       "      <td>13.000000</td>\n",
       "    </tr>\n",
       "  </tbody>\n",
       "</table>\n",
       "</div>"
      ],
      "text/plain": [
       "              price     bedrooms  bedrooms_partial    bathrooms  \\\n",
       "count  3.147000e+03  3147.000000       3147.000000  3147.000000   \n",
       "mean   1.073980e+06     1.935176          0.464887     1.959009   \n",
       "std    9.484472e+05     1.008038          0.584519     1.088534   \n",
       "min    1.000000e+00     0.000000          0.000000     1.000000   \n",
       "25%    6.194440e+05     1.000000          0.000000     1.000000   \n",
       "50%    7.589000e+05     2.000000          0.000000     2.000000   \n",
       "75%    1.139000e+06     2.000000          1.000000     2.000000   \n",
       "max    1.777500e+07     9.000000          5.000000     8.000000   \n",
       "\n",
       "       bathrooms_partial  square_footage_min  square_footage_max      parking  \\\n",
       "count               4.00         3147.000000         3147.000000  3143.000000   \n",
       "mean                0.25         1027.281220         1250.650143     1.535635   \n",
       "std                 0.50          702.009717          866.576028    13.159508   \n",
       "min                 0.00            0.000000          499.000000     0.000000   \n",
       "25%                 0.00          600.000000          699.000000     1.000000   \n",
       "50%                 0.00          900.000000          999.000000     1.000000   \n",
       "75%                 0.25         1200.000000         1399.000000     1.000000   \n",
       "max                 1.00         4750.000000         5000.000000   706.000000   \n",
       "\n",
       "       rooms_total  \n",
       "count  3147.000000  \n",
       "mean      6.276772  \n",
       "std       2.196044  \n",
       "min       1.000000  \n",
       "25%       5.000000  \n",
       "50%       6.000000  \n",
       "75%       7.000000  \n",
       "max      13.000000  "
      ]
     },
     "execution_count": 48,
     "metadata": {},
     "output_type": "execute_result"
    }
   ],
   "source": [
    "df.loc[:,~df.columns.isin(['id', 'bathrooms_partials', 'bedrooms_partials', 'lat', 'lon', 'neighbourhood_id'])].describe()"
   ]
  },
  {
   "attachments": {},
   "cell_type": "markdown",
   "metadata": {},
   "source": [
    "The parking maximum is way too high and the minimum price is far too low. So I will have to clean those up"
   ]
  },
  {
   "cell_type": "code",
   "execution_count": 49,
   "metadata": {},
   "outputs": [
    {
     "data": {
      "text/plain": [
       "count    3139.000000\n",
       "mean        1.207232\n",
       "std         1.296223\n",
       "min         0.000000\n",
       "25%         1.000000\n",
       "50%         1.000000\n",
       "75%         1.000000\n",
       "max        12.000000\n",
       "Name: parking, dtype: float64"
      ]
     },
     "execution_count": 49,
     "metadata": {},
     "output_type": "execute_result"
    }
   ],
   "source": [
    "# deleting any parking number that is above 3 standard deviations from the mean. \n",
    "# There are no negative \"parking spots\" so I only need to check in the positive direction\n",
    "df = df[df['parking'] < (df['parking'].describe()['std']*3 + df['parking'].describe()['mean'])]\n",
    "df['parking'].describe()"
   ]
  },
  {
   "cell_type": "code",
   "execution_count": 50,
   "metadata": {},
   "outputs": [
    {
     "data": {
      "text/plain": [
       "count    3.135000e+03\n",
       "mean     1.076010e+06\n",
       "std      9.493386e+05\n",
       "min      2.340000e+05\n",
       "25%      6.199000e+05\n",
       "50%      7.590000e+05\n",
       "75%      1.142400e+06\n",
       "max      1.777500e+07\n",
       "Name: price, dtype: float64"
      ]
     },
     "execution_count": 50,
     "metadata": {},
     "output_type": "execute_result"
    }
   ],
   "source": [
    "# I just kind of arbitrarily decided that any property under $200 000 in Toronto is an outlier\n",
    "df = df[df['price'] > 200000]\n",
    "df['price'].describe()"
   ]
  },
  {
   "cell_type": "code",
   "execution_count": 51,
   "metadata": {},
   "outputs": [
    {
     "data": {
      "text/plain": [
       "'# of Valid Rows: 3135'"
      ]
     },
     "execution_count": 51,
     "metadata": {},
     "output_type": "execute_result"
    }
   ],
   "source": [
    "f\"# of Valid Rows: {df.shape[0]}\""
   ]
  },
  {
   "attachments": {},
   "cell_type": "markdown",
   "metadata": {},
   "source": [
    "## Grouping Common Values\n",
    "For the textual portions of the data, a lot of the categories can be grouped together. I will be looking at the unique values in a couple different columns and grouping them together if they are similar enough / they are not confounding."
   ]
  },
  {
   "cell_type": "code",
   "execution_count": 52,
   "metadata": {},
   "outputs": [
    {
     "data": {
      "text/plain": [
       "Condo Apt             2409\n",
       "Detached               272\n",
       "Condo Townhouse        223\n",
       "Comm Element Condo      77\n",
       "Semi-Detached           60\n",
       "Att/Row/Twnhouse        40\n",
       "Co-Op Apt               15\n",
       "Co-Ownership Apt        11\n",
       "Leasehold Condo          8\n",
       "Triplex                  5\n",
       "Duplex                   4\n",
       "Multiplex                3\n",
       "Store W/Apt/Offc         2\n",
       "Attached                 2\n",
       "Link                     1\n",
       "Fourplex                 1\n",
       "Det Condo                1\n",
       "Name: type, dtype: int64"
      ]
     },
     "execution_count": 52,
     "metadata": {},
     "output_type": "execute_result"
    }
   ],
   "source": [
    "df['type'].value_counts()"
   ]
  },
  {
   "cell_type": "code",
   "execution_count": 53,
   "metadata": {},
   "outputs": [
    {
     "data": {
      "text/plain": [
       "Condo Apt           2487\n",
       "Detached             272\n",
       "Condo Townhouse      223\n",
       "Semi-Detached         60\n",
       "Att/Row/Twnhouse      40\n",
       "Co-Op Apt             26\n",
       "Multiplex             13\n",
       "Leasehold Condo        8\n",
       "Attached               2\n",
       "Name: type, dtype: int64"
      ]
     },
     "execution_count": 53,
     "metadata": {},
     "output_type": "execute_result"
    }
   ],
   "source": [
    "df['type'].replace(['Comm Element Condo', 'Det Condo', ], 'Condo Apt', inplace=True)\n",
    "df['type'].replace(['Co-Ownership Apt'], 'Co-Op Apt', inplace=True)\n",
    "df['type'].replace(['Duplex', 'Triplex', 'Fourplex'], 'Multiplex', inplace=True)\n",
    "df = df[df['type'] != 'Store W/Apt/Offc']\n",
    "df = df[df['type'] != 'Link']\n",
    "df.type.value_counts()"
   ]
  },
  {
   "cell_type": "code",
   "execution_count": 54,
   "metadata": {},
   "outputs": [
    {
     "data": {
      "text/plain": [
       "Apartment          2401\n",
       "2-Storey            358\n",
       "3-Storey            135\n",
       "Stacked Townhse      75\n",
       "Loft                 66\n",
       "Bungalow             47\n",
       "2 1/2 Storey         23\n",
       "1 1/2 Storey         12\n",
       "Sidesplit 4           4\n",
       "Backsplit 4           3\n",
       "Sidesplit 3           2\n",
       "Backsplit 3           1\n",
       "Sidesplit 5           1\n",
       "Name: levels, dtype: int64"
      ]
     },
     "execution_count": 54,
     "metadata": {},
     "output_type": "execute_result"
    }
   ],
   "source": [
    "df['levels'].replace('Bungalow-Raised', 'Bungalow', inplace=True)\n",
    "df['levels'].replace(['Multi-Level', 'Condo/Apt Unit', 'Bachelor/Studio'], 'Apartment', inplace=True)\n",
    "df = df[df['levels'] != \"Other\"]\n",
    "df.levels.value_counts()"
   ]
  },
  {
   "cell_type": "code",
   "execution_count": 55,
   "metadata": {},
   "outputs": [
    {
     "data": {
      "text/plain": [
       "None                           2575\n",
       "Finished                        146\n",
       "Finished and Sep Entrance        56\n",
       "Fin W/O                          46\n",
       "Other                            39\n",
       "Apartment                        36\n",
       "Finished and Full                21\n",
       "Fin W/O and Sep Entrance         19\n",
       "Apartment and Sep Entrance       19\n",
       "Finished and Walk-Up             16\n",
       "Unfinished                       13\n",
       "Full and Unfinished              10\n",
       "Apartment and None                9\n",
       "Apartment and Fin W/O             8\n",
       "Sep Entrance and Finished         8\n",
       "Part Fin                          7\n",
       "Full                              7\n",
       "Apartment and Finished            5\n",
       "Unfinished and Full               4\n",
       "Sep Entrance and Fin W/O          3\n",
       "Finished and W/O                  3\n",
       "Unfinished and W/O                3\n",
       "Walk-Up and Finished              3\n",
       "Fin W/O and Full                  3\n",
       "None and Other                    3\n",
       "W/O                               3\n",
       "Fin W/O and Walk-Up               2\n",
       "Full and Sep Entrance             2\n",
       "Sep Entrance and W/O              2\n",
       "Full and Part Fin                 2\n",
       "W/O and Finished                  2\n",
       "Sep Entrance                      2\n",
       "Fin W/O and Finished              2\n",
       "None and Apartment                2\n",
       "Sep Entrance and Unfinished       2\n",
       "Apartment and Full                2\n",
       "Sep Entrance and Part Fin         2\n",
       "Part Bsmt                         2\n",
       "Part Fin and Sep Entrance         2\n",
       "Sep Entrance and Apartment        2\n",
       "Apartment and W/O                 1\n",
       "Apartment and Unfinished          1\n",
       "Apartment and Walk-Up             1\n",
       "Half                              1\n",
       "Unfinished and Sep Entrance       1\n",
       "Finished and None                 1\n",
       "Full and W/O                      1\n",
       "Walk-Up and Part Fin              1\n",
       "Full and Walk-Up                  1\n",
       "Walk-Up                           1\n",
       "Other and W/O                     1\n",
       "Finished and Other                1\n",
       "Part Bsmt and Unfinished          1\n",
       "Part Fin and Finished             1\n",
       "Finished and Part Fin             1\n",
       "Crawl Space                       1\n",
       "Part Fin and W/O                  1\n",
       "W/O and None                      1\n",
       "Finished and Fin W/O              1\n",
       "Name: basement_type, dtype: int64"
      ]
     },
     "execution_count": 55,
     "metadata": {},
     "output_type": "execute_result"
    }
   ],
   "source": [
    "df['basement_type'].value_counts()"
   ]
  },
  {
   "cell_type": "code",
   "execution_count": 56,
   "metadata": {},
   "outputs": [],
   "source": [
    "df.loc[df['basement_type'].str.contains('Apartment', na=False), 'basement_type'] = 'None'\n",
    "df.loc[df['basement_type'].str.contains('Other', na=False), 'basement_type'] = 'None'\n",
    "df.loc[df['basement_type'].str.contains('None and Other', na=False), 'basement_type'] = 'None'\n",
    "df.loc[df['basement_type'].str.contains('Fin', na=False), 'basement_type'] = 'Finished'\n",
    "df.loc[df['basement_type'].str.contains('Finished', na=False), 'basement_type'] = 'Finished'\n",
    "df.loc[df['basement_type'].str.contains('Unfinished', na=False), 'basement_type'] = 'Unfinished'\n",
    "df.loc[df['basement_type'].str.contains('Part Bsmt', na=False), 'basement_type'] = 'Unfinished'\n",
    "df.loc[df['basement_type'].str.contains('Sep Entrance', na=False), 'basement_type'] = 'Sep Entrance'\n",
    "df.loc[df['basement_type'].str.contains('W/O', na=False), 'basement_type'] = 'Sep Entrance'\n",
    "df.loc[df['basement_type'].str.contains('Walk-Up', na=False), 'basement_type'] = 'Sep Entrance'\n",
    "df.loc[df['basement_type'].str.contains('Full', na=False), 'basement_type'] = 'Finished'\n",
    "df.loc[df['basement_type'].str.contains('Half', na=False), 'basement_type'] = 'None'\n",
    "df.loc[df['basement_type'].str.contains('Crawl Space', na=False), 'basement_type'] = 'None'"
   ]
  },
  {
   "cell_type": "code",
   "execution_count": 94,
   "metadata": {},
   "outputs": [
    {
     "data": {
      "text/plain": [
       "None            2707\n",
       "Finished         356\n",
       "Unfinished        36\n",
       "Sep Entrance      13\n",
       "Name: basement_type, dtype: int64"
      ]
     },
     "execution_count": 94,
     "metadata": {},
     "output_type": "execute_result"
    }
   ],
   "source": [
    "df['basement_type'].value_counts()"
   ]
  },
  {
   "cell_type": "code",
   "execution_count": 57,
   "metadata": {},
   "outputs": [
    {
     "data": {
      "text/plain": [
       "Concrete                    1275\n",
       "Brick                        934\n",
       "Brick and Concrete           295\n",
       "Brick and Stone               66\n",
       "Other                         61\n",
       "                            ... \n",
       "Insulbrick                     1\n",
       "Other and Stucco/Plaster       1\n",
       "Stone and Vinyl Siding         1\n",
       "Brick and Alum Siding          1\n",
       "Stone and Wood                 1\n",
       "Name: exterior, Length: 67, dtype: int64"
      ]
     },
     "execution_count": 57,
     "metadata": {},
     "output_type": "execute_result"
    }
   ],
   "source": [
    "# Unsure of what to do with exterior yet, does a condo's exterior affect its price?\n",
    "df['exterior'].value_counts()"
   ]
  },
  {
   "cell_type": "code",
   "execution_count": 58,
   "metadata": {},
   "outputs": [],
   "source": [
    "numerical_features = ['bedrooms', 'bathrooms', 'square_footage_min', 'square_footage_max', 'parking', 'rooms_total']"
   ]
  },
  {
   "cell_type": "code",
   "execution_count": 59,
   "metadata": {},
   "outputs": [
    {
     "data": {
      "image/png": "[encoded data removed]",
      "text/plain": [
       "<Figure size 432x288 with 1 Axes>"
      ]
     },
     "metadata": {
      "needs_background": "light"
     },
     "output_type": "display_data"
    },
    {
     "data": {
      "image/png": "[encoded data removed]",
      "text/plain": [
       "<Figure size 432x288 with 1 Axes>"
      ]
     },
     "metadata": {
      "needs_background": "light"
     },
     "output_type": "display_data"
    },
    {
     "data": {
      "image/png": "[encoded data removed]",
      "text/plain": [
       "<Figure size 432x288 with 1 Axes>"
      ]
     },
     "metadata": {
      "needs_background": "light"
     },
     "output_type": "display_data"
    },
    {
     "data": {
      "image/png": "[encoded data removed]",
      "text/plain": [
       "<Figure size 432x288 with 1 Axes>"
      ]
     },
     "metadata": {
      "needs_background": "light"
     },
     "output_type": "display_data"
    },
    {
     "data": {
      "image/png": "[encoded data removed]",
      "text/plain": [
       "<Figure size 432x288 with 1 Axes>"
      ]
     },
     "metadata": {
      "needs_background": "light"
     },
     "output_type": "display_data"
    },
    {
     "data": {
      "image/png": "[encoded data removed]",
      "text/plain": [
       "<Figure size 432x288 with 1 Axes>"
      ]
     },
     "metadata": {
      "needs_background": "light"
     },
     "output_type": "display_data"
    }
   ],
   "source": [
    "# pairplot is a good idea with this one\n",
    "for feature in numerical_features:\n",
    "    plt.scatter(x=df[feature], y=df[\"price\"])\n",
    "    plt.title(feature)\n",
    "    plt.ylabel('price')\n",
    "    plt.xlabel(feature)\n",
    "    plt.show()"
   ]
  },
  {
   "cell_type": "code",
   "execution_count": 60,
   "metadata": {},
   "outputs": [
    {
     "data": {
      "text/plain": [
       "'104 zones/neighbourhoods'"
      ]
     },
     "execution_count": 60,
     "metadata": {},
     "output_type": "execute_result"
    }
   ],
   "source": [
    "f\"{df['fsa'].nunique()} zones/neighbourhoods\""
   ]
  },
  {
   "cell_type": "code",
   "execution_count": 61,
   "metadata": {},
   "outputs": [
    {
     "data": {
      "text/plain": [
       "0                                                     NaN\n",
       "1       Stainless Steel (Gas Cooktop, Fridge, Built-In...\n",
       "4       Stainless Steel (Fridge, Stove, Microwave & Bu...\n",
       "5       Extras: Fridge Stove, Dishwasher, Microwave, W...\n",
       "7       All Existing S/S Fridge,Stove,B/I Dishwasher, ...\n",
       "                              ...                        \n",
       "4335    Built-In Appliances, Laundry & Dryer, Elfs, Wi...\n",
       "4336    All Elfs, Fridge, Stove, Range Hood, B/I Dishw...\n",
       "4337    New Vinyl Floor, New Ss Fridge, New Stove, New...\n",
       "4338    Dishwasher,Gas Cooktop,2 Bsmt Cooktops,All Elf...\n",
       "4340    Built In Fridge, Stove, Dishwasher, Washer, Dr...\n",
       "Name: features, Length: 3128, dtype: object"
      ]
     },
     "execution_count": 61,
     "metadata": {},
     "output_type": "execute_result"
    }
   ],
   "source": [
    "df['features']"
   ]
  },
  {
   "cell_type": "code",
   "execution_count": 62,
   "metadata": {},
   "outputs": [],
   "source": [
    "features = ['price', 'bedrooms', 'bedrooms_partial', 'bathrooms', 'square_footage_min', 'square_footage_max', 'parking', 'type', 'levels', 'rooms_total', 'fsa']"
   ]
  },
  {
   "cell_type": "code",
   "execution_count": 63,
   "metadata": {},
   "outputs": [
    {
     "data": {
      "application/vnd.plotly.v1+json": {
       "config": {
        "plotlyServerURL": "https://plot.ly"
       },
       "data": [
        {
         "coloraxis": "coloraxis",
         "hovertemplate": "x: %{x}<br>y: %{y}<br>color: %{z}<extra></extra>",
         "name": "0",
         "type": "heatmap",
         "x": [
          "price",
          "bedrooms",
          "bedrooms_partial",
          "bathrooms",
          "square_footage_min",
          "square_footage_max",
          "parking",
          "rooms_total"
         ],
         "xaxis": "x",
         "y": [
          "price",
          "bedrooms",
          "bedrooms_partial",
          "bathrooms",
          "square_footage_min",
          "square_footage_max",
          "parking",
          "rooms_total"
         ],
         "yaxis": "y",
         "z": [
          [
           1,
           0.49071289945063606,
           0.16062408737053072,
           0.6717675846400197,
           0.7532737154321825,
           0.7462335849861245,
           0.47328782869678154,
           0.5517350004836515
          ],
          [
           0.49071289945063606,
           1,
           0.1044745418105264,
           0.7695976160420825,
           0.7667159034768652,
           0.7571074887495813,
           0.6228357008523001,
           0.7704918004018148
          ],
          [
           0.16062408737053072,
           0.1044745418105264,
           1,
           0.2644880313307863,
           0.2635479003421576,
           0.27126719728463833,
           0.2699931183159502,
           0.326272758539171
          ],
          [
           0.6717675846400197,
           0.7695976160420825,
           0.2644880313307863,
           1,
           0.8563086490179564,
           0.8664623044800179,
           0.6610392813615562,
           0.7534846307338202
          ],
          [
           0.7532737154321825,
           0.7667159034768652,
           0.2635479003421576,
           0.8563086490179564,
           1,
           0.9765697959442213,
           0.6953782441493626,
           0.7959513946405898
          ],
          [
           0.7462335849861245,
           0.7571074887495813,
           0.27126719728463833,
           0.8664623044800179,
           0.9765697959442213,
           1,
           0.7248490784995012,
           0.794119072588785
          ],
          [
           0.47328782869678154,
           0.6228357008523001,
           0.2699931183159502,
           0.6610392813615562,
           0.6953782441493626,
           0.7248490784995012,
           1,
           0.67365520423484
          ],
          [
           0.5517350004836515,
           0.7704918004018148,
           0.326272758539171,
           0.7534846307338202,
           0.7959513946405898,
           0.794119072588785,
           0.67365520423484,
           1
          ]
         ]
        }
       ],
       "layout": {
        "coloraxis": {
         "colorscale": [
          [
           0,
           "#0d0887"
          ],
          [
           0.1111111111111111,
           "#46039f"
          ],
          [
           0.2222222222222222,
           "#7201a8"
          ],
          [
           0.3333333333333333,
           "#9c179e"
          ],
          [
           0.4444444444444444,
           "#bd3786"
          ],
          [
           0.5555555555555556,
           "#d8576b"
          ],
          [
           0.6666666666666666,
           "#ed7953"
          ],
          [
           0.7777777777777778,
           "#fb9f3a"
          ],
          [
           0.8888888888888888,
           "#fdca26"
          ],
          [
           1,
           "#f0f921"
          ]
         ]
        },
        "margin": {
         "t": 60
        },
        "template": {
         "data": {
          "bar": [
           {
            "error_x": {
             "color": "#2a3f5f"
            },
            "error_y": {
             "color": "#2a3f5f"
            },
            "marker": {
             "line": {
              "color": "#E5ECF6",
              "width": 0.5
             },
             "pattern": {
              "fillmode": "overlay",
              "size": 10,
              "solidity": 0.2
             }
            },
            "type": "bar"
           }
          ],
          "barpolar": [
           {
            "marker": {
             "line": {
              "color": "#E5ECF6",
              "width": 0.5
             },
             "pattern": {
              "fillmode": "overlay",
              "size": 10,
              "solidity": 0.2
             }
            },
            "type": "barpolar"
           }
          ],
          "carpet": [
           {
            "aaxis": {
             "endlinecolor": "#2a3f5f",
             "gridcolor": "white",
             "linecolor": "white",
             "minorgridcolor": "white",
             "startlinecolor": "#2a3f5f"
            },
            "baxis": {
             "endlinecolor": "#2a3f5f",
             "gridcolor": "white",
             "linecolor": "white",
             "minorgridcolor": "white",
             "startlinecolor": "#2a3f5f"
            },
            "type": "carpet"
           }
          ],
          "choropleth": [
           {
            "colorbar": {
             "outlinewidth": 0,
             "ticks": ""
            },
            "type": "choropleth"
           }
          ],
          "contour": [
           {
            "colorbar": {
             "outlinewidth": 0,
             "ticks": ""
            },
            "colorscale": [
             [
              0,
              "#0d0887"
             ],
             [
              0.1111111111111111,
              "#46039f"
             ],
             [
              0.2222222222222222,
              "#7201a8"
             ],
             [
              0.3333333333333333,
              "#9c179e"
             ],
             [
              0.4444444444444444,
              "#bd3786"
             ],
             [
              0.5555555555555556,
              "#d8576b"
             ],
             [
              0.6666666666666666,
              "#ed7953"
             ],
             [
              0.7777777777777778,
              "#fb9f3a"
             ],
             [
              0.8888888888888888,
              "#fdca26"
             ],
             [
              1,
              "#f0f921"
             ]
            ],
            "type": "contour"
           }
          ],
          "contourcarpet": [
           {
            "colorbar": {
             "outlinewidth": 0,
             "ticks": ""
            },
            "type": "contourcarpet"
           }
          ],
          "heatmap": [
           {
            "colorbar": {
             "outlinewidth": 0,
             "ticks": ""
            },
            "colorscale": [
             [
              0,
              "#0d0887"
             ],
             [
              0.1111111111111111,
              "#46039f"
             ],
             [
              0.2222222222222222,
              "#7201a8"
             ],
             [
              0.3333333333333333,
              "#9c179e"
             ],
             [
              0.4444444444444444,
              "#bd3786"
             ],
             [
              0.5555555555555556,
              "#d8576b"
             ],
             [
              0.6666666666666666,
              "#ed7953"
             ],
             [
              0.7777777777777778,
              "#fb9f3a"
             ],
             [
              0.8888888888888888,
              "#fdca26"
             ],
             [
              1,
              "#f0f921"
             ]
            ],
            "type": "heatmap"
           }
          ],
          "heatmapgl": [
           {
            "colorbar": {
             "outlinewidth": 0,
             "ticks": ""
            },
            "colorscale": [
             [
              0,
              "#0d0887"
             ],
             [
              0.1111111111111111,
              "#46039f"
             ],
             [
              0.2222222222222222,
              "#7201a8"
             ],
             [
              0.3333333333333333,
              "#9c179e"
             ],
             [
              0.4444444444444444,
              "#bd3786"
             ],
             [
              0.5555555555555556,
              "#d8576b"
             ],
             [
              0.6666666666666666,
              "#ed7953"
             ],
             [
              0.7777777777777778,
              "#fb9f3a"
             ],
             [
              0.8888888888888888,
              "#fdca26"
             ],
             [
              1,
              "#f0f921"
             ]
            ],
            "type": "heatmapgl"
           }
          ],
          "histogram": [
           {
            "marker": {
             "pattern": {
              "fillmode": "overlay",
              "size": 10,
              "solidity": 0.2
             }
            },
            "type": "histogram"
           }
          ],
          "histogram2d": [
           {
            "colorbar": {
             "outlinewidth": 0,
             "ticks": ""
            },
            "colorscale": [
             [
              0,
              "#0d0887"
             ],
             [
              0.1111111111111111,
              "#46039f"
             ],
             [
              0.2222222222222222,
              "#7201a8"
             ],
             [
              0.3333333333333333,
              "#9c179e"
             ],
             [
              0.4444444444444444,
              "#bd3786"
             ],
             [
              0.5555555555555556,
              "#d8576b"
             ],
             [
              0.6666666666666666,
              "#ed7953"
             ],
             [
              0.7777777777777778,
              "#fb9f3a"
             ],
             [
              0.8888888888888888,
              "#fdca26"
             ],
             [
              1,
              "#f0f921"
             ]
            ],
            "type": "histogram2d"
           }
          ],
          "histogram2dcontour": [
           {
            "colorbar": {
             "outlinewidth": 0,
             "ticks": ""
            },
            "colorscale": [
             [
              0,
              "#0d0887"
             ],
             [
              0.1111111111111111,
              "#46039f"
             ],
             [
              0.2222222222222222,
              "#7201a8"
             ],
             [
              0.3333333333333333,
              "#9c179e"
             ],
             [
              0.4444444444444444,
              "#bd3786"
             ],
             [
              0.5555555555555556,
              "#d8576b"
             ],
             [
              0.6666666666666666,
              "#ed7953"
             ],
             [
              0.7777777777777778,
              "#fb9f3a"
             ],
             [
              0.8888888888888888,
              "#fdca26"
             ],
             [
              1,
              "#f0f921"
             ]
            ],
            "type": "histogram2dcontour"
           }
          ],
          "mesh3d": [
           {
            "colorbar": {
             "outlinewidth": 0,
             "ticks": ""
            },
            "type": "mesh3d"
           }
          ],
          "parcoords": [
           {
            "line": {
             "colorbar": {
              "outlinewidth": 0,
              "ticks": ""
             }
            },
            "type": "parcoords"
           }
          ],
          "pie": [
           {
            "automargin": true,
            "type": "pie"
           }
          ],
          "scatter": [
           {
            "fillpattern": {
             "fillmode": "overlay",
             "size": 10,
             "solidity": 0.2
            },
            "type": "scatter"
           }
          ],
          "scatter3d": [
           {
            "line": {
             "colorbar": {
              "outlinewidth": 0,
              "ticks": ""
             }
            },
            "marker": {
             "colorbar": {
              "outlinewidth": 0,
              "ticks": ""
             }
            },
            "type": "scatter3d"
           }
          ],
          "scattercarpet": [
           {
            "marker": {
             "colorbar": {
              "outlinewidth": 0,
              "ticks": ""
             }
            },
            "type": "scattercarpet"
           }
          ],
          "scattergeo": [
           {
            "marker": {
             "colorbar": {
              "outlinewidth": 0,
              "ticks": ""
             }
            },
            "type": "scattergeo"
           }
          ],
          "scattergl": [
           {
            "marker": {
             "colorbar": {
              "outlinewidth": 0,
              "ticks": ""
             }
            },
            "type": "scattergl"
           }
          ],
          "scattermapbox": [
           {
            "marker": {
             "colorbar": {
              "outlinewidth": 0,
              "ticks": ""
             }
            },
            "type": "scattermapbox"
           }
          ],
          "scatterpolar": [
           {
            "marker": {
             "colorbar": {
              "outlinewidth": 0,
              "ticks": ""
             }
            },
            "type": "scatterpolar"
           }
          ],
          "scatterpolargl": [
           {
            "marker": {
             "colorbar": {
              "outlinewidth": 0,
              "ticks": ""
             }
            },
            "type": "scatterpolargl"
           }
          ],
          "scatterternary": [
           {
            "marker": {
             "colorbar": {
              "outlinewidth": 0,
              "ticks": ""
             }
            },
            "type": "scatterternary"
           }
          ],
          "surface": [
           {
            "colorbar": {
             "outlinewidth": 0,
             "ticks": ""
            },
            "colorscale": [
             [
              0,
              "#0d0887"
             ],
             [
              0.1111111111111111,
              "#46039f"
             ],
             [
              0.2222222222222222,
              "#7201a8"
             ],
             [
              0.3333333333333333,
              "#9c179e"
             ],
             [
              0.4444444444444444,
              "#bd3786"
             ],
             [
              0.5555555555555556,
              "#d8576b"
             ],
             [
              0.6666666666666666,
              "#ed7953"
             ],
             [
              0.7777777777777778,
              "#fb9f3a"
             ],
             [
              0.8888888888888888,
              "#fdca26"
             ],
             [
              1,
              "#f0f921"
             ]
            ],
            "type": "surface"
           }
          ],
          "table": [
           {
            "cells": {
             "fill": {
              "color": "#EBF0F8"
             },
             "line": {
              "color": "white"
             }
            },
            "header": {
             "fill": {
              "color": "#C8D4E3"
             },
             "line": {
              "color": "white"
             }
            },
            "type": "table"
           }
          ]
         },
         "layout": {
          "annotationdefaults": {
           "arrowcolor": "#2a3f5f",
           "arrowhead": 0,
           "arrowwidth": 1
          },
          "autotypenumbers": "strict",
          "coloraxis": {
           "colorbar": {
            "outlinewidth": 0,
            "ticks": ""
           }
          },
          "colorscale": {
           "diverging": [
            [
             0,
             "#8e0152"
            ],
            [
             0.1,
             "#c51b7d"
            ],
            [
             0.2,
             "#de77ae"
            ],
            [
             0.3,
             "#f1b6da"
            ],
            [
             0.4,
             "#fde0ef"
            ],
            [
             0.5,
             "#f7f7f7"
            ],
            [
             0.6,
             "#e6f5d0"
            ],
            [
             0.7,
             "#b8e186"
            ],
            [
             0.8,
             "#7fbc41"
            ],
            [
             0.9,
             "#4d9221"
            ],
            [
             1,
             "#276419"
            ]
           ],
           "sequential": [
            [
             0,
             "#0d0887"
            ],
            [
             0.1111111111111111,
             "#46039f"
            ],
            [
             0.2222222222222222,
             "#7201a8"
            ],
            [
             0.3333333333333333,
             "#9c179e"
            ],
            [
             0.4444444444444444,
             "#bd3786"
            ],
            [
             0.5555555555555556,
             "#d8576b"
            ],
            [
             0.6666666666666666,
             "#ed7953"
            ],
            [
             0.7777777777777778,
             "#fb9f3a"
            ],
            [
             0.8888888888888888,
             "#fdca26"
            ],
            [
             1,
             "#f0f921"
            ]
           ],
           "sequentialminus": [
            [
             0,
             "#0d0887"
            ],
            [
             0.1111111111111111,
             "#46039f"
            ],
            [
             0.2222222222222222,
             "#7201a8"
            ],
            [
             0.3333333333333333,
             "#9c179e"
            ],
            [
             0.4444444444444444,
             "#bd3786"
            ],
            [
             0.5555555555555556,
             "#d8576b"
            ],
            [
             0.6666666666666666,
             "#ed7953"
            ],
            [
             0.7777777777777778,
             "#fb9f3a"
            ],
            [
             0.8888888888888888,
             "#fdca26"
            ],
            [
             1,
             "#f0f921"
            ]
           ]
          },
          "colorway": [
           "#636efa",
           "#EF553B",
           "#00cc96",
           "#ab63fa",
           "#FFA15A",
           "#19d3f3",
           "#FF6692",
           "#B6E880",
           "#FF97FF",
           "#FECB52"
          ],
          "font": {
           "color": "#2a3f5f"
          },
          "geo": {
           "bgcolor": "white",
           "lakecolor": "white",
           "landcolor": "#E5ECF6",
           "showlakes": true,
           "showland": true,
           "subunitcolor": "white"
          },
          "hoverlabel": {
           "align": "left"
          },
          "hovermode": "closest",
          "mapbox": {
           "style": "light"
          },
          "paper_bgcolor": "white",
          "plot_bgcolor": "#E5ECF6",
          "polar": {
           "angularaxis": {
            "gridcolor": "white",
            "linecolor": "white",
            "ticks": ""
           },
           "bgcolor": "#E5ECF6",
           "radialaxis": {
            "gridcolor": "white",
            "linecolor": "white",
            "ticks": ""
           }
          },
          "scene": {
           "xaxis": {
            "backgroundcolor": "#E5ECF6",
            "gridcolor": "white",
            "gridwidth": 2,
            "linecolor": "white",
            "showbackground": true,
            "ticks": "",
            "zerolinecolor": "white"
           },
           "yaxis": {
            "backgroundcolor": "#E5ECF6",
            "gridcolor": "white",
            "gridwidth": 2,
            "linecolor": "white",
            "showbackground": true,
            "ticks": "",
            "zerolinecolor": "white"
           },
           "zaxis": {
            "backgroundcolor": "#E5ECF6",
            "gridcolor": "white",
            "gridwidth": 2,
            "linecolor": "white",
            "showbackground": true,
            "ticks": "",
            "zerolinecolor": "white"
           }
          },
          "shapedefaults": {
           "line": {
            "color": "#2a3f5f"
           }
          },
          "ternary": {
           "aaxis": {
            "gridcolor": "white",
            "linecolor": "white",
            "ticks": ""
           },
           "baxis": {
            "gridcolor": "white",
            "linecolor": "white",
            "ticks": ""
           },
           "bgcolor": "#E5ECF6",
           "caxis": {
            "gridcolor": "white",
            "linecolor": "white",
            "ticks": ""
           }
          },
          "title": {
           "x": 0.05
          },
          "xaxis": {
           "automargin": true,
           "gridcolor": "white",
           "linecolor": "white",
           "ticks": "",
           "title": {
            "standoff": 15
           },
           "zerolinecolor": "white",
           "zerolinewidth": 2
          },
          "yaxis": {
           "automargin": true,
           "gridcolor": "white",
           "linecolor": "white",
           "ticks": "",
           "title": {
            "standoff": 15
           },
           "zerolinecolor": "white",
           "zerolinewidth": 2
          }
         }
        },
        "xaxis": {
         "anchor": "y",
         "constrain": "domain",
         "domain": [
          0,
          1
         ],
         "scaleanchor": "y"
        },
        "yaxis": {
         "anchor": "x",
         "autorange": "reversed",
         "constrain": "domain",
         "domain": [
          0,
          1
         ]
        }
       }
      }
     },
     "metadata": {},
     "output_type": "display_data"
    }
   ],
   "source": [
    "fig = px.imshow(df[features].corr())\n",
    "fig.show()"
   ]
  },
  {
   "attachments": {},
   "cell_type": "markdown",
   "metadata": {},
   "source": [
    "# Creating the Model!\n",
    "\n",
    "## Model Notes:\n",
    "\n",
    "First iteration of the model was 80% accurate. It included houses and only properties under 4 000 000 dollars. Next model I am thinking of only doing condos as I don't believe I have enough data to accurately predict house price too."
   ]
  },
  {
   "cell_type": "code",
   "execution_count": 224,
   "metadata": {},
   "outputs": [],
   "source": [
    "# features = ['price', 'bedrooms', 'bedrooms_partial', 'bathrooms', 'square_footage_min', 'square_footage_max', 'parking', 'type', 'garage_type', 'exterior', 'basement_type', 'levels', 'rooms_total', 'fsa']\n",
    "# features = ['price', 'bedrooms', 'bedrooms_partial', 'bathrooms', 'square_footage_min', 'square_footage_max', 'parking', 'type', 'levels', 'rooms_total', 'segment']\n",
    "features = ['price', 'bedrooms', 'bedrooms_partial', 'bathrooms', 'square_footage_min', 'square_footage_max', 'parking', 'type', 'levels', 'rooms_total', 'fsa']"
   ]
  },
  {
   "cell_type": "code",
   "execution_count": 225,
   "metadata": {},
   "outputs": [],
   "source": [
    "# Prizm Segmentation\n",
    "\n",
    "# prizm = pd.read_csv('prizm.csv')\n",
    "# prizm.replace('The postal code provided is not assigned to a segment. Please enter a residential postal code.', np.nan, inplace=True)\n",
    "# prizm.replace('The postal code provided is invalid. Please enter a residential postal code.', np.nan, inplace=True)\n",
    "\n",
    "# prizm.dropna(subset='segment', inplace=True)\n",
    "# df_segment = df[df['postal_code'].isin(prizm['postal_code'])].reset_index(drop=True)\n",
    "\n",
    "# segments = []\n",
    "# for index, row in df_segment.iterrows():\n",
    "#     segments.append(prizm[prizm['postal_code'] == row['postal_code']]['segment'].item())\n",
    "# df_segment['segment'] = pd.Series(segments)"
   ]
  },
  {
   "cell_type": "code",
   "execution_count": 226,
   "metadata": {},
   "outputs": [],
   "source": [
    "model_df = df[features]\n",
    "model_df = model_df[model_df['price'] <= 4000000].reset_index(drop=True)\n",
    "X = model_df.drop(columns='price')\n",
    "y = model_df['price']"
   ]
  },
  {
   "cell_type": "code",
   "execution_count": 227,
   "metadata": {},
   "outputs": [],
   "source": [
    "X = pd.get_dummies(data=X, drop_first=True)"
   ]
  },
  {
   "cell_type": "code",
   "execution_count": 228,
   "metadata": {},
   "outputs": [],
   "source": [
    "from sklearn.model_selection import train_test_split\n",
    "X_train, X_test, y_train, y_test = train_test_split(X, y, test_size=0.2, random_state=1) # test data\n",
    "# X_train, X_val, y_train, y_val = train_test_split(X_train, y_train, test_size=0.175, random_state=1) # val data"
   ]
  },
  {
   "cell_type": "code",
   "execution_count": 229,
   "metadata": {},
   "outputs": [],
   "source": [
    "from sklearn.linear_model import LinearRegression\n",
    "lr = LinearRegression()"
   ]
  },
  {
   "cell_type": "code",
   "execution_count": 230,
   "metadata": {},
   "outputs": [
    {
     "data": {
      "text/html": [
       "<style>#sk-container-id-7 {color: black;background-color: white;}#sk-container-id-7 pre{padding: 0;}#sk-container-id-7 div.sk-toggleable {background-color: white;}#sk-container-id-7 label.sk-toggleable__label {cursor: pointer;display: block;width: 100%;margin-bottom: 0;padding: 0.3em;box-sizing: border-box;text-align: center;}#sk-container-id-7 label.sk-toggleable__label-arrow:before {content: \"▸\";float: left;margin-right: 0.25em;color: #696969;}#sk-container-id-7 label.sk-toggleable__label-arrow:hover:before {color: black;}#sk-container-id-7 div.sk-estimator:hover label.sk-toggleable__label-arrow:before {color: black;}#sk-container-id-7 div.sk-toggleable__content {max-height: 0;max-width: 0;overflow: hidden;text-align: left;background-color: #f0f8ff;}#sk-container-id-7 div.sk-toggleable__content pre {margin: 0.2em;color: black;border-radius: 0.25em;background-color: #f0f8ff;}#sk-container-id-7 input.sk-toggleable__control:checked~div.sk-toggleable__content {max-height: 200px;max-width: 100%;overflow: auto;}#sk-container-id-7 input.sk-toggleable__control:checked~label.sk-toggleable__label-arrow:before {content: \"▾\";}#sk-container-id-7 div.sk-estimator input.sk-toggleable__control:checked~label.sk-toggleable__label {background-color: #d4ebff;}#sk-container-id-7 div.sk-label input.sk-toggleable__control:checked~label.sk-toggleable__label {background-color: #d4ebff;}#sk-container-id-7 input.sk-hidden--visually {border: 0;clip: rect(1px 1px 1px 1px);clip: rect(1px, 1px, 1px, 1px);height: 1px;margin: -1px;overflow: hidden;padding: 0;position: absolute;width: 1px;}#sk-container-id-7 div.sk-estimator {font-family: monospace;background-color: #f0f8ff;border: 1px dotted black;border-radius: 0.25em;box-sizing: border-box;margin-bottom: 0.5em;}#sk-container-id-7 div.sk-estimator:hover {background-color: #d4ebff;}#sk-container-id-7 div.sk-parallel-item::after {content: \"\";width: 100%;border-bottom: 1px solid gray;flex-grow: 1;}#sk-container-id-7 div.sk-label:hover label.sk-toggleable__label {background-color: #d4ebff;}#sk-container-id-7 div.sk-serial::before {content: \"\";position: absolute;border-left: 1px solid gray;box-sizing: border-box;top: 0;bottom: 0;left: 50%;z-index: 0;}#sk-container-id-7 div.sk-serial {display: flex;flex-direction: column;align-items: center;background-color: white;padding-right: 0.2em;padding-left: 0.2em;position: relative;}#sk-container-id-7 div.sk-item {position: relative;z-index: 1;}#sk-container-id-7 div.sk-parallel {display: flex;align-items: stretch;justify-content: center;background-color: white;position: relative;}#sk-container-id-7 div.sk-item::before, #sk-container-id-7 div.sk-parallel-item::before {content: \"\";position: absolute;border-left: 1px solid gray;box-sizing: border-box;top: 0;bottom: 0;left: 50%;z-index: -1;}#sk-container-id-7 div.sk-parallel-item {display: flex;flex-direction: column;z-index: 1;position: relative;background-color: white;}#sk-container-id-7 div.sk-parallel-item:first-child::after {align-self: flex-end;width: 50%;}#sk-container-id-7 div.sk-parallel-item:last-child::after {align-self: flex-start;width: 50%;}#sk-container-id-7 div.sk-parallel-item:only-child::after {width: 0;}#sk-container-id-7 div.sk-dashed-wrapped {border: 1px dashed gray;margin: 0 0.4em 0.5em 0.4em;box-sizing: border-box;padding-bottom: 0.4em;background-color: white;}#sk-container-id-7 div.sk-label label {font-family: monospace;font-weight: bold;display: inline-block;line-height: 1.2em;}#sk-container-id-7 div.sk-label-container {text-align: center;}#sk-container-id-7 div.sk-container {/* jupyter's `normalize.less` sets `[hidden] { display: none; }` but bootstrap.min.css set `[hidden] { display: none !important; }` so we also need the `!important` here to be able to override the default hidden behavior on the sphinx rendered scikit-learn.org. See: https://github.com/scikit-learn/scikit-learn/issues/21755 */display: inline-block !important;position: relative;}#sk-container-id-7 div.sk-text-repr-fallback {display: none;}</style><div id=\"sk-container-id-7\" class=\"sk-top-container\"><div class=\"sk-text-repr-fallback\"><pre>LinearRegression()</pre><b>In a Jupyter environment, please rerun this cell to show the HTML representation or trust the notebook. <br />On GitHub, the HTML representation is unable to render, please try loading this page with nbviewer.org.</b></div><div class=\"sk-container\" hidden><div class=\"sk-item\"><div class=\"sk-estimator sk-toggleable\"><input class=\"sk-toggleable__control sk-hidden--visually\" id=\"sk-estimator-id-7\" type=\"checkbox\" checked><label for=\"sk-estimator-id-7\" class=\"sk-toggleable__label sk-toggleable__label-arrow\">LinearRegression</label><div class=\"sk-toggleable__content\"><pre>LinearRegression()</pre></div></div></div></div></div>"
      ],
      "text/plain": [
       "LinearRegression()"
      ]
     },
     "execution_count": 230,
     "metadata": {},
     "output_type": "execute_result"
    }
   ],
   "source": [
    "lr.fit(X_train, y_train)"
   ]
  },
  {
   "cell_type": "code",
   "execution_count": 231,
   "metadata": {},
   "outputs": [],
   "source": [
    "c = lr.intercept_\n",
    "m = lr.coef_"
   ]
  },
  {
   "cell_type": "code",
   "execution_count": 232,
   "metadata": {},
   "outputs": [],
   "source": [
    "y_predictions = lr.predict(X_train)"
   ]
  },
  {
   "cell_type": "code",
   "execution_count": 233,
   "metadata": {},
   "outputs": [
    {
     "data": {
      "text/plain": [
       "0.8249720425440102"
      ]
     },
     "execution_count": 233,
     "metadata": {},
     "output_type": "execute_result"
    }
   ],
   "source": [
    "# 70% accuracy including houses over $4000000, 80% excluding them\n",
    "# 75% accuracy using segments instead of FSA\n",
    "from sklearn.metrics import r2_score\n",
    "r2_score(y_train, y_predictions)"
   ]
  },
  {
   "cell_type": "code",
   "execution_count": 234,
   "metadata": {},
   "outputs": [
    {
     "data": {
      "image/png": "[encoded data removed]",
      "text/plain": [
       "<Figure size 432x288 with 1 Axes>"
      ]
     },
     "metadata": {
      "needs_background": "light"
     },
     "output_type": "display_data"
    }
   ],
   "source": [
    "plt.scatter(y_train, y_predictions)\n",
    "plt.xlabel('Actual Prices')\n",
    "plt.ylabel('Predicted Prices')\n",
    "plt.show()"
   ]
  },
  {
   "cell_type": "code",
   "execution_count": 235,
   "metadata": {},
   "outputs": [],
   "source": [
    "y_pred_test = lr.predict(X_test)"
   ]
  },
  {
   "cell_type": "code",
   "execution_count": 236,
   "metadata": {},
   "outputs": [
    {
     "data": {
      "text/plain": [
       "0.7834649601829201"
      ]
     },
     "execution_count": 236,
     "metadata": {},
     "output_type": "execute_result"
    }
   ],
   "source": [
    "r2_score(y_test, y_pred_test)"
   ]
  },
  {
   "cell_type": "code",
   "execution_count": 237,
   "metadata": {},
   "outputs": [
    {
     "data": {
      "application/vnd.plotly.v1+json": {
       "config": {
        "plotlyServerURL": "https://plot.ly"
       },
       "data": [
        {
         "hovertemplate": "x=%{x}<br>y=%{y}<extra></extra>",
         "legendgroup": "",
         "marker": {
          "color": "#636efa",
          "symbol": "circle"
         },
         "mode": "markers",
         "name": "",
         "orientation": "v",
         "showlegend": false,
         "type": "scatter",
         "x": [
          690000,
          688800,
          599000,
          1039900,
          499000,
          699000,
          1198800,
          574000,
          839000,
          419000,
          659000,
          640000,
          648800,
          2399000,
          549900,
          989000,
          686000,
          654999,
          774900,
          1219990,
          949900,
          678900,
          795000,
          1388000,
          2650000,
          469900,
          1975000,
          1025000,
          998500,
          1129900,
          689999,
          709000,
          1028000,
          988000,
          639000,
          669000,
          449000,
          559000,
          869999,
          649000,
          1200000,
          648000,
          719900,
          530000,
          575000,
          2995000,
          599800,
          900000,
          1389900,
          729999,
          1459000,
          728800,
          670000,
          1349000,
          529900,
          599000,
          861000,
          2099999,
          650000,
          1400000,
          439998,
          755000,
          719000,
          660000,
          899990,
          728000,
          518000,
          2650000,
          452000,
          499000,
          585000,
          1599000,
          950000,
          1685000,
          710000,
          805000,
          1080000,
          575000,
          590000,
          648000,
          699000,
          720000,
          1025000,
          1495000,
          1408800,
          3199000,
          3489000,
          599000,
          949000,
          599000,
          649900,
          1399000,
          889000,
          658000,
          998000,
          1668000,
          859000,
          549900,
          599000,
          559900,
          679900,
          1999990,
          799990,
          799900,
          639000,
          792700,
          1345000,
          2880000,
          699000,
          788000,
          565000,
          749900,
          739000,
          599000,
          1999000,
          659000,
          789000,
          715900,
          2248550,
          1538000,
          869000,
          720000,
          828888,
          689900,
          949000,
          1199000,
          645900,
          1995000,
          1038000,
          1398800,
          619000,
          510000,
          688800,
          468990,
          978000,
          649900,
          659777,
          1199000,
          515000,
          369000,
          799880,
          998000,
          1168800,
          1700000,
          3850000,
          3995000,
          775000,
          1299000,
          1088000,
          499000,
          915000,
          379900,
          725000,
          809000,
          499900,
          3699000,
          558000,
          550000,
          660000,
          1329000,
          584900,
          950000,
          588000,
          760000,
          898880,
          699000,
          724900,
          3895000,
          599000,
          620000,
          839000,
          548000,
          659000,
          825000,
          719000,
          998000,
          689000,
          765800,
          1285000,
          629000,
          3500000,
          499989,
          750000,
          1018000,
          599000,
          2650000,
          645000,
          899999,
          930000,
          674900,
          1929900,
          888000,
          685000,
          1399000,
          540000,
          475000,
          520800,
          768800,
          899900,
          525000,
          822000,
          618500,
          699000,
          579000,
          729000,
          715000,
          1695000,
          579000,
          1050000,
          1790000,
          1549000,
          869800,
          707000,
          750000,
          650000,
          1590000,
          615000,
          645000,
          585000,
          2095000,
          825000,
          599800,
          749900,
          1169900,
          658000,
          634000,
          930000,
          749000,
          2770000,
          499000,
          648800,
          724999,
          599000,
          1199000,
          488800,
          478000,
          1789000,
          599900,
          899900,
          729900,
          1239000,
          619900,
          499900,
          1998000,
          1299000,
          579000,
          999000,
          799000,
          849900,
          1108000,
          474900,
          569900,
          849000,
          1169999,
          575000,
          545000,
          1135000,
          779000,
          589900,
          899000,
          2690000,
          635000,
          659999,
          579000,
          988800,
          1355000,
          1988000,
          788800,
          680800,
          543000,
          495000,
          659000,
          590000,
          559800,
          799000,
          649000,
          779900,
          509900,
          788000,
          2299990,
          1353800,
          3100000,
          2899900,
          1099900,
          3578000,
          668000,
          539000,
          579000,
          549900,
          849900,
          2299000,
          509988,
          899888,
          1478000,
          379000,
          499900,
          749900,
          249900,
          745000,
          2950000,
          874900,
          2299990,
          739000,
          528888,
          898000,
          949900,
          599900,
          758000,
          599900,
          599000,
          689000,
          794900,
          699000,
          749900,
          579999,
          899888,
          1749900,
          999900,
          799000,
          679999,
          999900,
          715000,
          545000,
          1499000,
          899900,
          639900,
          999900,
          699000,
          1299000,
          1407490,
          490000,
          1089000,
          799000,
          660000,
          628888,
          1139000,
          1050000,
          608000,
          635000,
          699900,
          949900,
          659000,
          549000,
          1118000,
          649900,
          658000,
          1160000,
          788888,
          665999,
          599000,
          659990,
          789900,
          889000,
          1368000,
          759000,
          519900,
          749000,
          1880000,
          920000,
          1498000,
          3798000,
          699888,
          1298000,
          589999,
          659000,
          3439000,
          592900,
          559000,
          998000,
          799999,
          988000,
          619000,
          1788000,
          829000,
          599000,
          465000,
          549999,
          832900,
          575000,
          549900,
          1150000,
          1199000,
          658000,
          875000,
          1890000,
          549999,
          1288888,
          1450000,
          1020000,
          719000,
          579000,
          759000,
          1499999,
          750000,
          739900,
          599900,
          648800,
          610000,
          2980000,
          819000,
          725000,
          1599900,
          639900,
          639000,
          498000,
          879000,
          1595000,
          2999999,
          559000,
          829900,
          799000,
          669990,
          989000,
          349900,
          465000,
          839100,
          1899000,
          885000,
          898000,
          749900,
          2063900,
          740000,
          1699000,
          2495000,
          588888,
          399000,
          639900,
          650000,
          619900,
          650000,
          583000,
          2380000,
          998000,
          1249000,
          579000,
          619900,
          649900,
          1399000,
          899000,
          579900,
          1299000,
          1829000,
          720000,
          2249000,
          1320000,
          609900,
          699000,
          699999,
          739888,
          675000,
          489000,
          959000,
          499900,
          639800,
          469900,
          489000,
          359000,
          709900,
          569900,
          659900,
          499900,
          729900,
          1699000,
          1298000,
          749000,
          599000,
          2680000,
          1069000,
          1250000,
          999900,
          629000,
          835000,
          619000,
          599000,
          799999,
          797000,
          898000,
          1395000,
          418800,
          648000,
          2899900,
          599000,
          748000,
          549000,
          2595000,
          649000,
          609000,
          500000,
          499000,
          1279000,
          469000,
          829000,
          859000,
          629900,
          595000,
          599999,
          719000,
          795000,
          639000,
          539000,
          989000,
          559000,
          1265000,
          2988000,
          599000,
          590000,
          569900,
          639000,
          799998,
          668000,
          1190000,
          774800,
          899000,
          779900,
          655000,
          575000,
          498999,
          1148000,
          680000,
          609900,
          699000,
          699900,
          1520000,
          690000,
          899900,
          759000,
          589900,
          3495000,
          2005000,
          2649900,
          1299000,
          619900,
          849000,
          720000,
          559000,
          699000,
          727000,
          648800,
          629900,
          1199999,
          749000,
          499000,
          724900,
          1198000,
          849900,
          600000,
          341000,
          1099000,
          950000,
          928500,
          738000,
          540000,
          1395000,
          479900,
          724999,
          678888,
          3890000,
          648888,
          829900,
          769000,
          2390000,
          619900,
          899900,
          599900,
          570000,
          459999,
          1099900,
          459900,
          2850000,
          959900,
          665000,
          1180000,
          359000,
          1389000,
          745000,
          3990000,
          499000,
          558800,
          599000,
          649900,
          589000,
          899900,
          649900,
          586000,
          795900,
          989000,
          628800,
          549900,
          839000,
          558888,
          798000,
          749000,
          560000,
          799100,
          855000,
          799900,
          1199900,
          888888,
          917900,
          825000,
          487500,
          1199500,
          699000,
          950000,
          629900,
          1059000,
          669000,
          660000,
          849900,
          649900,
          1799000,
          649888,
          919000,
          774998,
          805000,
          569000
         ],
         "xaxis": "x",
         "y": [
          696555.60122883,
          334474.999815159,
          643719.2777591791,
          1045391.1334275014,
          553703.2206988249,
          588506.5657992023,
          1194851.382696498,
          737746.6593477477,
          829270.2160322609,
          831042.0010108057,
          786686.2089137688,
          868325.3845870099,
          1024629.2167252003,
          2015291.6988428251,
          551412.1567630933,
          1074966.9969426128,
          604329.8483690587,
          660004.2715215255,
          659429.9328588708,
          1222710.486347619,
          1035692.3124464557,
          910350.4793392422,
          698434.4061944925,
          1445693.8431202383,
          2269347.7310163584,
          402939.9540952117,
          2388254.855965915,
          1224345.7344137467,
          1465541.6416844567,
          1177244.113577823,
          543929.1920262806,
          760041.7653071615,
          951076.0937083322,
          1283684.210230433,
          673646.9150958348,
          838899.0253366318,
          362567.3339912117,
          517490.22676017426,
          1602275.4512529802,
          748457.267541344,
          1035366.0353166473,
          644842.2049630543,
          870931.6469723025,
          460880.17927831097,
          580244.6028586208,
          2386832.290932006,
          781160.3902031878,
          1280713.297927826,
          1459306.1742535757,
          891676.0697819047,
          1997585.629172177,
          769352.3590919609,
          943715.1444879696,
          1455174.9774261792,
          631886.4019513484,
          394075.8971402964,
          680080.275509771,
          2341885.6935053803,
          675048.6378084983,
          1268822.8701587482,
          22967.432944111177,
          696656.4929606416,
          698976.454305074,
          435138.5245294692,
          246436.8216687563,
          738929.1875568446,
          1015085.4396597286,
          1414092.3098719125,
          299146.3801198434,
          807624.9690590128,
          652201.2329497233,
          1838313.1382555345,
          1309424.9986217986,
          1513736.4105714627,
          523724.777925092,
          489603.47644691204,
          1089203.2633581888,
          452220.1485072038,
          654850.5600605386,
          385872.69783363957,
          952814.883908578,
          831253.8955549971,
          1135041.5356599814,
          1225646.8433019838,
          1379010.9287228785,
          2665399.8618412614,
          3519242.2362709055,
          620482.9274008337,
          999316.419651306,
          415807.3355459779,
          722834.1866539065,
          1670758.439413762,
          952731.0473881644,
          665687.0467742991,
          949486.0777700953,
          2057376.7723254312,
          843761.9984408905,
          729057.2655847683,
          858226.1998849754,
          628775.563743329,
          801265.5538284986,
          1452248.4518978063,
          789789.2724986419,
          1076809.7072516426,
          788052.1420064297,
          936660.6039531749,
          1724822.3945555114,
          2942076.7635028893,
          902627.5249429668,
          674413.4942368632,
          467775.9570443081,
          838500.4969113561,
          588026.1075309825,
          362108.36554630916,
          2389719.929778671,
          688480.832651918,
          748078.7967916584,
          489603.47644691204,
          1944315.8603681207,
          1412056.661437069,
          1341950.783410586,
          688480.832651918,
          700321.7754347342,
          1076809.7072516426,
          906106.4141718484,
          1125973.2939289692,
          488094.67110800673,
          1826036.7432949836,
          793505.480521074,
          2290413.2227705633,
          612304.0121878872,
          414131.92456213257,
          814222.2341043804,
          432213.4737731317,
          751112.1859770964,
          733527.5820372845,
          685381.5734373135,
          1144747.2927695788,
          419591.75348136947,
          412082.0981557553,
          822094.675435182,
          1004787.9514553829,
          916518.0534495137,
          1050350.517899463,
          2749224.019708886,
          2244583.695575429,
          762347.8187926108,
          955423.1788351249,
          935794.7259621356,
          65873.46986673551,
          848934.2474160001,
          515156.59568892966,
          732719.7949940816,
          632626.4516254445,
          708351.1036955802,
          2763778.506980447,
          324194.6542436342,
          737746.6593477477,
          885295.9408669531,
          1452246.952022837,
          862593.457982318,
          951222.242049259,
          491573.23424607865,
          704084.4348239523,
          1076586.7871432567,
          788052.1420064297,
          748078.7967916584,
          2190332.8642583173,
          684866.9334058433,
          466871.5099349406,
          939583.5186073029,
          436440.8265145732,
          1242491.7505648695,
          1032391.7704436559,
          880132.0423636311,
          1178398.3883843673,
          531882.0694028761,
          643793.2138451904,
          1047332.9072216527,
          524748.6795305423,
          3266254.7405752586,
          505987.5649329843,
          936251.3908402014,
          920139.6725845973,
          648562.3153585946,
          2820556.7422183026,
          660004.2715215255,
          1049178.1262710316,
          979362.389469178,
          713856.8631317469,
          1405369.9328337242,
          920050.5596569546,
          1085064.8430798738,
          1124477.54877864,
          362108.36554630916,
          136403.45568388957,
          845055.079960041,
          656212.7301395044,
          905009.4709253311,
          442559.68487276207,
          760753.560546643,
          644842.2049630543,
          735140.8255356734,
          693674.5574450397,
          804241.4615493979,
          608577.0327331224,
          1894288.2997501066,
          748193.6391442197,
          778983.0898673589,
          1554503.8697301291,
          1913250.8339229096,
          1090712.068697094,
          858226.1998849754,
          1077854.8530309517,
          609424.0669944554,
          1357880.2951068003,
          606080.9332570254,
          535029.0251020672,
          232317.17905318213,
          1853231.6050171992,
          781418.7723698348,
          524748.6795305423,
          767875.7313072102,
          1371737.74967254,
          737746.6593477477,
          764637.0492154928,
          977842.1298603037,
          715758.5441563609,
          2415949.953676386,
          525816.4703855626,
          1049178.6508160844,
          868402.5489937703,
          566734.315709851,
          1477392.4741491121,
          650068.9096645116,
          703265.4500265336,
          1895691.806690374,
          999702.2977863362,
          1016570.6347909436,
          949556.3867262638,
          1131836.06740693,
          282119.8288406873,
          341093.4072121831,
          1786592.5032232963,
          1343275.0531521873,
          545181.9311600567,
          1913586.6513253092,
          794971.4850384144,
          320612.9706468994,
          1221290.7939363564,
          499524.3985637702,
          804765.7838307808,
          944080.2464115212,
          912734.3008152139,
          953713.3942754562,
          549708.3471767727,
          861919.1281471223,
          949611.3654550109,
          542796.2654735344,
          1032674.7017686451,
          2777449.4481973667,
          460443.7648055701,
          733138.594794238,
          810094.5434307093,
          1079334.6946524004,
          1097284.0518002175,
          1914402.5063278573,
          683337.4498502292,
          643159.8973823255,
          584826.7822865958,
          321032.87527214445,
          861093.5825169042,
          932174.8523290406,
          677103.4586072243,
          929316.3995706034,
          943606.7172641894,
          749703.9003104531,
          642685.0231984946,
          774880.4200741708,
          1468417.262889795,
          1527223.725557947,
          2844256.505066473,
          3628039.9735444076,
          1285617.885083338,
          3221866.2666804874,
          660004.2715215255,
          425527.7658408915,
          392095.77676450135,
          562238.6526692995,
          680877.4101043376,
          2252504.4043068923,
          318106.7620631441,
          993707.935321366,
          1539318.6612820122,
          689420.7450863464,
          642068.2150333924,
          759867.9477020885,
          281196.78873405885,
          736237.8540088424,
          3578119.274920905,
          857007.2600843863,
          1656352.9440694759,
          992416.7641524656,
          965819.612963899,
          945504.1484825747,
          603939.5643769393,
          882169.6637381637,
          893184.87512081,
          524748.6795305423,
          387381.503172545,
          1022524.1839393333,
          991880.1825157683,
          593783.6561083941,
          969295.2313527089,
          920390.4038615725,
          1041446.2420012646,
          1409359.2119210325,
          1191677.135178504,
          1075294.3973097894,
          534765.0214091139,
          1237121.5135313007,
          813239.5998642131,
          730025.2168680695,
          2080387.077071057,
          1253045.7996090367,
          748027.0049192725,
          1073531.2808474205,
          986465.6051879647,
          1113510.067134146,
          998193.4924474309,
          351828.01997478434,
          1448257.7985541313,
          660594.0823386558,
          642683.7572428659,
          751790.9920451969,
          1373987.3097399245,
          1006965.0326800504,
          517490.22676017426,
          740060.4389474378,
          1056017.0076104277,
          1204337.6463728817,
          476991.65817361814,
          321930.80046625435,
          1342862.0101320592,
          630914.1986930845,
          730014.7750779807,
          1227792.4703887077,
          786543.3366675244,
          604076.9684734212,
          848952.4081312739,
          752495.481786129,
          1237812.6762493504,
          1124672.3375496708,
          1001018.1474159032,
          985563.3938689469,
          394491.67449557583,
          1146211.755360811,
          3028732.890565403,
          1141160.4236020204,
          1432593.4320291986,
          3632632.0874819653,
          853739.7446678518,
          963489.3038476856,
          603475.7099319816,
          592605.1369401913,
          3362150.841974804,
          797292.831615102,
          448673.6122264819,
          1245993.2344860665,
          779651.5848642825,
          1031645.8268428183,
          -45976.62046284042,
          1873717.2976861978,
          796966.5544852936,
          949140.1415797442,
          450344.91850078315,
          645035.1273887461,
          852312.5878657405,
          674413.4942368632,
          580244.6028586208,
          1407025.8996887817,
          907774.2609512885,
          522796.88023746107,
          1124908.211369066,
          1271764.847469871,
          403934.2015473683,
          1001018.1474159032,
          1220877.9626825792,
          893184.87512081,
          896623.3167468677,
          677103.4586072243,
          904626.8312837408,
          1268836.858261493,
          1147250.0847051821,
          847598.314273784,
          874374.8880958131,
          361496.9756099527,
          526292.8409711479,
          2009481.2167336624,
          972114.953051841,
          660594.0823386558,
          1342975.2225107593,
          595962.2564022548,
          674413.4942368632,
          415640.7299010379,
          941279.052722857,
          1369892.5481119906,
          3097700.5153593672,
          476120.3150709132,
          1128284.4135780837,
          741330.0451265499,
          883918.2876099537,
          961155.3928732845,
          329611.9058192328,
          728629.090364374,
          771520.1820353789,
          1521983.8845872479,
          1317236.7047252776,
          831255.5913787954,
          683372.9143304876,
          1601500.6677266408,
          922952.8745848218,
          1563634.5798563133,
          2295482.7601124495,
          366541.5088501483,
          552194.4153599195,
          517490.22676017426,
          755247.3323773143,
          543671.2203133062,
          660004.2715215255,
          316844.4015727971,
          2666972.965667869,
          1464032.8363455515,
          869809.3342520511,
          613239.301744244,
          730157.647324225,
          714249.7388174555,
          1189596.3008388553,
          1045669.4141000204,
          524307.6650466573,
          1693481.4102652387,
          1761328.6774302472,
          623101.9647247489,
          1498639.473368737,
          1538587.115564173,
          755564.4011955935,
          773451.6986955258,
          693175.3387209094,
          905635.6812022332,
          784226.2654534822,
          552194.4153599195,
          1135041.5356599814,
          177631.9458299894,
          627733.1937519112,
          451767.3772068459,
          444504.64231313183,
          387240.11448814627,
          846089.5089348787,
          636263.5871561266,
          819230.674000591,
          448673.6122264819,
          954747.7299913953,
          1633741.1482234732,
          1321273.0310515699,
          1137316.8525229003,
          532832.1023168294,
          1383764.0860242527,
          1155548.2464175036,
          1454468.5616221945,
          1185884.4759290344,
          251864.78974462394,
          850813.2369453794,
          566044.7268201954,
          1022750.9240049076,
          1042955.0473401699,
          779651.5848642825,
          1044463.8526790752,
          1413762.7787697592,
          491943.83807400276,
          728648.8419853197,
          2556290.972352217,
          643719.2777591791,
          666562.3950807366,
          785700.712886645,
          1829282.5166457263,
          593543.3107465187,
          788262.3593283943,
          437509.2549615344,
          749885.0461216427,
          1123717.548619743,
          754411.4621383586,
          946252.2455393393,
          980871.1948080832,
          835809.1633633539,
          557330.3168078682,
          608538.176278699,
          846089.5089348787,
          1474405.3444592704,
          690916.9187392497,
          351828.01997478434,
          893192.5479350488,
          705966.7758099866,
          1660146.7406992824,
          2587882.8574895305,
          781636.5572806279,
          632879.5518108007,
          415640.7299010379,
          585122.5304538764,
          549590.6631981514,
          714319.4164376608,
          1473561.547865516,
          822399.8362132901,
          1131033.7991475277,
          756810.6237279584,
          746518.1995803672,
          603004.3201305353,
          441104.22889211087,
          1184021.4154113266,
          848952.4081312739,
          617452.8481803864,
          905819.1013598988,
          717205.4858977387,
          1245993.2344860665,
          588506.5657992023,
          1052376.0166191645,
          656212.7301395044,
          632879.5518108007,
          2382350.058093002,
          1988479.5342094651,
          1602815.211947775,
          1219524.0156116,
          742847.0636754957,
          411414.9086815044,
          510639.2687321964,
          456711.4466244251,
          875883.6934347185,
          913895.2168105091,
          566762.9149427328,
          580244.6028586208,
          846847.8352230964,
          361496.9756099527,
          663834.4660753456,
          840584.8161644703,
          1112545.8961054366,
          1107165.0630092244,
          597085.18360613,
          539076.8119327154,
          1302350.8168057068,
          776674.767961736,
          838180.4173465488,
          940673.4660141004,
          678102.2187108204,
          1851353.6335069481,
          635601.4143213307,
          1248743.71271243,
          445418.870100994,
          2139628.822643306,
          691184.3383703104,
          936643.0970869837,
          749587.6021305637,
          3204676.186424345,
          901799.3653693396,
          998193.4924474309,
          898132.122085773,
          517490.22676017426,
          402939.9540952117,
          1087284.514303057,
          917372.7931837619,
          2012344.678584738,
          1137372.0615808493,
          737746.6593477477,
          1037167.4942426492,
          246059.39340478205,
          1519771.631927084,
          680180.0253889142,
          2263124.652085496,
          393812.8360250137,
          823850.9958898975,
          590098.2470147192,
          856460.7650684728,
          654773.2441703065,
          1129821.604686272,
          633931.8093708951,
          724860.4799641486,
          901956.4153534295,
          1011343.3488235859,
          582786.0464589914,
          415807.3355459779,
          876240.1255500657,
          980265.682709263,
          718590.9506999322,
          988430.4873710246,
          650415.6415126328,
          942967.5194044502,
          1073589.0383910537,
          735140.8255356734,
          828236.2848771865,
          907104.1382834633,
          909606.8301343393,
          967561.7842887789,
          574546.4367150711,
          1458546.6491977992,
          811730.7945253078,
          1369559.6543479804,
          580244.6028586208,
          1029623.4675481225,
          788052.1420064297,
          488094.67110800673,
          998193.4924474309,
          538046.6357798778,
          2108946.0306390347,
          874439.8736767625,
          987353.7664990524,
          940673.4660141004,
          1096945.9286649814,
          627236.2919870499
         ],
         "yaxis": "y"
        },
        {
         "hovertemplate": "<b>OLS trendline</b><br>y = 0.785789 * x + 214599<br>R<sup>2</sup>=0.783580<br><br>x=%{x}<br>y=%{y} <b>(trend)</b><extra></extra>",
         "legendgroup": "",
         "marker": {
          "color": "#636efa",
          "symbol": "circle"
         },
         "mode": "lines",
         "name": "",
         "showlegend": false,
         "type": "scatter",
         "x": [
          249900,
          341000,
          349900,
          359000,
          359000,
          369000,
          379000,
          379900,
          399000,
          418800,
          419000,
          439998,
          449000,
          452000,
          459900,
          459999,
          465000,
          465000,
          468990,
          469000,
          469900,
          469900,
          474900,
          475000,
          478000,
          479900,
          487500,
          488800,
          489000,
          489000,
          490000,
          495000,
          498000,
          498999,
          499000,
          499000,
          499000,
          499000,
          499000,
          499000,
          499000,
          499900,
          499900,
          499900,
          499900,
          499900,
          499989,
          500000,
          509900,
          509988,
          510000,
          515000,
          518000,
          519900,
          520800,
          525000,
          528888,
          529900,
          530000,
          539000,
          539000,
          540000,
          540000,
          543000,
          545000,
          545000,
          548000,
          549000,
          549000,
          549900,
          549900,
          549900,
          549900,
          549900,
          549999,
          549999,
          550000,
          558000,
          558800,
          558888,
          559000,
          559000,
          559000,
          559000,
          559000,
          559800,
          559900,
          560000,
          565000,
          569000,
          569900,
          569900,
          569900,
          570000,
          574000,
          575000,
          575000,
          575000,
          575000,
          575000,
          579000,
          579000,
          579000,
          579000,
          579000,
          579000,
          579000,
          579900,
          579999,
          583000,
          584900,
          585000,
          585000,
          586000,
          588000,
          588888,
          589000,
          589900,
          589900,
          589999,
          590000,
          590000,
          590000,
          592900,
          595000,
          599000,
          599000,
          599000,
          599000,
          599000,
          599000,
          599000,
          599000,
          599000,
          599000,
          599000,
          599000,
          599000,
          599000,
          599000,
          599000,
          599000,
          599800,
          599800,
          599900,
          599900,
          599900,
          599900,
          599900,
          599999,
          600000,
          608000,
          609000,
          609900,
          609900,
          610000,
          615000,
          618500,
          619000,
          619000,
          619000,
          619900,
          619900,
          619900,
          619900,
          619900,
          620000,
          628800,
          628888,
          629000,
          629000,
          629900,
          629900,
          629900,
          634000,
          635000,
          635000,
          639000,
          639000,
          639000,
          639000,
          639000,
          639800,
          639900,
          639900,
          639900,
          640000,
          645000,
          645000,
          645900,
          648000,
          648000,
          648000,
          648800,
          648800,
          648800,
          648800,
          648888,
          649000,
          649000,
          649000,
          649888,
          649900,
          649900,
          649900,
          649900,
          649900,
          649900,
          649900,
          650000,
          650000,
          650000,
          650000,
          654999,
          655000,
          658000,
          658000,
          658000,
          658000,
          659000,
          659000,
          659000,
          659000,
          659000,
          659000,
          659777,
          659900,
          659990,
          659999,
          660000,
          660000,
          660000,
          660000,
          665000,
          665999,
          668000,
          668000,
          669000,
          669000,
          669990,
          670000,
          674900,
          675000,
          678888,
          678900,
          679900,
          679999,
          680000,
          680800,
          685000,
          686000,
          688800,
          688800,
          689000,
          689000,
          689900,
          689999,
          690000,
          690000,
          699000,
          699000,
          699000,
          699000,
          699000,
          699000,
          699000,
          699000,
          699000,
          699000,
          699000,
          699888,
          699900,
          699900,
          699999,
          707000,
          709000,
          709900,
          710000,
          715000,
          715000,
          715900,
          719000,
          719000,
          719000,
          719000,
          719900,
          720000,
          720000,
          720000,
          720000,
          724900,
          724900,
          724999,
          724999,
          725000,
          725000,
          727000,
          728000,
          728800,
          729000,
          729900,
          729900,
          729999,
          738000,
          739000,
          739000,
          739888,
          739900,
          740000,
          745000,
          745000,
          748000,
          749000,
          749000,
          749000,
          749000,
          749000,
          749900,
          749900,
          749900,
          749900,
          749900,
          750000,
          750000,
          750000,
          755000,
          758000,
          759000,
          759000,
          759000,
          760000,
          765800,
          768800,
          769000,
          774800,
          774900,
          774998,
          775000,
          779000,
          779900,
          779900,
          788000,
          788000,
          788800,
          788888,
          789000,
          789900,
          792700,
          794900,
          795000,
          795000,
          795900,
          797000,
          798000,
          799000,
          799000,
          799000,
          799000,
          799000,
          799100,
          799880,
          799900,
          799900,
          799990,
          799998,
          799999,
          799999,
          805000,
          805000,
          809000,
          819000,
          822000,
          825000,
          825000,
          825000,
          828888,
          829000,
          829000,
          829900,
          829900,
          832900,
          835000,
          839000,
          839000,
          839000,
          839100,
          849000,
          849000,
          849900,
          849900,
          849900,
          849900,
          855000,
          859000,
          859000,
          861000,
          869000,
          869800,
          869999,
          874900,
          875000,
          879000,
          885000,
          888000,
          888888,
          889000,
          889000,
          898000,
          898000,
          898000,
          898880,
          899000,
          899000,
          899000,
          899888,
          899888,
          899900,
          899900,
          899900,
          899900,
          899900,
          899900,
          899990,
          899999,
          900000,
          915000,
          917900,
          919000,
          920000,
          928500,
          930000,
          930000,
          949000,
          949000,
          949900,
          949900,
          949900,
          950000,
          950000,
          950000,
          950000,
          959000,
          959900,
          978000,
          988000,
          988000,
          988800,
          989000,
          989000,
          989000,
          989000,
          998000,
          998000,
          998000,
          998000,
          998000,
          998500,
          999000,
          999900,
          999900,
          999900,
          999900,
          1018000,
          1020000,
          1025000,
          1025000,
          1028000,
          1038000,
          1039900,
          1050000,
          1050000,
          1059000,
          1069000,
          1080000,
          1088000,
          1089000,
          1099000,
          1099900,
          1099900,
          1108000,
          1118000,
          1129900,
          1135000,
          1139000,
          1148000,
          1150000,
          1160000,
          1168800,
          1169900,
          1169999,
          1180000,
          1190000,
          1198000,
          1198800,
          1199000,
          1199000,
          1199000,
          1199000,
          1199500,
          1199900,
          1199999,
          1200000,
          1219990,
          1239000,
          1249000,
          1250000,
          1265000,
          1279000,
          1285000,
          1288888,
          1298000,
          1298000,
          1299000,
          1299000,
          1299000,
          1299000,
          1299000,
          1320000,
          1329000,
          1345000,
          1349000,
          1353800,
          1355000,
          1368000,
          1388000,
          1389000,
          1389900,
          1395000,
          1395000,
          1398800,
          1399000,
          1399000,
          1399000,
          1400000,
          1407490,
          1408800,
          1450000,
          1459000,
          1478000,
          1495000,
          1498000,
          1499000,
          1499999,
          1520000,
          1538000,
          1549000,
          1590000,
          1595000,
          1599000,
          1599900,
          1668000,
          1685000,
          1695000,
          1699000,
          1699000,
          1700000,
          1749900,
          1788000,
          1789000,
          1790000,
          1799000,
          1829000,
          1880000,
          1890000,
          1899000,
          1929900,
          1975000,
          1988000,
          1995000,
          1998000,
          1999000,
          1999990,
          2005000,
          2063900,
          2095000,
          2099999,
          2248550,
          2249000,
          2299000,
          2299990,
          2299990,
          2380000,
          2390000,
          2399000,
          2495000,
          2595000,
          2649900,
          2650000,
          2650000,
          2650000,
          2680000,
          2690000,
          2770000,
          2850000,
          2880000,
          2899900,
          2899900,
          2950000,
          2980000,
          2988000,
          2995000,
          2999999,
          3100000,
          3199000,
          3439000,
          3489000,
          3495000,
          3500000,
          3578000,
          3699000,
          3798000,
          3850000,
          3890000,
          3895000,
          3990000,
          3995000
         ],
         "xaxis": "x",
         "y": [
          410967.82038142503,
          482553.19156025496,
          489546.7130036313,
          496697.39223225205,
          496697.39223225205,
          504555.2814944727,
          512413.17075669335,
          513120.38079029316,
          528128.9492811345,
          543687.5700203314,
          543844.7278055758,
          560344.7236783867,
          567418.3955922377,
          569775.7623709039,
          575983.4948880582,
          576061.2879917541,
          579991.0184117907,
          579991.0184117907,
          583126.3162274167,
          583134.174116679,
          583841.3841502788,
          583841.3841502788,
          587770.3287813892,
          587848.9076740113,
          590206.2744526775,
          591699.2734124995,
          597671.2692517871,
          598692.7948558758,
          598849.9526411202,
          598849.9526411202,
          599635.7415673423,
          603564.6861984526,
          605922.0529771188,
          606707.0561144146,
          606707.8419033408,
          606707.8419033408,
          606707.8419033408,
          606707.8419033408,
          606707.8419033408,
          606707.8419033408,
          606707.8419033408,
          607415.0519369406,
          607415.0519369406,
          607415.0519369406,
          607415.0519369406,
          607415.0519369406,
          607484.9871513745,
          607493.6308295629,
          615272.9411991613,
          615342.0906246689,
          615351.5200917835,
          619280.4647228938,
          621637.83150156,
          623130.8304613819,
          623838.0404949818,
          627138.3539851145,
          630193.5013302658,
          630988.7197236025,
          631067.2986162248,
          638139.3989522234,
          638139.3989522234,
          638925.1878784454,
          638925.1878784454,
          641282.5546571115,
          642854.1325095557,
          642854.1325095557,
          645211.4992882219,
          645997.288214444,
          645997.288214444,
          646704.4982480438,
          646704.4982480438,
          646704.4982480438,
          646704.4982480438,
          646704.4982480438,
          646782.2913517398,
          646782.2913517398,
          646783.077140666,
          653069.3885504425,
          653698.0196914201,
          653767.1691169277,
          653855.1774766645,
          653855.1774766645,
          653855.1774766645,
          653855.1774766645,
          653855.1774766645,
          654483.8086176423,
          654562.3875102644,
          654640.9664028867,
          658569.911033997,
          661713.0667388852,
          662420.2767724851,
          662420.2767724851,
          662420.2767724851,
          662498.8556651073,
          665642.0113699955,
          666427.8002962176,
          666427.8002962176,
          666427.8002962176,
          666427.8002962176,
          666427.8002962176,
          669570.9560011058,
          669570.9560011058,
          669570.9560011058,
          669570.9560011058,
          669570.9560011058,
          669570.9560011058,
          669570.9560011058,
          670278.1660347057,
          670355.9591384017,
          672714.1117059941,
          674207.110665816,
          674285.6895584383,
          674285.6895584383,
          675071.4784846603,
          676643.0563371044,
          677340.8369035895,
          677428.8452633264,
          678136.0552969263,
          678136.0552969263,
          678213.8484006223,
          678214.6341895486,
          678214.6341895486,
          678214.6341895486,
          680493.4220755924,
          682143.5788206588,
          685286.7345255471,
          685286.7345255471,
          685286.7345255471,
          685286.7345255471,
          685286.7345255471,
          685286.7345255471,
          685286.7345255471,
          685286.7345255471,
          685286.7345255471,
          685286.7345255471,
          685286.7345255471,
          685286.7345255471,
          685286.7345255471,
          685286.7345255471,
          685286.7345255471,
          685286.7345255471,
          685286.7345255471,
          685915.3656665247,
          685915.3656665247,
          685993.9445591469,
          685993.9445591469,
          685993.9445591469,
          685993.9445591469,
          685993.9445591469,
          686071.737662843,
          686072.5234517691,
          692358.8348615456,
          693144.6237877677,
          693851.8338213676,
          693851.8338213676,
          693930.4127139897,
          697859.3573451,
          700609.6185868772,
          701002.5130499883,
          701002.5130499883,
          701002.5130499883,
          701709.7230835882,
          701709.7230835882,
          701709.7230835882,
          701709.7230835882,
          701709.7230835882,
          701788.3019762104,
          708703.2445269645,
          708772.3939524721,
          708860.4023122089,
          708860.4023122089,
          709567.6123458088,
          709567.6123458088,
          709567.6123458088,
          712789.3469433193,
          713575.1358695413,
          713575.1358695413,
          716718.2915744296,
          716718.2915744296,
          716718.2915744296,
          716718.2915744296,
          716718.2915744296,
          717346.9227154072,
          717425.5016080295,
          717425.5016080295,
          717425.5016080295,
          717504.0805006516,
          721433.0251317619,
          721433.0251317619,
          722140.2351653618,
          723790.3919104282,
          723790.3919104282,
          723790.3919104282,
          724419.0230514058,
          724419.0230514058,
          724419.0230514058,
          724419.0230514058,
          724488.1724769133,
          724576.1808366502,
          724576.1808366502,
          724576.1808366502,
          725273.9614031354,
          725283.3908702501,
          725283.3908702501,
          725283.3908702501,
          725283.3908702501,
          725283.3908702501,
          725283.3908702501,
          725283.3908702501,
          725361.9697628723,
          725361.9697628723,
          725361.9697628723,
          725361.9697628723,
          729290.1286050563,
          729290.9143939826,
          731648.2811726488,
          731648.2811726488,
          731648.2811726488,
          731648.2811726488,
          732434.0700988708,
          732434.0700988708,
          732434.0700988708,
          732434.0700988708,
          732434.0700988708,
          732434.0700988708,
          733044.6280945453,
          733141.2801324707,
          733212.0011358307,
          733219.0732361666,
          733219.8590250929,
          733219.8590250929,
          733219.8590250929,
          733219.8590250929,
          737148.8036562032,
          737933.806793499,
          739506.1704348694,
          739506.1704348694,
          740291.9593610915,
          740291.9593610915,
          741069.8903980514,
          741077.7482873135,
          744928.1140258017,
          745006.6929184238,
          748061.8402635752,
          748071.2697306898,
          748857.058656912,
          748934.8517606079,
          748935.6375495341,
          749564.2686905118,
          752864.5821806445,
          753650.3711068665,
          755850.5801002883,
          755850.5801002883,
          756007.7378855327,
          756007.7378855327,
          756714.9479191325,
          756792.7410228285,
          756793.5268117548,
          756793.5268117548,
          763865.6271477534,
          763865.6271477534,
          763865.6271477534,
          763865.6271477534,
          763865.6271477534,
          763865.6271477534,
          763865.6271477534,
          763865.6271477534,
          763865.6271477534,
          763865.6271477534,
          763865.6271477534,
          764563.4077142385,
          764572.8371813532,
          764572.8371813532,
          764650.6302850492,
          770151.9385575298,
          771723.516409974,
          772430.7264435738,
          772509.305336196,
          776438.2499673064,
          776438.2499673064,
          777145.4600009061,
          779581.4056721946,
          779581.4056721946,
          779581.4056721946,
          779581.4056721946,
          780288.6157057944,
          780367.1945984167,
          780367.1945984167,
          780367.1945984167,
          780367.1945984167,
          784217.5603369047,
          784217.5603369047,
          784295.3534406007,
          784295.3534406007,
          784296.139229527,
          784296.139229527,
          785867.7170819711,
          786653.5060081931,
          787282.1371491707,
          787439.2949344153,
          788146.504968015,
          788146.504968015,
          788224.2980717111,
          794511.3952704137,
          795297.1841966358,
          795297.1841966358,
          795994.964763121,
          796004.3942302357,
          796082.9731228579,
          800011.9177539682,
          800011.9177539682,
          802369.2845326344,
          803155.0734588564,
          803155.0734588564,
          803155.0734588564,
          803155.0734588564,
          803155.0734588564,
          803862.2834924563,
          803862.2834924563,
          803862.2834924563,
          803862.2834924563,
          803862.2834924563,
          803940.8623850786,
          803940.8623850786,
          803940.8623850786,
          807869.8070161889,
          810227.173794855,
          811012.9627210771,
          811012.9627210771,
          811012.9627210771,
          811798.7516472992,
          816356.3274193871,
          818713.6941980533,
          818870.8519832977,
          823428.4277553856,
          823507.0066480079,
          823584.0139627777,
          823585.58554063,
          826728.7412455183,
          827435.9512791182,
          827435.9512791182,
          833800.8415815169,
          833800.8415815169,
          834429.4727224945,
          834498.622148002,
          834586.6305077389,
          835293.8405413388,
          837494.0495347606,
          839222.7851724491,
          839301.3640650713,
          839301.3640650713,
          840008.5740986712,
          840872.9419175155,
          841658.7308437375,
          842444.5197699596,
          842444.5197699596,
          842444.5197699596,
          842444.5197699596,
          842444.5197699596,
          842523.0986625818,
          843136.014025035,
          843151.7298035595,
          843151.7298035595,
          843222.4508069195,
          843228.7371183292,
          843229.5229072555,
          843229.5229072555,
          847159.2533272919,
          847159.2533272919,
          850302.4090321802,
          858160.2982944008,
          860517.6650730671,
          862875.0318517332,
          862875.0318517332,
          862875.0318517332,
          865930.1791968846,
          866018.1875566215,
          866018.1875566215,
          866725.3975902214,
          866725.3975902214,
          869082.7643688875,
          870732.9211139538,
          873876.0768188421,
          873876.0768188421,
          873876.0768188421,
          873954.6557114644,
          881733.9660810627,
          881733.9660810627,
          882441.1761146626,
          882441.1761146626,
          882441.1761146626,
          882441.1761146626,
          886448.6996383951,
          889591.8553432834,
          889591.8553432834,
          891163.4331957274,
          897449.744605504,
          898078.3757464816,
          898234.7477427998,
          902085.8992702141,
          902164.4781628363,
          905307.6338677246,
          910022.367425057,
          912379.7342037231,
          913077.5147702084,
          913165.5231299453,
          913165.5231299453,
          920237.6234659437,
          920237.6234659437,
          920237.6234659437,
          920929.1177210192,
          921023.4123921659,
          921023.4123921659,
          921023.4123921659,
          921721.192958651,
          921721.192958651,
          921730.6224257657,
          921730.6224257657,
          921730.6224257657,
          921730.6224257657,
          921730.6224257657,
          921730.6224257657,
          921801.3434291257,
          921808.4155294617,
          921809.2013183879,
          933596.0352117189,
          935874.8230977628,
          936739.190916607,
          937524.9798428292,
          944204.1857157167,
          945382.8691050498,
          945382.8691050498,
          960312.8587032689,
          960312.8587032689,
          961020.0687368688,
          961020.0687368688,
          961020.0687368688,
          961098.647629491,
          961098.647629491,
          961098.647629491,
          961098.647629491,
          968170.7479654896,
          968877.9579990895,
          983100.7375637088,
          990958.6268259294,
          990958.6268259294,
          991587.2579669071,
          991744.4157521515,
          991744.4157521515,
          991744.4157521515,
          991744.4157521515,
          998816.51608815,
          998816.51608815,
          998816.51608815,
          998816.51608815,
          998816.51608815,
          999209.410551261,
          999602.3050143721,
          1000309.515047972,
          1000309.515047972,
          1000309.515047972,
          1000309.515047972,
          1014532.2946125913,
          1016103.8724650354,
          1020032.8170961457,
          1020032.8170961457,
          1022390.1838748119,
          1030248.0731370326,
          1031741.0720968544,
          1039677.5402516973,
          1039677.5402516973,
          1046749.6405876959,
          1054607.5298499165,
          1063251.2080383592,
          1069537.5194481357,
          1070323.3083743576,
          1078181.1976365782,
          1078888.4076701782,
          1078888.4076701782,
          1085253.297972577,
          1093111.1872347975,
          1102462.07545684,
          1106469.5989805725,
          1109612.7546854608,
          1116684.8550214595,
          1118256.4328739035,
          1126114.3221361241,
          1133029.2646868783,
          1133893.6325057226,
          1133971.4256094187,
          1141830.1006605653,
          1149687.9899227861,
          1155974.3013325625,
          1156602.93247354,
          1156760.0902587846,
          1156760.0902587846,
          1156760.0902587846,
          1156760.0902587846,
          1157152.9847218955,
          1157467.3002923843,
          1157545.0933960804,
          1157545.8791850067,
          1173253.7998201856,
          1188191.6473076672,
          1196049.5365698878,
          1196835.32549611,
          1208622.1593894407,
          1219623.2043565495,
          1224337.937913882,
          1227393.0852590334,
          1234553.1939547688,
          1234553.1939547688,
          1235338.982880991,
          1235338.982880991,
          1235338.982880991,
          1235338.982880991,
          1235338.982880991,
          1251840.5503316543,
          1258912.6506676527,
          1271485.2734872056,
          1274628.429192094,
          1278400.2160379598,
          1279343.1627494264,
          1289558.4187903132,
          1305274.1973147544,
          1306059.9862409765,
          1306767.1962745762,
          1310774.7197983088,
          1310774.7197983088,
          1313760.7177179528,
          1313917.875503197,
          1313917.875503197,
          1313917.875503197,
          1314703.6644294192,
          1320589.2234868223,
          1321618.6069801734,
          1353993.1107405224,
          1361065.2110765208,
          1375995.2006747401,
          1389353.6124205152,
          1391710.9791991813,
          1392496.7681254034,
          1393281.7712626993,
          1408998.3355760667,
          1423142.536248064,
          1431786.2144365064,
          1464003.560411611,
          1467932.5050427213,
          1471075.6607476096,
          1471782.8707812096,
          1525295.096656932,
          1538653.508402707,
          1546511.3976649276,
          1549654.553369816,
          1549654.553369816,
          1550440.3422960378,
          1589651.2097145189,
          1619589.7678035793,
          1620375.5567298015,
          1621161.3456560236,
          1628233.445992022,
          1651807.113778684,
          1691882.3490160091,
          1699740.2382782297,
          1706812.3386142284,
          1731093.2164344902,
          1766532.297007105,
          1776747.5530479918,
          1782248.0755315465,
          1784605.4423102126,
          1785391.2312364345,
          1786169.1622733944,
          1790105.964793767,
          1836388.9325482466,
          1860826.9681537526,
          1864755.1269959367,
          1981484.8577751503,
          1981838.4627919502,
          2021127.9091030534,
          2021905.8401400133,
          2021905.8401400133,
          2084776.8121270405,
          2092634.701389261,
          2099706.8017252595,
          2175142.538642578,
          2253721.4312647837,
          2296861.243314375,
          2296939.8222069973,
          2296939.8222069973,
          2296939.8222069973,
          2320513.4899936593,
          2328371.3792558797,
          2391234.493353645,
          2454097.60745141,
          2477671.2752380716,
          2493308.4748698906,
          2493308.4748698906,
          2532676.500073616,
          2556250.167860278,
          2562536.4792700545,
          2568037.0017536087,
          2571965.160595793,
          2650544.8390069255,
          2728337.9427029095,
          2916927.2849962045,
          2956216.7313073077,
          2960931.46486464,
          2964860.4094957504,
          3026151.9457410714,
          3121232.405813941,
          3199025.5095099253,
          3239886.5336734722,
          3271318.090722355,
          3275247.035353465,
          3349896.983344561,
          3353825.9279756714
         ],
         "yaxis": "y"
        }
       ],
       "layout": {
        "legend": {
         "tracegroupgap": 0
        },
        "margin": {
         "t": 60
        },
        "template": {
         "data": {
          "bar": [
           {
            "error_x": {
             "color": "#2a3f5f"
            },
            "error_y": {
             "color": "#2a3f5f"
            },
            "marker": {
             "line": {
              "color": "#E5ECF6",
              "width": 0.5
             },
             "pattern": {
              "fillmode": "overlay",
              "size": 10,
              "solidity": 0.2
             }
            },
            "type": "bar"
           }
          ],
          "barpolar": [
           {
            "marker": {
             "line": {
              "color": "#E5ECF6",
              "width": 0.5
             },
             "pattern": {
              "fillmode": "overlay",
              "size": 10,
              "solidity": 0.2
             }
            },
            "type": "barpolar"
           }
          ],
          "carpet": [
           {
            "aaxis": {
             "endlinecolor": "#2a3f5f",
             "gridcolor": "white",
             "linecolor": "white",
             "minorgridcolor": "white",
             "startlinecolor": "#2a3f5f"
            },
            "baxis": {
             "endlinecolor": "#2a3f5f",
             "gridcolor": "white",
             "linecolor": "white",
             "minorgridcolor": "white",
             "startlinecolor": "#2a3f5f"
            },
            "type": "carpet"
           }
          ],
          "choropleth": [
           {
            "colorbar": {
             "outlinewidth": 0,
             "ticks": ""
            },
            "type": "choropleth"
           }
          ],
          "contour": [
           {
            "colorbar": {
             "outlinewidth": 0,
             "ticks": ""
            },
            "colorscale": [
             [
              0,
              "#0d0887"
             ],
             [
              0.1111111111111111,
              "#46039f"
             ],
             [
              0.2222222222222222,
              "#7201a8"
             ],
             [
              0.3333333333333333,
              "#9c179e"
             ],
             [
              0.4444444444444444,
              "#bd3786"
             ],
             [
              0.5555555555555556,
              "#d8576b"
             ],
             [
              0.6666666666666666,
              "#ed7953"
             ],
             [
              0.7777777777777778,
              "#fb9f3a"
             ],
             [
              0.8888888888888888,
              "#fdca26"
             ],
             [
              1,
              "#f0f921"
             ]
            ],
            "type": "contour"
           }
          ],
          "contourcarpet": [
           {
            "colorbar": {
             "outlinewidth": 0,
             "ticks": ""
            },
            "type": "contourcarpet"
           }
          ],
          "heatmap": [
           {
            "colorbar": {
             "outlinewidth": 0,
             "ticks": ""
            },
            "colorscale": [
             [
              0,
              "#0d0887"
             ],
             [
              0.1111111111111111,
              "#46039f"
             ],
             [
              0.2222222222222222,
              "#7201a8"
             ],
             [
              0.3333333333333333,
              "#9c179e"
             ],
             [
              0.4444444444444444,
              "#bd3786"
             ],
             [
              0.5555555555555556,
              "#d8576b"
             ],
             [
              0.6666666666666666,
              "#ed7953"
             ],
             [
              0.7777777777777778,
              "#fb9f3a"
             ],
             [
              0.8888888888888888,
              "#fdca26"
             ],
             [
              1,
              "#f0f921"
             ]
            ],
            "type": "heatmap"
           }
          ],
          "heatmapgl": [
           {
            "colorbar": {
             "outlinewidth": 0,
             "ticks": ""
            },
            "colorscale": [
             [
              0,
              "#0d0887"
             ],
             [
              0.1111111111111111,
              "#46039f"
             ],
             [
              0.2222222222222222,
              "#7201a8"
             ],
             [
              0.3333333333333333,
              "#9c179e"
             ],
             [
              0.4444444444444444,
              "#bd3786"
             ],
             [
              0.5555555555555556,
              "#d8576b"
             ],
             [
              0.6666666666666666,
              "#ed7953"
             ],
             [
              0.7777777777777778,
              "#fb9f3a"
             ],
             [
              0.8888888888888888,
              "#fdca26"
             ],
             [
              1,
              "#f0f921"
             ]
            ],
            "type": "heatmapgl"
           }
          ],
          "histogram": [
           {
            "marker": {
             "pattern": {
              "fillmode": "overlay",
              "size": 10,
              "solidity": 0.2
             }
            },
            "type": "histogram"
           }
          ],
          "histogram2d": [
           {
            "colorbar": {
             "outlinewidth": 0,
             "ticks": ""
            },
            "colorscale": [
             [
              0,
              "#0d0887"
             ],
             [
              0.1111111111111111,
              "#46039f"
             ],
             [
              0.2222222222222222,
              "#7201a8"
             ],
             [
              0.3333333333333333,
              "#9c179e"
             ],
             [
              0.4444444444444444,
              "#bd3786"
             ],
             [
              0.5555555555555556,
              "#d8576b"
             ],
             [
              0.6666666666666666,
              "#ed7953"
             ],
             [
              0.7777777777777778,
              "#fb9f3a"
             ],
             [
              0.8888888888888888,
              "#fdca26"
             ],
             [
              1,
              "#f0f921"
             ]
            ],
            "type": "histogram2d"
           }
          ],
          "histogram2dcontour": [
           {
            "colorbar": {
             "outlinewidth": 0,
             "ticks": ""
            },
            "colorscale": [
             [
              0,
              "#0d0887"
             ],
             [
              0.1111111111111111,
              "#46039f"
             ],
             [
              0.2222222222222222,
              "#7201a8"
             ],
             [
              0.3333333333333333,
              "#9c179e"
             ],
             [
              0.4444444444444444,
              "#bd3786"
             ],
             [
              0.5555555555555556,
              "#d8576b"
             ],
             [
              0.6666666666666666,
              "#ed7953"
             ],
             [
              0.7777777777777778,
              "#fb9f3a"
             ],
             [
              0.8888888888888888,
              "#fdca26"
             ],
             [
              1,
              "#f0f921"
             ]
            ],
            "type": "histogram2dcontour"
           }
          ],
          "mesh3d": [
           {
            "colorbar": {
             "outlinewidth": 0,
             "ticks": ""
            },
            "type": "mesh3d"
           }
          ],
          "parcoords": [
           {
            "line": {
             "colorbar": {
              "outlinewidth": 0,
              "ticks": ""
             }
            },
            "type": "parcoords"
           }
          ],
          "pie": [
           {
            "automargin": true,
            "type": "pie"
           }
          ],
          "scatter": [
           {
            "fillpattern": {
             "fillmode": "overlay",
             "size": 10,
             "solidity": 0.2
            },
            "type": "scatter"
           }
          ],
          "scatter3d": [
           {
            "line": {
             "colorbar": {
              "outlinewidth": 0,
              "ticks": ""
             }
            },
            "marker": {
             "colorbar": {
              "outlinewidth": 0,
              "ticks": ""
             }
            },
            "type": "scatter3d"
           }
          ],
          "scattercarpet": [
           {
            "marker": {
             "colorbar": {
              "outlinewidth": 0,
              "ticks": ""
             }
            },
            "type": "scattercarpet"
           }
          ],
          "scattergeo": [
           {
            "marker": {
             "colorbar": {
              "outlinewidth": 0,
              "ticks": ""
             }
            },
            "type": "scattergeo"
           }
          ],
          "scattergl": [
           {
            "marker": {
             "colorbar": {
              "outlinewidth": 0,
              "ticks": ""
             }
            },
            "type": "scattergl"
           }
          ],
          "scattermapbox": [
           {
            "marker": {
             "colorbar": {
              "outlinewidth": 0,
              "ticks": ""
             }
            },
            "type": "scattermapbox"
           }
          ],
          "scatterpolar": [
           {
            "marker": {
             "colorbar": {
              "outlinewidth": 0,
              "ticks": ""
             }
            },
            "type": "scatterpolar"
           }
          ],
          "scatterpolargl": [
           {
            "marker": {
             "colorbar": {
              "outlinewidth": 0,
              "ticks": ""
             }
            },
            "type": "scatterpolargl"
           }
          ],
          "scatterternary": [
           {
            "marker": {
             "colorbar": {
              "outlinewidth": 0,
              "ticks": ""
             }
            },
            "type": "scatterternary"
           }
          ],
          "surface": [
           {
            "colorbar": {
             "outlinewidth": 0,
             "ticks": ""
            },
            "colorscale": [
             [
              0,
              "#0d0887"
             ],
             [
              0.1111111111111111,
              "#46039f"
             ],
             [
              0.2222222222222222,
              "#7201a8"
             ],
             [
              0.3333333333333333,
              "#9c179e"
             ],
             [
              0.4444444444444444,
              "#bd3786"
             ],
             [
              0.5555555555555556,
              "#d8576b"
             ],
             [
              0.6666666666666666,
              "#ed7953"
             ],
             [
              0.7777777777777778,
              "#fb9f3a"
             ],
             [
              0.8888888888888888,
              "#fdca26"
             ],
             [
              1,
              "#f0f921"
             ]
            ],
            "type": "surface"
           }
          ],
          "table": [
           {
            "cells": {
             "fill": {
              "color": "#EBF0F8"
             },
             "line": {
              "color": "white"
             }
            },
            "header": {
             "fill": {
              "color": "#C8D4E3"
             },
             "line": {
              "color": "white"
             }
            },
            "type": "table"
           }
          ]
         },
         "layout": {
          "annotationdefaults": {
           "arrowcolor": "#2a3f5f",
           "arrowhead": 0,
           "arrowwidth": 1
          },
          "autotypenumbers": "strict",
          "coloraxis": {
           "colorbar": {
            "outlinewidth": 0,
            "ticks": ""
           }
          },
          "colorscale": {
           "diverging": [
            [
             0,
             "#8e0152"
            ],
            [
             0.1,
             "#c51b7d"
            ],
            [
             0.2,
             "#de77ae"
            ],
            [
             0.3,
             "#f1b6da"
            ],
            [
             0.4,
             "#fde0ef"
            ],
            [
             0.5,
             "#f7f7f7"
            ],
            [
             0.6,
             "#e6f5d0"
            ],
            [
             0.7,
             "#b8e186"
            ],
            [
             0.8,
             "#7fbc41"
            ],
            [
             0.9,
             "#4d9221"
            ],
            [
             1,
             "#276419"
            ]
           ],
           "sequential": [
            [
             0,
             "#0d0887"
            ],
            [
             0.1111111111111111,
             "#46039f"
            ],
            [
             0.2222222222222222,
             "#7201a8"
            ],
            [
             0.3333333333333333,
             "#9c179e"
            ],
            [
             0.4444444444444444,
             "#bd3786"
            ],
            [
             0.5555555555555556,
             "#d8576b"
            ],
            [
             0.6666666666666666,
             "#ed7953"
            ],
            [
             0.7777777777777778,
             "#fb9f3a"
            ],
            [
             0.8888888888888888,
             "#fdca26"
            ],
            [
             1,
             "#f0f921"
            ]
           ],
           "sequentialminus": [
            [
             0,
             "#0d0887"
            ],
            [
             0.1111111111111111,
             "#46039f"
            ],
            [
             0.2222222222222222,
             "#7201a8"
            ],
            [
             0.3333333333333333,
             "#9c179e"
            ],
            [
             0.4444444444444444,
             "#bd3786"
            ],
            [
             0.5555555555555556,
             "#d8576b"
            ],
            [
             0.6666666666666666,
             "#ed7953"
            ],
            [
             0.7777777777777778,
             "#fb9f3a"
            ],
            [
             0.8888888888888888,
             "#fdca26"
            ],
            [
             1,
             "#f0f921"
            ]
           ]
          },
          "colorway": [
           "#636efa",
           "#EF553B",
           "#00cc96",
           "#ab63fa",
           "#FFA15A",
           "#19d3f3",
           "#FF6692",
           "#B6E880",
           "#FF97FF",
           "#FECB52"
          ],
          "font": {
           "color": "#2a3f5f"
          },
          "geo": {
           "bgcolor": "white",
           "lakecolor": "white",
           "landcolor": "#E5ECF6",
           "showlakes": true,
           "showland": true,
           "subunitcolor": "white"
          },
          "hoverlabel": {
           "align": "left"
          },
          "hovermode": "closest",
          "mapbox": {
           "style": "light"
          },
          "paper_bgcolor": "white",
          "plot_bgcolor": "#E5ECF6",
          "polar": {
           "angularaxis": {
            "gridcolor": "white",
            "linecolor": "white",
            "ticks": ""
           },
           "bgcolor": "#E5ECF6",
           "radialaxis": {
            "gridcolor": "white",
            "linecolor": "white",
            "ticks": ""
           }
          },
          "scene": {
           "xaxis": {
            "backgroundcolor": "#E5ECF6",
            "gridcolor": "white",
            "gridwidth": 2,
            "linecolor": "white",
            "showbackground": true,
            "ticks": "",
            "zerolinecolor": "white"
           },
           "yaxis": {
            "backgroundcolor": "#E5ECF6",
            "gridcolor": "white",
            "gridwidth": 2,
            "linecolor": "white",
            "showbackground": true,
            "ticks": "",
            "zerolinecolor": "white"
           },
           "zaxis": {
            "backgroundcolor": "#E5ECF6",
            "gridcolor": "white",
            "gridwidth": 2,
            "linecolor": "white",
            "showbackground": true,
            "ticks": "",
            "zerolinecolor": "white"
           }
          },
          "shapedefaults": {
           "line": {
            "color": "#2a3f5f"
           }
          },
          "ternary": {
           "aaxis": {
            "gridcolor": "white",
            "linecolor": "white",
            "ticks": ""
           },
           "baxis": {
            "gridcolor": "white",
            "linecolor": "white",
            "ticks": ""
           },
           "bgcolor": "#E5ECF6",
           "caxis": {
            "gridcolor": "white",
            "linecolor": "white",
            "ticks": ""
           }
          },
          "title": {
           "x": 0.05
          },
          "xaxis": {
           "automargin": true,
           "gridcolor": "white",
           "linecolor": "white",
           "ticks": "",
           "title": {
            "standoff": 15
           },
           "zerolinecolor": "white",
           "zerolinewidth": 2
          },
          "yaxis": {
           "automargin": true,
           "gridcolor": "white",
           "linecolor": "white",
           "ticks": "",
           "title": {
            "standoff": 15
           },
           "zerolinecolor": "white",
           "zerolinewidth": 2
          }
         }
        },
        "xaxis": {
         "anchor": "y",
         "domain": [
          0,
          1
         ],
         "title": {
          "text": "x"
         }
        },
        "yaxis": {
         "anchor": "x",
         "domain": [
          0,
          1
         ],
         "title": {
          "text": "y"
         }
        }
       }
      }
     },
     "metadata": {},
     "output_type": "display_data"
    }
   ],
   "source": [
    "px.scatter(x=y_test, y=y_pred_test, trendline='ols')"
   ]
  },
  {
   "attachments": {},
   "cell_type": "markdown",
   "metadata": {},
   "source": [
    "# Let's Make Some Functions!"
   ]
  },
  {
   "attachments": {},
   "cell_type": "markdown",
   "metadata": {},
   "source": [
    "The first few functions will be the data loading & cleaning functions\n",
    "\n",
    "These include: format_zoocasa(), group_zoocasa(), concat_zoocasa() and load_zoocasa()"
   ]
  },
  {
   "cell_type": "code",
   "execution_count": 577,
   "metadata": {},
   "outputs": [],
   "source": [
    "def format_zoocasa(df: pd.DataFrame, condos_only: bool) -> pd.DataFrame:\n",
    "    \"\"\"This function formats the scraped Zoocasa data in numerous ways.\n",
    "\n",
    "    Args:\n",
    "        df (pd.DataFrame): your scraped Zoocasa dataframe\n",
    "        condos_only (bool): keep only condos\n",
    "\n",
    "    Returns:\n",
    "        pd.DataFrame: a formatted Zoocasa dataframe\n",
    "    \"\"\"\n",
    "    # replacing 0 room totals with NaN values\n",
    "    df['rooms_total'].replace(0.0, np.nan, inplace=True)\n",
    "\n",
    "    # Removing all listings added before 2022, not relevant\n",
    "    df = df[(df['added_at'].dt.year == 2022) | (df['added_at'].dt.year == 2023)]\n",
    "\n",
    "    # Removing all null sqft and total rooms\n",
    "    df = df[~df['square_footage_max'].isna() & ~df['square_footage_min'].isna()]\n",
    "    df = df[~df['rooms_total'].isna()]\n",
    "\n",
    "    # Creating a square footage column with the average of min and max\n",
    "    df['square_footage'] = df[['square_footage_min', 'square_footage_max']].mean(axis=1)\n",
    "\n",
    "    # Filling partial bedroom nulls with 0\n",
    "    df['bedrooms_partial'] = df['bedrooms_partial'].fillna(0)\n",
    "    \n",
    "    # adding all partial bedrooms to bedrooms column with half value\n",
    "    df['bedrooms'] = df['bedrooms'] + (df['bedrooms_partial']/2)\n",
    "\n",
    "    # Creating FSA Column\n",
    "    df['fsa'] = df['postal_code'].str.slice(0,3)\n",
    "    df = df[df['fsa'] != 'XXX'] # if listing has no postal code\n",
    "\n",
    "    # deleting any parking number that is above 3 standard deviations from the mean. \n",
    "    # There are no negative \"parking spots\" so I only need to check in the positive direction\n",
    "    df = df[df['parking'] < (df['parking'].describe()['std']*3 + df['parking'].describe()['mean'])]\n",
    "\n",
    "    # I just kind of arbitrarily decided that any property under $200 000 in Toronto is an outlier\n",
    "    df = df[df['price'] > 200000]\n",
    "\n",
    "    # Included Condo Types: Condo Apt, Condo Townhouse, Comm Element Condo, \n",
    "    # Excluded Condo Types (Not enough data points): Co-Op Apt, Co-Ownership Apt, Leasehold Condo\n",
    "\n",
    "    if condos_only:\n",
    "        KEEP = ['Condo Apt', 'Condo Townhouse', 'Comm Element Condo']\n",
    "        df = df[df['type'].isin(KEEP)]\n",
    "\n",
    "    return df"
   ]
  },
  {
   "cell_type": "code",
   "execution_count": 578,
   "metadata": {},
   "outputs": [],
   "source": [
    "def group_zoocasa(df: pd.DataFrame, condos_only: bool) -> pd.DataFrame:\n",
    "    \"\"\"Groups together the 'type' and 'levels' columns to reduce number of features.\n",
    "\n",
    "    Args:\n",
    "        df (pd.DataFrame): formatted Zoocasa listing dataframe\n",
    "        condos_only (bool): if only condos in dataframe\n",
    "\n",
    "    Returns:\n",
    "        pd.DataFrame: _description_\n",
    "    \"\"\"\n",
    "    # Included Levels: Apartment, 2-Storey, Stacked Townhse, Loft, 3-Storey, Multi-Level, Bachelor/Studio\n",
    "    df['levels'] = df['levels'][df['levels'].isin(['Apartment', '2-Storey', 'Stacked Townhse', 'Loft', '3-Storey', 'Multi-Level', 'Bachelor/Studio'])]\n",
    "\n",
    "    # Replacing all Garage types that are not: 'Undergrnd', 'None', 'Built-In', 'Attached', 'Surface' with \"Other\"\n",
    "    df['garage_type'][~df['garage_type'].isin(['Undergrnd', 'None', 'Built-In', 'Attached', 'Surface', 'Other'])] = 'Other'\n",
    "\n",
    "    return df"
   ]
  },
  {
   "cell_type": "code",
   "execution_count": 579,
   "metadata": {},
   "outputs": [],
   "source": [
    "def concat_zoocasa(dfs: list[pd.DataFrame]) -> pd.DataFrame:\n",
    "    \"\"\"concats multiple zoocasa dataframes and drops duplicate listing by MLS num\n",
    "\n",
    "    Args:\n",
    "        dfs (list): list of dataframes to concat\n",
    "\n",
    "    Returns:\n",
    "        pd.DataFrame: _description_\n",
    "    \"\"\"\n",
    "    df = pd.concat(dfs, axis=0)\n",
    "    df.drop_duplicates(subset='mls_num', keep='first', inplace=True)\n",
    "    df.reset_index(drop=True, inplace=True)\n",
    "\n",
    "    return df\n",
    "\n",
    "def load_zoocasa(data_loc: list[str]) -> Union[list[pd.DataFrame], pd.DataFrame]:\n",
    "    \"\"\"_summary_\n",
    "\n",
    "    Args:\n",
    "        data_loc (list[str]): list of strings indicating scraped data(s) from the Zoocasa scraper\n",
    "\n",
    "    Returns:\n",
    "        list[pd.DataFrame]: list of Pandas dataframes with the dates parsed\n",
    "        pd.DataFrame: Pandas dataframe with the dates parsed\n",
    "    \"\"\"\n",
    "    if len(data_loc) > 1:\n",
    "        return [pd.read_csv(data, parse_dates=['added_at']) for data in data_loc]\n",
    "    else:\n",
    "        return pd.read_csv(data_loc[0], parse_dates=['added_at'])"
   ]
  },
  {
   "cell_type": "code",
   "execution_count": 596,
   "metadata": {},
   "outputs": [],
   "source": [
    "data_locations = ['data/zoocasa-jan17.csv', 'data/zoocasa-jan26.csv']\n",
    "df_list = load_zoocasa(data_locations)\n",
    "df = concat_zoocasa(df_list)"
   ]
  },
  {
   "cell_type": "code",
   "execution_count": 597,
   "metadata": {},
   "outputs": [],
   "source": [
    "df = format_zoocasa(df, condos_only=True)"
   ]
  },
  {
   "cell_type": "code",
   "execution_count": 598,
   "metadata": {},
   "outputs": [],
   "source": [
    "df = group_zoocasa(df, condos_only=True)"
   ]
  },
  {
   "attachments": {},
   "cell_type": "markdown",
   "metadata": {},
   "source": [
    "The next few functions will be the model creation functions."
   ]
  },
  {
   "cell_type": "code",
   "execution_count": 599,
   "metadata": {},
   "outputs": [],
   "source": [
    "from sklearn.model_selection import train_test_split\n",
    "from sklearn.linear_model import LinearRegression\n",
    "from sklearn.metrics import r2_score\n",
    "\n",
    "def create_lr_model(df: pd.DataFrame, features: list[str], price_cap: int, random_state: int) -> tuple[LinearRegression(), dict[str, pd.DataFrame]]:\n",
    "    \"\"\"creates a linear regression model based on inputted data\n",
    "\n",
    "    Args:\n",
    "        df (pd.DataFrame): formatted Zoocasa listing dataframe\n",
    "        features (list): list of features to include in the model (include price as well)\n",
    "        price_cap (int): price ceiling of listings to include in model\n",
    "        random_state (int): desired random_state of split ex. 0, 1, 2\n",
    "\n",
    "    Returns:\n",
    "        LinearRegression(): linear regression model\n",
    "        list[pd.DataFrame]: dict of val dataframes\n",
    "    \"\"\"\n",
    "    model_df = df[features]\n",
    "    model_df = model_df[model_df['price'] <= price_cap].reset_index(drop=True)\n",
    "    X = model_df.drop(columns='price')\n",
    "    y = model_df['price']\n",
    "\n",
    "    X = pd.get_dummies(data=X, drop_first=True)\n",
    "\n",
    "    X_train, X_val, y_train, y_val = train_test_split(X, y, test_size=0.2, random_state=random_state) # val data\n",
    "    split = {\n",
    "        'X_val' : X_val,\n",
    "        'y_val' : y_val,\n",
    "        'X_train' : X_train,\n",
    "        'y_train' : y_train\n",
    "    }\n",
    "\n",
    "    lr = LinearRegression()\n",
    "\n",
    "    return lr.fit(X_train, y_train), split"
   ]
  },
  {
   "cell_type": "code",
   "execution_count": 644,
   "metadata": {},
   "outputs": [],
   "source": [
    "features = ['price', 'bedrooms', 'bathrooms', 'square_footage', 'parking', 'type', 'levels', 'rooms_total', 'fsa', 'garage_type']\n",
    "# features = ['price', 'bedrooms', 'bathrooms', 'parking', 'type', 'levels', 'rooms_total', 'garage_type']\n",
    "\n",
    "lr, val_data = create_lr_model(df, features=features, price_cap=4000000, random_state=1)"
   ]
  },
  {
   "cell_type": "code",
   "execution_count": 645,
   "metadata": {},
   "outputs": [
    {
     "data": {
      "text/plain": [
       "0.7606280803208696"
      ]
     },
     "execution_count": 645,
     "metadata": {},
     "output_type": "execute_result"
    }
   ],
   "source": [
    "y_train_predictions = lr.predict(val_data['X_train'])\n",
    "r2_score(val_data['y_train'], y_train_predictions)"
   ]
  },
  {
   "cell_type": "code",
   "execution_count": 646,
   "metadata": {},
   "outputs": [
    {
     "data": {
      "text/plain": [
       "0.7097172280229854"
      ]
     },
     "execution_count": 646,
     "metadata": {},
     "output_type": "execute_result"
    }
   ],
   "source": [
    "y_test_predictions = lr.predict(val_data['X_val'])\n",
    "r2_score(val_data['y_val'], y_test_predictions)"
   ]
  },
  {
   "cell_type": "code",
   "execution_count": 647,
   "metadata": {},
   "outputs": [
    {
     "data": {
      "application/vnd.plotly.v1+json": {
       "config": {
        "plotlyServerURL": "https://plot.ly"
       },
       "data": [
        {
         "hovertemplate": "Actual Price=%{x}<br>Predicted Price=%{y}<extra></extra>",
         "legendgroup": "",
         "marker": {
          "color": "#636efa",
          "symbol": "circle"
         },
         "mode": "markers",
         "name": "",
         "orientation": "v",
         "showlegend": false,
         "type": "scatter",
         "x": [
          715000,
          540000,
          819000,
          649000,
          525000,
          915000,
          699000,
          599000,
          599000,
          1135000,
          889900,
          3950000,
          569999,
          850000,
          669900,
          499000,
          639990,
          599900,
          599000,
          699000,
          1199000,
          578000,
          575000,
          1075000,
          829000,
          795000,
          525000,
          549000,
          575000,
          538800,
          1250000,
          687800,
          629000,
          815900,
          808880,
          755000,
          849900,
          639000,
          789000,
          859000,
          750000,
          589900,
          780000,
          2490000,
          1395000,
          850000,
          625000,
          1845000,
          755000,
          528000,
          518800,
          679000,
          699000,
          1068000,
          575999,
          1999000,
          549900,
          875000,
          2174900,
          650000,
          550000,
          499900,
          530000,
          1330000,
          2680000,
          499900,
          2349990,
          3399000,
          549000,
          2250000,
          749990,
          724900,
          2150000,
          949900,
          399000,
          529800,
          1658000,
          575000,
          833000,
          1060000,
          2649900,
          819000,
          929900,
          599000,
          899000,
          948000,
          450000,
          629999,
          599900,
          879000,
          619900,
          1999990,
          469900,
          808000,
          709000,
          765000,
          799000,
          949900,
          948000,
          649900,
          828888,
          499000,
          1599900,
          1259000,
          639000,
          824999,
          579999,
          714900,
          680000,
          739000,
          2975000,
          589000,
          550000,
          729000,
          649900,
          719000,
          549999,
          1289000,
          719000,
          510000,
          658800,
          834900,
          818000,
          1050000,
          618000,
          729000,
          698888,
          584900,
          920000,
          579000,
          549000,
          1200000,
          637700,
          649900,
          1139900,
          664880,
          1765000,
          599000,
          829900,
          1195000,
          749000,
          1060000,
          849000,
          603880,
          800000,
          629990,
          619900,
          729900,
          699900,
          569900,
          699000,
          759999,
          1888000,
          655000,
          625000,
          1160000,
          599900,
          899000,
          838000,
          1250000,
          1349000,
          712000,
          648888,
          879900,
          1509990,
          598990,
          1390000,
          529000,
          849900,
          528000,
          2169999,
          459900,
          1320000,
          679000,
          898880,
          560000,
          569900,
          580000,
          549900,
          438000,
          699000,
          975000,
          928000,
          799000,
          549000,
          799900,
          609900,
          1099000,
          825000,
          650000,
          1099000,
          508000,
          789000,
          487000,
          825000,
          599900,
          679999,
          599000,
          928700,
          789000,
          487500,
          1329000,
          499000,
          799000,
          849000,
          538000,
          449000,
          849000,
          659900,
          549000,
          899000,
          698000,
          719000,
          555000,
          558888,
          499000,
          469000,
          770900,
          2699000,
          691900,
          2799999,
          1329000,
          569000,
          539999,
          599990,
          649900,
          499999,
          599000,
          1299888,
          679900,
          1049000,
          925000,
          1189888,
          1549000,
          778000,
          998000,
          1664900,
          1520000,
          688800,
          369000,
          749000,
          699000,
          822000,
          1498000,
          849900,
          600000,
          1399999,
          638000,
          999900,
          799999,
          465000,
          739900,
          1525000,
          1537500,
          1051800,
          579000,
          755000,
          609999,
          1149000,
          449000,
          625000,
          359000,
          649000,
          995000,
          729900,
          989888,
          658900,
          599900,
          1349000,
          749000,
          499900,
          3150000,
          659000,
          3895000,
          549900,
          599900,
          560000,
          880000,
          650000,
          3250000,
          665000,
          799999,
          609000,
          1098000,
          1789000,
          639900,
          600000,
          970300,
          699000,
          588000,
          599000,
          825000,
          1298000,
          799000,
          699000,
          579999,
          739000,
          798000,
          596000,
          639900,
          645000,
          818000,
          638000,
          678800,
          799000,
          3099000,
          720000,
          918888,
          1399999,
          879000,
          1129800,
          1045000,
          595000,
          729900,
          964900,
          899000,
          549000,
          558888,
          479000,
          1495000,
          949000,
          569000,
          639900,
          2345000,
          608880,
          1065000,
          690000,
          1095000,
          609900,
          624000,
          665000,
          2005000,
          788800,
          699000,
          588000,
          590000,
          1050000,
          888900,
          950000,
          919900,
          678000,
          599900,
          579000,
          724900,
          619000,
          820000,
          1265900,
          520000,
          519000,
          849000,
          725000,
          639900,
          950000,
          739999,
          1234900,
          649000,
          490000,
          979000,
          597000,
          775000,
          1129900,
          1700000,
          579900,
          599000,
          1490000,
          685000,
          689000,
          549000,
          1495000,
          1199000,
          599000,
          490000,
          619900,
          709900,
          640000,
          1800000,
          569000,
          469000,
          739000,
          719900,
          2299000,
          489000,
          570000,
          609900,
          799990,
          900000,
          649000,
          1099000,
          2750000,
          2912900,
          889000,
          599000,
          567000,
          829000,
          609000,
          999000,
          639900,
          750000,
          725000,
          549900,
          600000,
          849900,
          528800,
          939000,
          1388000,
          649888,
          2065900,
          859000,
          689999,
          622000,
          699000,
          699900,
          725000,
          589900,
          789900,
          685500,
          965000,
          499900,
          700000,
          759000,
          1080000,
          870000,
          755000,
          899900,
          599800,
          899900,
          1298000,
          680000,
          599000,
          569999,
          644900,
          788000,
          645000,
          630000,
          599000,
          1649900,
          884900,
          650000,
          3995000,
          748900,
          1260000,
          499900,
          788800,
          929990,
          1050000,
          768800,
          598888,
          429000,
          1799900,
          629900,
          675000,
          598000,
          899000,
          850000,
          3890000,
          698000,
          638000,
          480000,
          575000,
          2388000,
          559000,
          599000,
          729900,
          729000,
          419900,
          659000,
          998000,
          1724990,
          740000,
          799888,
          799000,
          798000,
          579900,
          688000,
          1195000,
          539000,
          699900,
          535000,
          765800,
          1299000,
          1050000,
          1400000,
          599900,
          589000,
          579000,
          699000,
          858000,
          704990,
          849000,
          968000,
          659000,
          835000,
          934900,
          429000,
          2338000,
          855000,
          650000,
          524900,
          924999,
          579000,
          519900,
          499900,
          549900,
          859000,
          650000,
          379000,
          539999,
          649000,
          979900,
          498800,
          565000,
          515000,
          650000,
          669900,
          625000,
          1250000,
          629000,
          1500000,
          885900,
          900000,
          917900,
          707000,
          699000,
          599000,
          799000,
          759000,
          699000,
          745000,
          657500,
          1549000,
          749900,
          895000,
          379900,
          469900,
          695000,
          599000,
          698000,
          1399000
         ],
         "xaxis": "x",
         "y": [
          620552.601610954,
          360545.8079526311,
          963055.9154910032,
          469825.9108679511,
          518413.63820661686,
          887658.4903404571,
          857839.3946015987,
          895760.1762086231,
          700797.9110300596,
          898414.9696557906,
          950397.5035789962,
          3140800.1115249908,
          411369.8120326506,
          751171.1662786147,
          614790.9710641139,
          516624.5538161879,
          1115682.1837564039,
          641367.058776431,
          616276.119181062,
          1071763.4831035475,
          1272472.1122674467,
          622728.9712197181,
          693297.2797972141,
          924031.0278619638,
          1058621.6538758867,
          691246.4959050551,
          385960.54880734335,
          529671.605456504,
          590556.0073485384,
          893676.1087596116,
          843362.8041274161,
          643388.857335855,
          549554.9635608281,
          1245042.7708819888,
          753007.1837928103,
          650755.4604779085,
          763741.4098380388,
          539415.7324391967,
          645529.9110351368,
          858149.4685263078,
          486222.09568661894,
          770172.6147535755,
          972072.1348213616,
          1829281.9916395238,
          1512723.1893574735,
          1122598.6351336823,
          891038.4050709843,
          1875310.4727853546,
          930761.4387310923,
          367585.537040485,
          382321.6287995843,
          719743.2648994937,
          804076.0277029051,
          1319270.0188170816,
          724560.1691047273,
          2086827.5753426543,
          537681.7834072906,
          787075.7657802352,
          1455627.0473617904,
          604396.5832214594,
          605498.490025999,
          614797.1571506329,
          574141.6148122649,
          1231822.1989009064,
          1423704.2570219124,
          820711.7376164275,
          1727015.0960561465,
          2451493.528962868,
          736566.4579034541,
          1983092.1662845379,
          620552.601610954,
          797717.9119703842,
          1830395.1633005599,
          967445.8416850648,
          360545.8079526311,
          564415.1484303984,
          1814583.205845626,
          408153.1558762775,
          864679.5489798571,
          1060844.6663221042,
          1564132.2575878773,
          888774.3995883359,
          1050143.480535163,
          517072.6678482017,
          1279401.0707915458,
          900240.3313472094,
          922083.0845660635,
          788648.9960503802,
          648412.9488319635,
          916618.367510934,
          424374.363652361,
          1516793.0077342426,
          383671.6479344436,
          798327.9347381494,
          756921.4179339333,
          984217.965302563,
          860928.9854277066,
          1942268.3884180482,
          1097699.7270933073,
          702797.2020814791,
          747655.2989440802,
          656966.9643430194,
          1405481.110364107,
          1102844.207314831,
          657073.0232822493,
          1039281.1873909209,
          944038.3372456064,
          853227.55538574,
          808834.4649256491,
          818616.5667317144,
          2299139.2318564774,
          166755.9723851038,
          596764.3589493464,
          683782.7102689291,
          484302.9048337274,
          525239.0871681995,
          399818.07666055934,
          1025323.2766216055,
          916062.7753370836,
          316717.5419525277,
          695368.9402686504,
          788506.1369787473,
          822228.452023969,
          1218094.366843788,
          700797.9110300596,
          683008.3399680132,
          783290.3968684651,
          217822.563230715,
          998844.825079022,
          387460.5711040968,
          462617.1440258575,
          1369596.5624196792,
          751171.1662786147,
          922502.7630863984,
          843362.8041274161,
          494688.2343736112,
          1991637.0987328496,
          765500.8258064188,
          939019.6405116454,
          1070361.9116022047,
          310663.27182475885,
          1083821.3109938202,
          1058358.4017542028,
          568317.735342242,
          868972.013362916,
          554250.2224705302,
          725855.9303562895,
          857839.3946015987,
          555805.5699920129,
          354575.751338994,
          925449.6116900059,
          901836.1007425172,
          1893538.7372801243,
          739840.88709858,
          457222.44752208446,
          1041376.3582756342,
          760574.394977583,
          813316.1063072461,
          875845.0998400425,
          1266077.283490685,
          1164574.800301085,
          569069.9547154617,
          507939.79706929973,
          901384.2366121112,
          1288344.1046082238,
          647009.5998726558,
          1169215.8863124938,
          385960.54880734335,
          753007.1837928103,
          18987.5327530934,
          1739277.634180794,
          976830.706882942,
          1406055.4295351715,
          599538.6915103479,
          1098164.6007247807,
          479678.4276574244,
          811503.7032050552,
          617948.435246756,
          441428.8692751013,
          210165.72110368777,
          1291705.780401134,
          1609842.894964959,
          970565.7881677168,
          841753.28370764,
          284269.0788628499,
          838314.5629179276,
          574469.8964545797,
          1154151.0480289364,
          925689.2135892669,
          630267.0591903074,
          1455290.9888501414,
          643679.3104423805,
          947478.4747865783,
          385960.54880734335,
          903171.598421323,
          783185.4759554486,
          828938.9892753218,
          534920.7244165493,
          461155.9818287631,
          1030052.1542734776,
          621652.6670419463,
          1466451.9243949219,
          521832.88576144737,
          1037730.6252126654,
          741943.4669044397,
          766210.9271127795,
          535205.3446281285,
          1282163.3943846435,
          647273.2667767403,
          448214.9986517394,
          728161.3099059861,
          695264.0193556339,
          1008419.8619225313,
          690671.6533746572,
          415984.96883981925,
          705642.9409217893,
          675280.2185522725,
          716980.8651976004,
          1720136.9893756015,
          417775.95626656146,
          2005364.3884343132,
          1164574.800301085,
          684401.7262113917,
          859099.8664484797,
          624590.7275696229,
          786314.1228204519,
          442018.26966933336,
          609207.0551884375,
          1159684.939703362,
          748880.6671717075,
          852885.9024689572,
          798408.5423479702,
          1328662.6146934554,
          1437837.476299744,
          896204.6592416873,
          1129156.808020867,
          1218094.366843788,
          1128568.364054521,
          939056.3464232928,
          347817.6159474188,
          1188817.7206187453,
          787609.2940543827,
          792496.0243789966,
          2091295.426045875,
          736921.0728988517,
          339892.96100139513,
          1261899.2498041105,
          590395.739556947,
          942440.7715983719,
          802522.0281312972,
          519283.81976271677,
          763929.8567793806,
          1128568.364054521,
          1301714.058152453,
          1154151.0480289364,
          661921.0113380939,
          692216.138056892,
          1224613.6367458494,
          899976.6644431249,
          291366.2950117896,
          559423.1614562605,
          403418.27031123085,
          702172.1670229868,
          1053810.401832917,
          658646.82995905,
          1038971.1134662118,
          1521523.9594300017,
          533158.7787421603,
          1340940.461849262,
          751723.283251009,
          240225.5127983417,
          1814569.9605797995,
          889247.9117897577,
          2179889.003326105,
          625293.1660823962,
          724698.4337695185,
          307639.54587277205,
          1240068.872311,
          983842.0265037327,
          1971920.2919554855,
          769937.2587338646,
          1039281.1873909209,
          551352.7634884266,
          967755.9156097741,
          1814878.8083839458,
          585466.1395341295,
          239104.81571549852,
          486222.09568661894,
          1058766.9630356967,
          350663.4333440756,
          564282.0632367199,
          800041.9548775702,
          1154605.9303607857,
          884988.0517934434,
          893910.3474725563,
          732045.2922285282,
          473187.6558466075,
          1198569.535160117,
          717323.3145462291,
          692077.8733921009,
          680422.9874970783,
          671063.9632914948,
          457948.0284789106,
          851898.8620951232,
          756166.7003377537,
          2082156.575162551,
          723444.7022799122,
          817249.127807189,
          1344748.7255874139,
          864679.5489798571,
          1334530.1577540247,
          1082625.7762477896,
          787003.8503165452,
          1045723.2676299975,
          1150578.7825812234,
          857839.3946015987,
          589102.3052073312,
          1070595.326137013,
          795750.695668041,
          1497257.226312933,
          911130.8939838362,
          183856.99819855066,
          668993.974489183,
          2316298.8968269513,
          568317.735342242,
          892810.071693858,
          637969.7774236978,
          961886.6256612092,
          551352.7634884266,
          628997.2612709876,
          684401.7262113917,
          1876568.5757023194,
          590033.6884568434,
          739840.88709858,
          423162.9625924643,
          678674.5922051964,
          1042680.8521417382,
          1088771.6553386126,
          921256.6953009623,
          888774.3995883359,
          369828.03089276,
          584140.1793321162,
          628997.2612709876,
          469343.2625568176,
          525239.0871681995,
          1104643.744100854,
          1117267.3945980777,
          486222.09568661894,
          106927.01654066984,
          1090529.0183488722,
          686052.5759411763,
          486222.09568661894,
          768524.5517584055,
          855291.1472783798,
          1202008.2559498295,
          584450.2532568254,
          321502.83188411064,
          1014295.016205767,
          823653.6387208846,
          739840.88709858,
          966700.756618401,
          1072375.4705199448,
          525239.0871681995,
          738095.0513608998,
          1137745.4491659114,
          641616.9901089303,
          564282.0632367199,
          519030.7355673915,
          1081563.0931835556,
          1173913.1855574222,
          716494.9628601577,
          889357.7372552252,
          679382.6946344178,
          570913.6641619961,
          723859.5446148366,
          1420465.7893858436,
          850235.5151439733,
          213189.44705567462,
          1104717.653856302,
          841753.28370764,
          1958161.6757885944,
          714399.7919754444,
          565320.8399953333,
          553065.455788476,
          726228.9221282088,
          1307345.6230217037,
          683042.9311171331,
          745199.7599696157,
          2703732.093739091,
          1909360.945339655,
          975627.4922851956,
          657492.3255015182,
          730052.9973643955,
          969780.7149149933,
          786451.6671457802,
          875919.9227689009,
          583793.8234684356,
          697164.6542941275,
          685068.8844570824,
          499742.56807586027,
          728056.3889929695,
          909958.4758857455,
          487520.5243854945,
          1210906.684783934,
          1156004.1608772282,
          932782.5508860209,
          1641616.0883982163,
          768570.0060382918,
          493698.76090094756,
          685585.1385603006,
          786314.1228204519,
          799686.581687133,
          697532.7560746375,
          585547.7515011025,
          750859.8039102625,
          494688.2343736112,
          924140.8486330291,
          791687.6964089433,
          733198.0924090605,
          870817.4004930683,
          1636259.1440796237,
          909501.5977110411,
          894752.4129373835,
          1003694.5315321691,
          549554.9635608281,
          1210906.684783934,
          938673.2846479648,
          776022.7424787454,
          331148.8046322504,
          233045.55265455414,
          862031.1866188816,
          733531.0649871092,
          619518.5405546407,
          715322.3271366839,
          584806.1895080337,
          1864469.7499905666,
          926436.2726713863,
          627243.3332383207,
          2274417.563898741,
          687460.1481101626,
          898558.1646586137,
          600536.364150784,
          679948.2764898381,
          989703.5915229239,
          836547.189704492,
          857839.3946015987,
          631387.1199377702,
          548704.1273978789,
          1135244.8910604846,
          335213.8332861871,
          1031107.0065067083,
          582004.7875132973,
          1052860.4793653113,
          964901.1607844642,
          2172926.019493413,
          540256.4909574927,
          722051.3160365337,
          719200.4090429652,
          292155.9475962526,
          1530642.3513438292,
          529671.605456504,
          686052.5759411763,
          829548.8909062552,
          728056.3889929695,
          364213.8007660866,
          913730.1245238611,
          992998.5644181599,
          1346431.8719758503,
          694616.6629517612,
          819180.5707252271,
          765500.8258064188,
          932454.2572088535,
          761879.4411789372,
          817249.127807189,
          1279401.0707915458,
          508842.90234953165,
          794152.6900127073,
          106927.01654066984,
          659733.8423442655,
          1225592.1761434348,
          1105508.9326624582,
          1333576.2060156614,
          593004.4733307132,
          766621.3521334192,
          866915.2183899723,
          765384.9551557641,
          1071763.4831035475,
          605539.4882768202,
          710952.7136807553,
          802784.3859065593,
          517072.6678482017,
          1056733.0183486652,
          870901.7795435706,
          438463.17838858947,
          1885586.0997468592,
          1078824.8501332614,
          606126.2002622406,
          529677.1025455546,
          1191603.5000250146,
          650526.0442553868,
          590978.2332954665,
          691676.4033709404,
          512258.09322227014,
          848283.3641611893,
          756237.0719172478,
          742716.7795902753,
          348636.8966619458,
          772323.1828112064,
          888774.3995883359,
          403454.2318702883,
          708036.9505577035,
          637476.4201606428,
          715958.7452295391,
          731718.5119553517,
          595202.664162012,
          921519.8277875489,
          418420.7797760149,
          1945274.6162303435,
          951599.2697388022,
          1363195.0501862825,
          877867.8660648012,
          829548.8909062552,
          839540.140405526,
          635807.3350178668,
          781897.0106250866,
          870915.499817225,
          868127.2115774496,
          744247.4207999445,
          714788.851039305,
          2051794.0168157425,
          869899.6135399209,
          546067.7902751719,
          486212.92125100194,
          435936.5275829148,
          525239.0871681995,
          476235.5373981883,
          893986.182684321,
          1622618.017431255
         ],
         "yaxis": "y"
        },
        {
         "hovertemplate": "<b>OLS trendline</b><br>y = 0.654537 * x + 284933<br>R<sup>2</sup>=0.716871<br><br>Actual Price=%{x}<br>Predicted Price=%{y} <b>(trend)</b><extra></extra>",
         "legendgroup": "",
         "marker": {
          "color": "#636efa",
          "symbol": "circle"
         },
         "mode": "lines",
         "name": "",
         "showlegend": false,
         "type": "scatter",
         "x": [
          359000,
          369000,
          379000,
          379900,
          399000,
          419900,
          429000,
          429000,
          438000,
          449000,
          449000,
          450000,
          459900,
          465000,
          469000,
          469000,
          469900,
          469900,
          479000,
          480000,
          487000,
          487500,
          489000,
          490000,
          490000,
          498800,
          499000,
          499000,
          499000,
          499000,
          499900,
          499900,
          499900,
          499900,
          499900,
          499900,
          499999,
          508000,
          510000,
          515000,
          518800,
          519000,
          519900,
          520000,
          524900,
          525000,
          525000,
          528000,
          528000,
          528800,
          529000,
          529800,
          530000,
          535000,
          538000,
          538800,
          539000,
          539999,
          539999,
          540000,
          549000,
          549000,
          549000,
          549000,
          549000,
          549000,
          549000,
          549900,
          549900,
          549900,
          549900,
          549900,
          549999,
          550000,
          550000,
          555000,
          558888,
          558888,
          559000,
          560000,
          560000,
          565000,
          567000,
          569000,
          569000,
          569000,
          569900,
          569900,
          569999,
          569999,
          570000,
          575000,
          575000,
          575000,
          575000,
          575999,
          578000,
          579000,
          579000,
          579000,
          579000,
          579000,
          579900,
          579900,
          579999,
          579999,
          580000,
          584900,
          588000,
          588000,
          589000,
          589000,
          589900,
          589900,
          590000,
          595000,
          596000,
          597000,
          598000,
          598888,
          598990,
          599000,
          599000,
          599000,
          599000,
          599000,
          599000,
          599000,
          599000,
          599000,
          599000,
          599000,
          599000,
          599000,
          599000,
          599000,
          599000,
          599800,
          599900,
          599900,
          599900,
          599900,
          599900,
          599900,
          599900,
          599900,
          599990,
          600000,
          600000,
          600000,
          603880,
          608880,
          609000,
          609000,
          609900,
          609900,
          609900,
          609999,
          618000,
          619000,
          619900,
          619900,
          619900,
          622000,
          624000,
          625000,
          625000,
          625000,
          625000,
          629000,
          629000,
          629900,
          629990,
          629999,
          630000,
          637700,
          638000,
          638000,
          638000,
          639000,
          639000,
          639900,
          639900,
          639900,
          639900,
          639900,
          639990,
          640000,
          644900,
          645000,
          645000,
          648888,
          649000,
          649000,
          649000,
          649000,
          649000,
          649888,
          649900,
          649900,
          649900,
          649900,
          650000,
          650000,
          650000,
          650000,
          650000,
          650000,
          650000,
          655000,
          657500,
          658800,
          658900,
          659000,
          659000,
          659000,
          659900,
          664880,
          665000,
          665000,
          669900,
          669900,
          675000,
          678000,
          678800,
          679000,
          679000,
          679900,
          679999,
          680000,
          680000,
          685000,
          685500,
          687800,
          688000,
          688800,
          689000,
          689999,
          690000,
          691900,
          695000,
          698000,
          698000,
          698000,
          698888,
          699000,
          699000,
          699000,
          699000,
          699000,
          699000,
          699000,
          699000,
          699000,
          699000,
          699000,
          699000,
          699000,
          699900,
          699900,
          699900,
          700000,
          704990,
          707000,
          709000,
          709900,
          712000,
          714900,
          715000,
          719000,
          719000,
          719000,
          719900,
          720000,
          724900,
          724900,
          725000,
          725000,
          725000,
          729000,
          729000,
          729000,
          729900,
          729900,
          729900,
          729900,
          739000,
          739000,
          739000,
          739900,
          739999,
          740000,
          745000,
          748900,
          749000,
          749000,
          749000,
          749900,
          749990,
          750000,
          750000,
          755000,
          755000,
          755000,
          755000,
          759000,
          759000,
          759999,
          765000,
          765800,
          768800,
          770900,
          775000,
          778000,
          780000,
          788000,
          788800,
          788800,
          789000,
          789000,
          789000,
          789900,
          795000,
          798000,
          798000,
          799000,
          799000,
          799000,
          799000,
          799000,
          799000,
          799000,
          799888,
          799900,
          799990,
          799999,
          799999,
          800000,
          808000,
          808880,
          815900,
          818000,
          818000,
          819000,
          819000,
          820000,
          822000,
          824999,
          825000,
          825000,
          825000,
          828888,
          829000,
          829000,
          829900,
          833000,
          834900,
          835000,
          838000,
          849000,
          849000,
          849000,
          849000,
          849000,
          849900,
          849900,
          849900,
          849900,
          850000,
          850000,
          850000,
          855000,
          858000,
          859000,
          859000,
          859000,
          870000,
          875000,
          879000,
          879000,
          879900,
          880000,
          884900,
          885900,
          888900,
          889000,
          889900,
          895000,
          898880,
          899000,
          899000,
          899000,
          899000,
          899000,
          899900,
          899900,
          900000,
          900000,
          915000,
          917900,
          918888,
          919900,
          920000,
          924999,
          925000,
          928000,
          928700,
          929900,
          929990,
          934900,
          939000,
          948000,
          948000,
          949000,
          949900,
          949900,
          950000,
          950000,
          964900,
          965000,
          968000,
          970300,
          975000,
          979000,
          979900,
          989888,
          995000,
          998000,
          998000,
          999000,
          999900,
          1045000,
          1049000,
          1050000,
          1050000,
          1050000,
          1050000,
          1051800,
          1060000,
          1060000,
          1065000,
          1068000,
          1075000,
          1080000,
          1095000,
          1098000,
          1099000,
          1099000,
          1099000,
          1129800,
          1129900,
          1135000,
          1139900,
          1149000,
          1160000,
          1189888,
          1195000,
          1195000,
          1199000,
          1199000,
          1200000,
          1234900,
          1250000,
          1250000,
          1250000,
          1259000,
          1260000,
          1265900,
          1289000,
          1298000,
          1298000,
          1299000,
          1299888,
          1320000,
          1329000,
          1329000,
          1330000,
          1349000,
          1349000,
          1388000,
          1390000,
          1395000,
          1399000,
          1399999,
          1399999,
          1400000,
          1490000,
          1495000,
          1495000,
          1498000,
          1500000,
          1509990,
          1520000,
          1525000,
          1537500,
          1549000,
          1549000,
          1599900,
          1649900,
          1658000,
          1664900,
          1700000,
          1724990,
          1765000,
          1789000,
          1799900,
          1800000,
          1845000,
          1888000,
          1999000,
          1999990,
          2005000,
          2065900,
          2150000,
          2169999,
          2174900,
          2250000,
          2299000,
          2338000,
          2345000,
          2349990,
          2388000,
          2490000,
          2649900,
          2680000,
          2699000,
          2750000,
          2799999,
          2912900,
          2975000,
          3099000,
          3150000,
          3250000,
          3399000,
          3890000,
          3895000,
          3950000,
          3995000
         ],
         "xaxis": "x",
         "y": [
          519911.88882192224,
          526457.2553950277,
          533002.621968133,
          533591.7049597126,
          546093.3551143439,
          559773.1712521341,
          565729.4548336602,
          565729.4548336602,
          571620.2847494549,
          578820.1879798709,
          578820.1879798709,
          579474.7246371815,
          585954.6375445558,
          589292.7744968396,
          591910.9211260817,
          591910.9211260817,
          592500.0041176613,
          592500.0041176613,
          598456.2876991872,
          599110.8243564977,
          603692.5809576715,
          604019.8492863268,
          605001.6542722926,
          605656.1909296032,
          605656.1909296032,
          611416.1135139359,
          611547.020845398,
          611547.020845398,
          611547.020845398,
          611547.020845398,
          612136.1038369775,
          612136.1038369775,
          612136.1038369775,
          612136.1038369775,
          612136.1038369775,
          612136.1038369775,
          612200.9029660512,
          617437.8507611929,
          618746.924075814,
          622019.6073623666,
          624506.8466601467,
          624637.7539916089,
          625226.8369831883,
          625292.2906489194,
          628499.5202697411,
          628564.9739354721,
          628564.9739354721,
          630528.5839074038,
          630528.5839074038,
          631052.2132332522,
          631183.1205647143,
          631706.7498905627,
          631837.6572220247,
          635110.3405085775,
          637073.9504805091,
          637597.5798063575,
          637728.4871378196,
          638382.3692584729,
          638382.3692584729,
          638383.0237951302,
          644273.8537109251,
          644273.8537109251,
          644273.8537109251,
          644273.8537109251,
          644273.8537109251,
          644273.8537109251,
          644273.8537109251,
          644862.9367025045,
          644862.9367025045,
          644862.9367025045,
          644862.9367025045,
          644862.9367025045,
          644927.7358315783,
          644928.3903682356,
          644928.3903682356,
          648201.0736547883,
          650745.9121784117,
          650745.9121784117,
          650819.2202840305,
          651473.756941341,
          651473.756941341,
          654746.4402278938,
          656055.5135425149,
          657364.5868571359,
          657364.5868571359,
          657364.5868571359,
          657953.6698487154,
          657953.6698487154,
          658018.4689777892,
          658018.4689777892,
          658019.1235144464,
          661291.8068009992,
          661291.8068009992,
          661291.8068009992,
          661291.8068009992,
          661945.6889216524,
          663255.4167729308,
          663909.9534302413,
          663909.9534302413,
          663909.9534302413,
          663909.9534302413,
          663909.9534302413,
          664499.0364218208,
          664499.0364218208,
          664563.8355508945,
          664563.8355508945,
          664564.4900875519,
          667771.7197083735,
          669800.7833460362,
          669800.7833460362,
          670455.3200033468,
          670455.3200033468,
          671044.4029949262,
          671044.4029949262,
          671109.8566606573,
          674382.53994721,
          675037.0766045206,
          675691.6132618311,
          676346.1499191415,
          676927.3784708334,
          676994.1412098791,
          677000.6865764521,
          677000.6865764521,
          677000.6865764521,
          677000.6865764521,
          677000.6865764521,
          677000.6865764521,
          677000.6865764521,
          677000.6865764521,
          677000.6865764521,
          677000.6865764521,
          677000.6865764521,
          677000.6865764521,
          677000.6865764521,
          677000.6865764521,
          677000.6865764521,
          677000.6865764521,
          677524.3159023005,
          677589.7695680317,
          677589.7695680317,
          677589.7695680317,
          677589.7695680317,
          677589.7695680317,
          677589.7695680317,
          677589.7695680317,
          677589.7695680317,
          677648.6778671896,
          677655.2232337627,
          677655.2232337627,
          677655.2232337627,
          680194.8254641276,
          683467.5087506803,
          683546.0531495576,
          683546.0531495576,
          684135.1361411371,
          684135.1361411371,
          684135.1361411371,
          684199.9352702108,
          689436.8830653524,
          690091.419722663,
          690680.5027142424,
          690680.5027142424,
          690680.5027142424,
          692055.0296945946,
          693364.1030092157,
          694018.6396665262,
          694018.6396665262,
          694018.6396665262,
          694018.6396665262,
          696636.7862957683,
          696636.7862957683,
          697225.8692873479,
          697284.7775865059,
          697290.6684164216,
          697291.3229530789,
          702331.2552143701,
          702527.6162115632,
          702527.6162115632,
          702527.6162115632,
          703182.1528688738,
          703182.1528688738,
          703771.2358604533,
          703771.2358604533,
          703771.2358604533,
          703771.2358604533,
          703771.2358604533,
          703830.1441596112,
          703836.6895261843,
          707043.919147006,
          707109.372812737,
          707109.372812737,
          709654.2113363604,
          709727.5194419792,
          709727.5194419792,
          709727.5194419792,
          709727.5194419792,
          709727.5194419792,
          710308.747993671,
          710316.6024335587,
          710316.6024335587,
          710316.6024335587,
          710316.6024335587,
          710382.0560992898,
          710382.0560992898,
          710382.0560992898,
          710382.0560992898,
          710382.0560992898,
          710382.0560992898,
          710382.0560992898,
          713654.7393858425,
          715291.0810291189,
          716141.9786836226,
          716207.4323493536,
          716272.8860150846,
          716272.8860150846,
          716272.8860150846,
          716861.9690066641,
          720121.5615600706,
          720200.1059589479,
          720200.1059589479,
          723407.3355797696,
          723407.3355797696,
          726745.4725320532,
          728709.0825039849,
          729232.7118298333,
          729363.6191612955,
          729363.6191612955,
          729952.7021528749,
          730017.5012819486,
          730018.155818606,
          730018.155818606,
          733290.8391051587,
          733618.107433814,
          735123.5417456282,
          735254.4490770904,
          735778.0784029388,
          735908.9857344009,
          736562.8678550541,
          736563.5223917114,
          737807.1420406015,
          739836.2056782641,
          741799.8156501957,
          741799.8156501957,
          741799.8156501957,
          742381.0442018874,
          742454.3523075063,
          742454.3523075063,
          742454.3523075063,
          742454.3523075063,
          742454.3523075063,
          742454.3523075063,
          742454.3523075063,
          742454.3523075063,
          742454.3523075063,
          742454.3523075063,
          742454.3523075063,
          742454.3523075063,
          742454.3523075063,
          743043.4352990858,
          743043.4352990858,
          743043.4352990858,
          743108.8889648168,
          746375.0268847964,
          747690.6455659906,
          748999.7188806117,
          749588.8018721911,
          750963.3288525434,
          752861.4851587439,
          752926.9388244749,
          755545.0854537172,
          755545.0854537172,
          755545.0854537172,
          756134.1684452966,
          756199.6221110276,
          759406.8517318493,
          759406.8517318493,
          759472.3053975804,
          759472.3053975804,
          759472.3053975804,
          762090.4520268225,
          762090.4520268225,
          762090.4520268225,
          762679.535018402,
          762679.535018402,
          762679.535018402,
          762679.535018402,
          768635.8185999279,
          768635.8185999279,
          768635.8185999279,
          769224.9015915074,
          769289.7007205811,
          769290.3552572385,
          772563.0385437912,
          775115.7315073023,
          775181.1851730334,
          775181.1851730334,
          775181.1851730334,
          775770.2681646128,
          775829.1764637708,
          775835.721830344,
          775835.721830344,
          779108.4051168966,
          779108.4051168966,
          779108.4051168966,
          779108.4051168966,
          781726.5517461387,
          781726.5517461387,
          782380.433866792,
          785653.7716900021,
          786177.4010158505,
          788141.010987782,
          789515.5379681342,
          792199.1382631074,
          794162.7482350391,
          795471.8215496602,
          800708.1148081445,
          801231.7441339929,
          801231.7441339929,
          801362.651465455,
          801362.651465455,
          801362.651465455,
          801951.7344570345,
          805289.8714093183,
          807253.4813812498,
          807253.4813812498,
          807908.0180385604,
          807908.0180385604,
          807908.0180385604,
          807908.0180385604,
          807908.0180385604,
          807908.0180385604,
          807908.0180385604,
          808489.2465902522,
          808497.10103014,
          808556.0093292978,
          808561.9001592137,
          808561.9001592137,
          808562.554695871,
          813798.8479543553,
          814374.8402127885,
          818969.6875471085,
          820344.2145274607,
          820344.2145274607,
          820998.7511847712,
          820998.7511847712,
          821653.2878420817,
          822962.3611567029,
          824925.3165919771,
          824925.9711286345,
          824925.9711286345,
          824925.9711286345,
          827470.8096522578,
          827544.1177578766,
          827544.1177578766,
          828133.2007494562,
          830162.2643871189,
          831405.8840360089,
          831471.3377017399,
          833434.9476736715,
          840634.8509040875,
          840634.8509040875,
          840634.8509040875,
          840634.8509040875,
          840634.8509040875,
          841223.933895667,
          841223.933895667,
          841223.933895667,
          841223.933895667,
          841289.387561398,
          841289.387561398,
          841289.387561398,
          844562.0708479508,
          846525.6808198823,
          847180.2174771929,
          847180.2174771929,
          847180.2174771929,
          854380.1207076089,
          857652.8039941615,
          860270.9506234038,
          860270.9506234038,
          860860.0336149832,
          860925.4872807142,
          864132.7169015359,
          864787.2535588464,
          866750.8635307781,
          866816.3171965091,
          867405.4001880886,
          870743.5371403723,
          873283.1393707372,
          873361.6837696146,
          873361.6837696146,
          873361.6837696146,
          873361.6837696146,
          873361.6837696146,
          873950.766761194,
          873950.766761194,
          874016.2204269251,
          874016.2204269251,
          883834.2702865832,
          885732.4265927838,
          886379.1088102066,
          887041.4999074049,
          887106.9535731359,
          890378.9823230313,
          890379.6368596887,
          892343.2468316202,
          892801.4224917376,
          893586.8664805103,
          893645.7747796682,
          896859.549767063,
          899543.1500620362,
          905433.9799778311,
          905433.9799778311,
          906088.5166351416,
          906677.5996267211,
          906677.5996267211,
          906743.0532924521,
          906743.0532924521,
          916495.6494863792,
          916561.1031521102,
          918524.7131240419,
          920030.1474358562,
          923106.4697252157,
          925724.6163544578,
          926313.6993460373,
          932851.211479255,
          936197.2028714265,
          938160.8128433581,
          938160.8128433581,
          938815.3495006687,
          939404.4324922481,
          968924.0357369536,
          971542.1823661957,
          972196.7190235063,
          972196.7190235063,
          972196.7190235063,
          972196.7190235063,
          973374.8850066653,
          978742.0855966117,
          978742.0855966117,
          982014.7688831644,
          983978.3788550961,
          988560.1354562698,
          991832.8187428225,
          1001650.8686024806,
          1003614.4785744123,
          1004269.0152317228,
          1004269.0152317228,
          1004269.0152317228,
          1024428.7442768875,
          1024494.1979426185,
          1027832.3348949023,
          1031039.564515724,
          1036995.8480972499,
          1044195.7513276659,
          1063758.5429413633,
          1067104.5343335348,
          1067104.5343335348,
          1069722.680962777,
          1069722.680962777,
          1070377.2176200876,
          1093220.5469602253,
          1103104.0504856145,
          1103104.0504856145,
          1103104.0504856145,
          1108994.8804014095,
          1109649.41705872,
          1113511.1833368521,
          1128630.9801207257,
          1134521.8100365205,
          1134521.8100365205,
          1135176.346693831,
          1135757.575245523,
          1148921.6164973525,
          1154812.4464131473,
          1154812.4464131473,
          1155466.9830704578,
          1167903.1795593582,
          1167903.1795593582,
          1193430.1091944692,
          1194739.1825090903,
          1198011.865795643,
          1200630.0124248853,
          1201283.8945455384,
          1201283.8945455384,
          1201284.5490821959,
          1260192.8482401446,
          1263465.531526697,
          1263465.531526697,
          1265429.1414986288,
          1266738.21481325,
          1273277.0360197823,
          1279828.9479594608,
          1283101.6312460133,
          1291283.3394623953,
          1298810.5110214665,
          1298810.5110214665,
          1332126.426878573,
          1364853.2597441,
          1370155.0066683155,
          1374671.3096037582,
          1397645.5462753582,
          1414002.4173415485,
          1440190.4290005434,
          1455899.3087759963,
          1463033.7583406812,
          1463099.2120064122,
          1492553.3615853866,
          1520698.43784974,
          1593352.00681121,
          1593999.9981019474,
          1597279.2267550733,
          1637140.5091852853,
          1692187.0420651017,
          1705277.1206746553,
          1708485.0048321343,
          1757640.707796156,
          1789713.0040043725,
          1815239.9336394835,
          1819821.6902406574,
          1823087.8281606368,
          1847966.7665050107,
          1914729.5055506858,
          2019389.9170546413,
          2039091.4704396888,
          2051527.6669285889,
          2084909.0364514266,
          2117635.214780296,
          2191533.0579273137,
          2232179.7843462983,
          2313342.3298528055,
          2346723.699375643,
          2412177.365106697,
          2509703.327045968,
          2831080.8257854437,
          2834353.5090719964,
          2870353.025224076,
          2899807.1748030507
         ],
         "yaxis": "y"
        }
       ],
       "layout": {
        "legend": {
         "tracegroupgap": 0
        },
        "margin": {
         "t": 60
        },
        "template": {
         "data": {
          "bar": [
           {
            "error_x": {
             "color": "#2a3f5f"
            },
            "error_y": {
             "color": "#2a3f5f"
            },
            "marker": {
             "line": {
              "color": "#E5ECF6",
              "width": 0.5
             },
             "pattern": {
              "fillmode": "overlay",
              "size": 10,
              "solidity": 0.2
             }
            },
            "type": "bar"
           }
          ],
          "barpolar": [
           {
            "marker": {
             "line": {
              "color": "#E5ECF6",
              "width": 0.5
             },
             "pattern": {
              "fillmode": "overlay",
              "size": 10,
              "solidity": 0.2
             }
            },
            "type": "barpolar"
           }
          ],
          "carpet": [
           {
            "aaxis": {
             "endlinecolor": "#2a3f5f",
             "gridcolor": "white",
             "linecolor": "white",
             "minorgridcolor": "white",
             "startlinecolor": "#2a3f5f"
            },
            "baxis": {
             "endlinecolor": "#2a3f5f",
             "gridcolor": "white",
             "linecolor": "white",
             "minorgridcolor": "white",
             "startlinecolor": "#2a3f5f"
            },
            "type": "carpet"
           }
          ],
          "choropleth": [
           {
            "colorbar": {
             "outlinewidth": 0,
             "ticks": ""
            },
            "type": "choropleth"
           }
          ],
          "contour": [
           {
            "colorbar": {
             "outlinewidth": 0,
             "ticks": ""
            },
            "colorscale": [
             [
              0,
              "#0d0887"
             ],
             [
              0.1111111111111111,
              "#46039f"
             ],
             [
              0.2222222222222222,
              "#7201a8"
             ],
             [
              0.3333333333333333,
              "#9c179e"
             ],
             [
              0.4444444444444444,
              "#bd3786"
             ],
             [
              0.5555555555555556,
              "#d8576b"
             ],
             [
              0.6666666666666666,
              "#ed7953"
             ],
             [
              0.7777777777777778,
              "#fb9f3a"
             ],
             [
              0.8888888888888888,
              "#fdca26"
             ],
             [
              1,
              "#f0f921"
             ]
            ],
            "type": "contour"
           }
          ],
          "contourcarpet": [
           {
            "colorbar": {
             "outlinewidth": 0,
             "ticks": ""
            },
            "type": "contourcarpet"
           }
          ],
          "heatmap": [
           {
            "colorbar": {
             "outlinewidth": 0,
             "ticks": ""
            },
            "colorscale": [
             [
              0,
              "#0d0887"
             ],
             [
              0.1111111111111111,
              "#46039f"
             ],
             [
              0.2222222222222222,
              "#7201a8"
             ],
             [
              0.3333333333333333,
              "#9c179e"
             ],
             [
              0.4444444444444444,
              "#bd3786"
             ],
             [
              0.5555555555555556,
              "#d8576b"
             ],
             [
              0.6666666666666666,
              "#ed7953"
             ],
             [
              0.7777777777777778,
              "#fb9f3a"
             ],
             [
              0.8888888888888888,
              "#fdca26"
             ],
             [
              1,
              "#f0f921"
             ]
            ],
            "type": "heatmap"
           }
          ],
          "heatmapgl": [
           {
            "colorbar": {
             "outlinewidth": 0,
             "ticks": ""
            },
            "colorscale": [
             [
              0,
              "#0d0887"
             ],
             [
              0.1111111111111111,
              "#46039f"
             ],
             [
              0.2222222222222222,
              "#7201a8"
             ],
             [
              0.3333333333333333,
              "#9c179e"
             ],
             [
              0.4444444444444444,
              "#bd3786"
             ],
             [
              0.5555555555555556,
              "#d8576b"
             ],
             [
              0.6666666666666666,
              "#ed7953"
             ],
             [
              0.7777777777777778,
              "#fb9f3a"
             ],
             [
              0.8888888888888888,
              "#fdca26"
             ],
             [
              1,
              "#f0f921"
             ]
            ],
            "type": "heatmapgl"
           }
          ],
          "histogram": [
           {
            "marker": {
             "pattern": {
              "fillmode": "overlay",
              "size": 10,
              "solidity": 0.2
             }
            },
            "type": "histogram"
           }
          ],
          "histogram2d": [
           {
            "colorbar": {
             "outlinewidth": 0,
             "ticks": ""
            },
            "colorscale": [
             [
              0,
              "#0d0887"
             ],
             [
              0.1111111111111111,
              "#46039f"
             ],
             [
              0.2222222222222222,
              "#7201a8"
             ],
             [
              0.3333333333333333,
              "#9c179e"
             ],
             [
              0.4444444444444444,
              "#bd3786"
             ],
             [
              0.5555555555555556,
              "#d8576b"
             ],
             [
              0.6666666666666666,
              "#ed7953"
             ],
             [
              0.7777777777777778,
              "#fb9f3a"
             ],
             [
              0.8888888888888888,
              "#fdca26"
             ],
             [
              1,
              "#f0f921"
             ]
            ],
            "type": "histogram2d"
           }
          ],
          "histogram2dcontour": [
           {
            "colorbar": {
             "outlinewidth": 0,
             "ticks": ""
            },
            "colorscale": [
             [
              0,
              "#0d0887"
             ],
             [
              0.1111111111111111,
              "#46039f"
             ],
             [
              0.2222222222222222,
              "#7201a8"
             ],
             [
              0.3333333333333333,
              "#9c179e"
             ],
             [
              0.4444444444444444,
              "#bd3786"
             ],
             [
              0.5555555555555556,
              "#d8576b"
             ],
             [
              0.6666666666666666,
              "#ed7953"
             ],
             [
              0.7777777777777778,
              "#fb9f3a"
             ],
             [
              0.8888888888888888,
              "#fdca26"
             ],
             [
              1,
              "#f0f921"
             ]
            ],
            "type": "histogram2dcontour"
           }
          ],
          "mesh3d": [
           {
            "colorbar": {
             "outlinewidth": 0,
             "ticks": ""
            },
            "type": "mesh3d"
           }
          ],
          "parcoords": [
           {
            "line": {
             "colorbar": {
              "outlinewidth": 0,
              "ticks": ""
             }
            },
            "type": "parcoords"
           }
          ],
          "pie": [
           {
            "automargin": true,
            "type": "pie"
           }
          ],
          "scatter": [
           {
            "fillpattern": {
             "fillmode": "overlay",
             "size": 10,
             "solidity": 0.2
            },
            "type": "scatter"
           }
          ],
          "scatter3d": [
           {
            "line": {
             "colorbar": {
              "outlinewidth": 0,
              "ticks": ""
             }
            },
            "marker": {
             "colorbar": {
              "outlinewidth": 0,
              "ticks": ""
             }
            },
            "type": "scatter3d"
           }
          ],
          "scattercarpet": [
           {
            "marker": {
             "colorbar": {
              "outlinewidth": 0,
              "ticks": ""
             }
            },
            "type": "scattercarpet"
           }
          ],
          "scattergeo": [
           {
            "marker": {
             "colorbar": {
              "outlinewidth": 0,
              "ticks": ""
             }
            },
            "type": "scattergeo"
           }
          ],
          "scattergl": [
           {
            "marker": {
             "colorbar": {
              "outlinewidth": 0,
              "ticks": ""
             }
            },
            "type": "scattergl"
           }
          ],
          "scattermapbox": [
           {
            "marker": {
             "colorbar": {
              "outlinewidth": 0,
              "ticks": ""
             }
            },
            "type": "scattermapbox"
           }
          ],
          "scatterpolar": [
           {
            "marker": {
             "colorbar": {
              "outlinewidth": 0,
              "ticks": ""
             }
            },
            "type": "scatterpolar"
           }
          ],
          "scatterpolargl": [
           {
            "marker": {
             "colorbar": {
              "outlinewidth": 0,
              "ticks": ""
             }
            },
            "type": "scatterpolargl"
           }
          ],
          "scatterternary": [
           {
            "marker": {
             "colorbar": {
              "outlinewidth": 0,
              "ticks": ""
             }
            },
            "type": "scatterternary"
           }
          ],
          "surface": [
           {
            "colorbar": {
             "outlinewidth": 0,
             "ticks": ""
            },
            "colorscale": [
             [
              0,
              "#0d0887"
             ],
             [
              0.1111111111111111,
              "#46039f"
             ],
             [
              0.2222222222222222,
              "#7201a8"
             ],
             [
              0.3333333333333333,
              "#9c179e"
             ],
             [
              0.4444444444444444,
              "#bd3786"
             ],
             [
              0.5555555555555556,
              "#d8576b"
             ],
             [
              0.6666666666666666,
              "#ed7953"
             ],
             [
              0.7777777777777778,
              "#fb9f3a"
             ],
             [
              0.8888888888888888,
              "#fdca26"
             ],
             [
              1,
              "#f0f921"
             ]
            ],
            "type": "surface"
           }
          ],
          "table": [
           {
            "cells": {
             "fill": {
              "color": "#EBF0F8"
             },
             "line": {
              "color": "white"
             }
            },
            "header": {
             "fill": {
              "color": "#C8D4E3"
             },
             "line": {
              "color": "white"
             }
            },
            "type": "table"
           }
          ]
         },
         "layout": {
          "annotationdefaults": {
           "arrowcolor": "#2a3f5f",
           "arrowhead": 0,
           "arrowwidth": 1
          },
          "autotypenumbers": "strict",
          "coloraxis": {
           "colorbar": {
            "outlinewidth": 0,
            "ticks": ""
           }
          },
          "colorscale": {
           "diverging": [
            [
             0,
             "#8e0152"
            ],
            [
             0.1,
             "#c51b7d"
            ],
            [
             0.2,
             "#de77ae"
            ],
            [
             0.3,
             "#f1b6da"
            ],
            [
             0.4,
             "#fde0ef"
            ],
            [
             0.5,
             "#f7f7f7"
            ],
            [
             0.6,
             "#e6f5d0"
            ],
            [
             0.7,
             "#b8e186"
            ],
            [
             0.8,
             "#7fbc41"
            ],
            [
             0.9,
             "#4d9221"
            ],
            [
             1,
             "#276419"
            ]
           ],
           "sequential": [
            [
             0,
             "#0d0887"
            ],
            [
             0.1111111111111111,
             "#46039f"
            ],
            [
             0.2222222222222222,
             "#7201a8"
            ],
            [
             0.3333333333333333,
             "#9c179e"
            ],
            [
             0.4444444444444444,
             "#bd3786"
            ],
            [
             0.5555555555555556,
             "#d8576b"
            ],
            [
             0.6666666666666666,
             "#ed7953"
            ],
            [
             0.7777777777777778,
             "#fb9f3a"
            ],
            [
             0.8888888888888888,
             "#fdca26"
            ],
            [
             1,
             "#f0f921"
            ]
           ],
           "sequentialminus": [
            [
             0,
             "#0d0887"
            ],
            [
             0.1111111111111111,
             "#46039f"
            ],
            [
             0.2222222222222222,
             "#7201a8"
            ],
            [
             0.3333333333333333,
             "#9c179e"
            ],
            [
             0.4444444444444444,
             "#bd3786"
            ],
            [
             0.5555555555555556,
             "#d8576b"
            ],
            [
             0.6666666666666666,
             "#ed7953"
            ],
            [
             0.7777777777777778,
             "#fb9f3a"
            ],
            [
             0.8888888888888888,
             "#fdca26"
            ],
            [
             1,
             "#f0f921"
            ]
           ]
          },
          "colorway": [
           "#636efa",
           "#EF553B",
           "#00cc96",
           "#ab63fa",
           "#FFA15A",
           "#19d3f3",
           "#FF6692",
           "#B6E880",
           "#FF97FF",
           "#FECB52"
          ],
          "font": {
           "color": "#2a3f5f"
          },
          "geo": {
           "bgcolor": "white",
           "lakecolor": "white",
           "landcolor": "#E5ECF6",
           "showlakes": true,
           "showland": true,
           "subunitcolor": "white"
          },
          "hoverlabel": {
           "align": "left"
          },
          "hovermode": "closest",
          "mapbox": {
           "style": "light"
          },
          "paper_bgcolor": "white",
          "plot_bgcolor": "#E5ECF6",
          "polar": {
           "angularaxis": {
            "gridcolor": "white",
            "linecolor": "white",
            "ticks": ""
           },
           "bgcolor": "#E5ECF6",
           "radialaxis": {
            "gridcolor": "white",
            "linecolor": "white",
            "ticks": ""
           }
          },
          "scene": {
           "xaxis": {
            "backgroundcolor": "#E5ECF6",
            "gridcolor": "white",
            "gridwidth": 2,
            "linecolor": "white",
            "showbackground": true,
            "ticks": "",
            "zerolinecolor": "white"
           },
           "yaxis": {
            "backgroundcolor": "#E5ECF6",
            "gridcolor": "white",
            "gridwidth": 2,
            "linecolor": "white",
            "showbackground": true,
            "ticks": "",
            "zerolinecolor": "white"
           },
           "zaxis": {
            "backgroundcolor": "#E5ECF6",
            "gridcolor": "white",
            "gridwidth": 2,
            "linecolor": "white",
            "showbackground": true,
            "ticks": "",
            "zerolinecolor": "white"
           }
          },
          "shapedefaults": {
           "line": {
            "color": "#2a3f5f"
           }
          },
          "ternary": {
           "aaxis": {
            "gridcolor": "white",
            "linecolor": "white",
            "ticks": ""
           },
           "baxis": {
            "gridcolor": "white",
            "linecolor": "white",
            "ticks": ""
           },
           "bgcolor": "#E5ECF6",
           "caxis": {
            "gridcolor": "white",
            "linecolor": "white",
            "ticks": ""
           }
          },
          "title": {
           "x": 0.05
          },
          "xaxis": {
           "automargin": true,
           "gridcolor": "white",
           "linecolor": "white",
           "ticks": "",
           "title": {
            "standoff": 15
           },
           "zerolinecolor": "white",
           "zerolinewidth": 2
          },
          "yaxis": {
           "automargin": true,
           "gridcolor": "white",
           "linecolor": "white",
           "ticks": "",
           "title": {
            "standoff": 15
           },
           "zerolinecolor": "white",
           "zerolinewidth": 2
          }
         }
        },
        "xaxis": {
         "anchor": "y",
         "domain": [
          0,
          1
         ],
         "title": {
          "text": "Actual Price"
         }
        },
        "yaxis": {
         "anchor": "x",
         "domain": [
          0,
          1
         ],
         "title": {
          "text": "Predicted Price"
         }
        }
       }
      }
     },
     "metadata": {},
     "output_type": "display_data"
    }
   ],
   "source": [
    "px.scatter(\n",
    "    x=val_data['y_val'], \n",
    "    y=y_test_predictions, \n",
    "    trendline='ols',\n",
    "    labels=dict(y=\"Predicted Price\", x=\"Actual Price\")\n",
    ")"
   ]
  },
  {
   "attachments": {},
   "cell_type": "markdown",
   "metadata": {},
   "source": [
    "## Thoughts\n",
    "\n",
    "The exclusion of houses actually reduced the r2 score of our model (80% to 70%). I am starting to think that the inclusion of FSA as a measure of location is crowding the model with too many features. The inclusion and exclusion of other features does not change the model much.\n",
    "\n",
    "A linear regression model including only sqft and fsa has a 67% r squared score, only 3% less than including the other features.\n",
    "\n",
    "Are there ways I can account for location without categorizing the listings by FSA and adding all of those features?\n",
    "\n",
    "Ideas:\n",
    "- Proximity to center of Toronto\n",
    "- Look at stats to do with FSA / district (median household income)"
   ]
  },
  {
   "attachments": {},
   "cell_type": "markdown",
   "metadata": {},
   "source": [
    "# Testing with new Data from Zoocasa"
   ]
  },
  {
   "cell_type": "code",
   "execution_count": 238,
   "metadata": {},
   "outputs": [],
   "source": [
    "test_df = pd.read_csv('data/jan-28-test.csv')\n",
    "test_df['fsa'] = test_df['postal_code'].str.slice(0,3)\n",
    "test_df['bedrooms_partial'] = test_df['bedrooms_partial'].fillna(0)\n",
    "test_df['rooms_total'].replace(0.0, np.nan, inplace=True)"
   ]
  },
  {
   "cell_type": "code",
   "execution_count": 239,
   "metadata": {},
   "outputs": [],
   "source": [
    "# Levels:\n",
    "# Apartment          2406\n",
    "# 2-Storey            358\n",
    "# 3-Storey            135\n",
    "# Stacked Townhse      75\n",
    "# Loft                 66\n",
    "# Bungalow             47\n",
    "# 2 1/2 Storey         23\n",
    "# 1 1/2 Storey         12\n",
    "# Sidesplit 4           4\n",
    "# Backsplit 4           3\n",
    "# Sidesplit 3           2\n",
    "# Backsplit 3           1\n",
    "# Sidesplit 5           1\n",
    "# test_df.levels.value_counts()\n",
    "test_df.levels.replace('Bungalow-Raised', 'Bungalow', inplace=True)"
   ]
  },
  {
   "cell_type": "code",
   "execution_count": 240,
   "metadata": {},
   "outputs": [],
   "source": [
    "# Type:\n",
    "# Condo Apt           2492\n",
    "# Detached             272\n",
    "# Condo Townhouse      223\n",
    "# Semi-Detached         60\n",
    "# Att/Row/Twnhouse      40\n",
    "# Co-Op Apt             26\n",
    "# Multiplex             13\n",
    "# Leasehold Condo        8\n",
    "# Attached               2\n",
    "# test_df.type.value_counts()\n",
    "test_df = test_df[test_df['type'] != \"Link\"]"
   ]
  },
  {
   "cell_type": "code",
   "execution_count": 241,
   "metadata": {},
   "outputs": [],
   "source": [
    "# Prizm\n",
    "\n",
    "# test_df_segment = test_df[test_df['postal_code'].isin(prizm['postal_code'])].reset_index(drop=True)\n",
    "\n",
    "# segments = []\n",
    "# for index, row in test_df_segment.iterrows():\n",
    "#     segments.append(prizm[prizm['postal_code'] == row['postal_code']]['segment'].item())\n",
    "# test_df_segment['segment'] = pd.Series(segments)"
   ]
  },
  {
   "cell_type": "code",
   "execution_count": 242,
   "metadata": {},
   "outputs": [],
   "source": [
    "test_df = test_df[features]\n",
    "test_df.dropna(inplace=True)\n",
    "test_df = test_df[test_df['price'] <= 4000000].reset_index(drop=True)\n",
    "\n",
    "X = test_df.drop(columns='price')\n",
    "y = test_df['price']"
   ]
  },
  {
   "cell_type": "code",
   "execution_count": 243,
   "metadata": {},
   "outputs": [
    {
     "name": "stderr",
     "output_type": "stream",
     "text": [
      "/var/folders/zm/kglhp53x58752bpgh6114_f40000gn/T/ipykernel_46796/2523908931.py:3: SettingWithCopyWarning:\n",
      "\n",
      "\n",
      "A value is trying to be set on a copy of a slice from a DataFrame\n",
      "\n",
      "See the caveats in the documentation: https://pandas.pydata.org/pandas-docs/stable/user_guide/indexing.html#returning-a-view-versus-a-copy\n",
      "\n"
     ]
    }
   ],
   "source": [
    "dummy_df = pd.get_dummies(data=pd.concat([model_df, X], axis=0), drop_first=True)\n",
    "X = dummy_df.iloc[model_df.shape[0]:, :]\n",
    "X.drop(columns='price', inplace=True)"
   ]
  },
  {
   "cell_type": "code",
   "execution_count": 244,
   "metadata": {},
   "outputs": [],
   "source": [
    "predictions = lr.predict(X)"
   ]
  },
  {
   "cell_type": "code",
   "execution_count": 245,
   "metadata": {},
   "outputs": [],
   "source": [
    "test_df['price_predictions'] = pd.Series(predictions)"
   ]
  },
  {
   "cell_type": "code",
   "execution_count": 246,
   "metadata": {},
   "outputs": [],
   "source": [
    "test_df['off_by'] = test_df['price'] - test_df['price_predictions']"
   ]
  },
  {
   "cell_type": "code",
   "execution_count": 247,
   "metadata": {},
   "outputs": [
    {
     "data": {
      "application/vnd.plotly.v1+json": {
       "config": {
        "plotlyServerURL": "https://plot.ly"
       },
       "data": [
        {
         "hovertemplate": "x=%{x}<br>y=%{y}<extra></extra>",
         "legendgroup": "",
         "marker": {
          "color": "#636efa",
          "symbol": "circle"
         },
         "mode": "markers",
         "name": "",
         "orientation": "v",
         "showlegend": false,
         "type": "scatter",
         "x": [
          600000,
          449800,
          574900,
          589000,
          695000,
          740000,
          725000,
          525000,
          1220000,
          799999,
          1500000,
          550000,
          588000,
          740000,
          594901,
          619900,
          440000
         ],
         "xaxis": "x",
         "y": [
          590245.743818086,
          412603.5677788021,
          1099616.3445952926,
          606080.9332570254,
          788052.1420064297,
          767897.2759629346,
          773886.1336045868,
          542066.0086463244,
          944418.852663202,
          840584.8161644703,
          2237212.4575941674,
          678612.2639461297,
          547801.2867795149,
          583262.2135364314,
          730566.0709236735,
          519008.04732909123,
          483470.017766995
         ],
         "yaxis": "y"
        },
        {
         "hovertemplate": "<b>OLS trendline</b><br>y = 1.29777 * x + -139115<br>R<sup>2</sup>=0.713366<br><br>x=%{x}<br>y=%{y} <b>(trend)</b><extra></extra>",
         "legendgroup": "",
         "marker": {
          "color": "#636efa",
          "symbol": "circle"
         },
         "mode": "lines",
         "name": "",
         "showlegend": false,
         "type": "scatter",
         "x": [
          440000,
          449800,
          525000,
          550000,
          574900,
          588000,
          589000,
          594901,
          600000,
          619900,
          695000,
          725000,
          740000,
          740000,
          799999,
          1220000,
          1500000
         ],
         "xaxis": "x",
         "y": [
          431905.30187548796,
          444623.4818231567,
          542216.0463195534,
          574660.382920749,
          606974.94217554,
          623975.7745545665,
          625273.5480186144,
          632931.7092299606,
          639549.0561231405,
          665374.7480576922,
          762837.5352076842,
          801770.739129119,
          821237.3410898364,
          821237.3410898364,
          899102.4511592421,
          1444168.603832794,
          1807545.1737661858
         ],
         "yaxis": "y"
        }
       ],
       "layout": {
        "legend": {
         "tracegroupgap": 0
        },
        "margin": {
         "t": 60
        },
        "template": {
         "data": {
          "bar": [
           {
            "error_x": {
             "color": "#2a3f5f"
            },
            "error_y": {
             "color": "#2a3f5f"
            },
            "marker": {
             "line": {
              "color": "#E5ECF6",
              "width": 0.5
             },
             "pattern": {
              "fillmode": "overlay",
              "size": 10,
              "solidity": 0.2
             }
            },
            "type": "bar"
           }
          ],
          "barpolar": [
           {
            "marker": {
             "line": {
              "color": "#E5ECF6",
              "width": 0.5
             },
             "pattern": {
              "fillmode": "overlay",
              "size": 10,
              "solidity": 0.2
             }
            },
            "type": "barpolar"
           }
          ],
          "carpet": [
           {
            "aaxis": {
             "endlinecolor": "#2a3f5f",
             "gridcolor": "white",
             "linecolor": "white",
             "minorgridcolor": "white",
             "startlinecolor": "#2a3f5f"
            },
            "baxis": {
             "endlinecolor": "#2a3f5f",
             "gridcolor": "white",
             "linecolor": "white",
             "minorgridcolor": "white",
             "startlinecolor": "#2a3f5f"
            },
            "type": "carpet"
           }
          ],
          "choropleth": [
           {
            "colorbar": {
             "outlinewidth": 0,
             "ticks": ""
            },
            "type": "choropleth"
           }
          ],
          "contour": [
           {
            "colorbar": {
             "outlinewidth": 0,
             "ticks": ""
            },
            "colorscale": [
             [
              0,
              "#0d0887"
             ],
             [
              0.1111111111111111,
              "#46039f"
             ],
             [
              0.2222222222222222,
              "#7201a8"
             ],
             [
              0.3333333333333333,
              "#9c179e"
             ],
             [
              0.4444444444444444,
              "#bd3786"
             ],
             [
              0.5555555555555556,
              "#d8576b"
             ],
             [
              0.6666666666666666,
              "#ed7953"
             ],
             [
              0.7777777777777778,
              "#fb9f3a"
             ],
             [
              0.8888888888888888,
              "#fdca26"
             ],
             [
              1,
              "#f0f921"
             ]
            ],
            "type": "contour"
           }
          ],
          "contourcarpet": [
           {
            "colorbar": {
             "outlinewidth": 0,
             "ticks": ""
            },
            "type": "contourcarpet"
           }
          ],
          "heatmap": [
           {
            "colorbar": {
             "outlinewidth": 0,
             "ticks": ""
            },
            "colorscale": [
             [
              0,
              "#0d0887"
             ],
             [
              0.1111111111111111,
              "#46039f"
             ],
             [
              0.2222222222222222,
              "#7201a8"
             ],
             [
              0.3333333333333333,
              "#9c179e"
             ],
             [
              0.4444444444444444,
              "#bd3786"
             ],
             [
              0.5555555555555556,
              "#d8576b"
             ],
             [
              0.6666666666666666,
              "#ed7953"
             ],
             [
              0.7777777777777778,
              "#fb9f3a"
             ],
             [
              0.8888888888888888,
              "#fdca26"
             ],
             [
              1,
              "#f0f921"
             ]
            ],
            "type": "heatmap"
           }
          ],
          "heatmapgl": [
           {
            "colorbar": {
             "outlinewidth": 0,
             "ticks": ""
            },
            "colorscale": [
             [
              0,
              "#0d0887"
             ],
             [
              0.1111111111111111,
              "#46039f"
             ],
             [
              0.2222222222222222,
              "#7201a8"
             ],
             [
              0.3333333333333333,
              "#9c179e"
             ],
             [
              0.4444444444444444,
              "#bd3786"
             ],
             [
              0.5555555555555556,
              "#d8576b"
             ],
             [
              0.6666666666666666,
              "#ed7953"
             ],
             [
              0.7777777777777778,
              "#fb9f3a"
             ],
             [
              0.8888888888888888,
              "#fdca26"
             ],
             [
              1,
              "#f0f921"
             ]
            ],
            "type": "heatmapgl"
           }
          ],
          "histogram": [
           {
            "marker": {
             "pattern": {
              "fillmode": "overlay",
              "size": 10,
              "solidity": 0.2
             }
            },
            "type": "histogram"
           }
          ],
          "histogram2d": [
           {
            "colorbar": {
             "outlinewidth": 0,
             "ticks": ""
            },
            "colorscale": [
             [
              0,
              "#0d0887"
             ],
             [
              0.1111111111111111,
              "#46039f"
             ],
             [
              0.2222222222222222,
              "#7201a8"
             ],
             [
              0.3333333333333333,
              "#9c179e"
             ],
             [
              0.4444444444444444,
              "#bd3786"
             ],
             [
              0.5555555555555556,
              "#d8576b"
             ],
             [
              0.6666666666666666,
              "#ed7953"
             ],
             [
              0.7777777777777778,
              "#fb9f3a"
             ],
             [
              0.8888888888888888,
              "#fdca26"
             ],
             [
              1,
              "#f0f921"
             ]
            ],
            "type": "histogram2d"
           }
          ],
          "histogram2dcontour": [
           {
            "colorbar": {
             "outlinewidth": 0,
             "ticks": ""
            },
            "colorscale": [
             [
              0,
              "#0d0887"
             ],
             [
              0.1111111111111111,
              "#46039f"
             ],
             [
              0.2222222222222222,
              "#7201a8"
             ],
             [
              0.3333333333333333,
              "#9c179e"
             ],
             [
              0.4444444444444444,
              "#bd3786"
             ],
             [
              0.5555555555555556,
              "#d8576b"
             ],
             [
              0.6666666666666666,
              "#ed7953"
             ],
             [
              0.7777777777777778,
              "#fb9f3a"
             ],
             [
              0.8888888888888888,
              "#fdca26"
             ],
             [
              1,
              "#f0f921"
             ]
            ],
            "type": "histogram2dcontour"
           }
          ],
          "mesh3d": [
           {
            "colorbar": {
             "outlinewidth": 0,
             "ticks": ""
            },
            "type": "mesh3d"
           }
          ],
          "parcoords": [
           {
            "line": {
             "colorbar": {
              "outlinewidth": 0,
              "ticks": ""
             }
            },
            "type": "parcoords"
           }
          ],
          "pie": [
           {
            "automargin": true,
            "type": "pie"
           }
          ],
          "scatter": [
           {
            "fillpattern": {
             "fillmode": "overlay",
             "size": 10,
             "solidity": 0.2
            },
            "type": "scatter"
           }
          ],
          "scatter3d": [
           {
            "line": {
             "colorbar": {
              "outlinewidth": 0,
              "ticks": ""
             }
            },
            "marker": {
             "colorbar": {
              "outlinewidth": 0,
              "ticks": ""
             }
            },
            "type": "scatter3d"
           }
          ],
          "scattercarpet": [
           {
            "marker": {
             "colorbar": {
              "outlinewidth": 0,
              "ticks": ""
             }
            },
            "type": "scattercarpet"
           }
          ],
          "scattergeo": [
           {
            "marker": {
             "colorbar": {
              "outlinewidth": 0,
              "ticks": ""
             }
            },
            "type": "scattergeo"
           }
          ],
          "scattergl": [
           {
            "marker": {
             "colorbar": {
              "outlinewidth": 0,
              "ticks": ""
             }
            },
            "type": "scattergl"
           }
          ],
          "scattermapbox": [
           {
            "marker": {
             "colorbar": {
              "outlinewidth": 0,
              "ticks": ""
             }
            },
            "type": "scattermapbox"
           }
          ],
          "scatterpolar": [
           {
            "marker": {
             "colorbar": {
              "outlinewidth": 0,
              "ticks": ""
             }
            },
            "type": "scatterpolar"
           }
          ],
          "scatterpolargl": [
           {
            "marker": {
             "colorbar": {
              "outlinewidth": 0,
              "ticks": ""
             }
            },
            "type": "scatterpolargl"
           }
          ],
          "scatterternary": [
           {
            "marker": {
             "colorbar": {
              "outlinewidth": 0,
              "ticks": ""
             }
            },
            "type": "scatterternary"
           }
          ],
          "surface": [
           {
            "colorbar": {
             "outlinewidth": 0,
             "ticks": ""
            },
            "colorscale": [
             [
              0,
              "#0d0887"
             ],
             [
              0.1111111111111111,
              "#46039f"
             ],
             [
              0.2222222222222222,
              "#7201a8"
             ],
             [
              0.3333333333333333,
              "#9c179e"
             ],
             [
              0.4444444444444444,
              "#bd3786"
             ],
             [
              0.5555555555555556,
              "#d8576b"
             ],
             [
              0.6666666666666666,
              "#ed7953"
             ],
             [
              0.7777777777777778,
              "#fb9f3a"
             ],
             [
              0.8888888888888888,
              "#fdca26"
             ],
             [
              1,
              "#f0f921"
             ]
            ],
            "type": "surface"
           }
          ],
          "table": [
           {
            "cells": {
             "fill": {
              "color": "#EBF0F8"
             },
             "line": {
              "color": "white"
             }
            },
            "header": {
             "fill": {
              "color": "#C8D4E3"
             },
             "line": {
              "color": "white"
             }
            },
            "type": "table"
           }
          ]
         },
         "layout": {
          "annotationdefaults": {
           "arrowcolor": "#2a3f5f",
           "arrowhead": 0,
           "arrowwidth": 1
          },
          "autotypenumbers": "strict",
          "coloraxis": {
           "colorbar": {
            "outlinewidth": 0,
            "ticks": ""
           }
          },
          "colorscale": {
           "diverging": [
            [
             0,
             "#8e0152"
            ],
            [
             0.1,
             "#c51b7d"
            ],
            [
             0.2,
             "#de77ae"
            ],
            [
             0.3,
             "#f1b6da"
            ],
            [
             0.4,
             "#fde0ef"
            ],
            [
             0.5,
             "#f7f7f7"
            ],
            [
             0.6,
             "#e6f5d0"
            ],
            [
             0.7,
             "#b8e186"
            ],
            [
             0.8,
             "#7fbc41"
            ],
            [
             0.9,
             "#4d9221"
            ],
            [
             1,
             "#276419"
            ]
           ],
           "sequential": [
            [
             0,
             "#0d0887"
            ],
            [
             0.1111111111111111,
             "#46039f"
            ],
            [
             0.2222222222222222,
             "#7201a8"
            ],
            [
             0.3333333333333333,
             "#9c179e"
            ],
            [
             0.4444444444444444,
             "#bd3786"
            ],
            [
             0.5555555555555556,
             "#d8576b"
            ],
            [
             0.6666666666666666,
             "#ed7953"
            ],
            [
             0.7777777777777778,
             "#fb9f3a"
            ],
            [
             0.8888888888888888,
             "#fdca26"
            ],
            [
             1,
             "#f0f921"
            ]
           ],
           "sequentialminus": [
            [
             0,
             "#0d0887"
            ],
            [
             0.1111111111111111,
             "#46039f"
            ],
            [
             0.2222222222222222,
             "#7201a8"
            ],
            [
             0.3333333333333333,
             "#9c179e"
            ],
            [
             0.4444444444444444,
             "#bd3786"
            ],
            [
             0.5555555555555556,
             "#d8576b"
            ],
            [
             0.6666666666666666,
             "#ed7953"
            ],
            [
             0.7777777777777778,
             "#fb9f3a"
            ],
            [
             0.8888888888888888,
             "#fdca26"
            ],
            [
             1,
             "#f0f921"
            ]
           ]
          },
          "colorway": [
           "#636efa",
           "#EF553B",
           "#00cc96",
           "#ab63fa",
           "#FFA15A",
           "#19d3f3",
           "#FF6692",
           "#B6E880",
           "#FF97FF",
           "#FECB52"
          ],
          "font": {
           "color": "#2a3f5f"
          },
          "geo": {
           "bgcolor": "white",
           "lakecolor": "white",
           "landcolor": "#E5ECF6",
           "showlakes": true,
           "showland": true,
           "subunitcolor": "white"
          },
          "hoverlabel": {
           "align": "left"
          },
          "hovermode": "closest",
          "mapbox": {
           "style": "light"
          },
          "paper_bgcolor": "white",
          "plot_bgcolor": "#E5ECF6",
          "polar": {
           "angularaxis": {
            "gridcolor": "white",
            "linecolor": "white",
            "ticks": ""
           },
           "bgcolor": "#E5ECF6",
           "radialaxis": {
            "gridcolor": "white",
            "linecolor": "white",
            "ticks": ""
           }
          },
          "scene": {
           "xaxis": {
            "backgroundcolor": "#E5ECF6",
            "gridcolor": "white",
            "gridwidth": 2,
            "linecolor": "white",
            "showbackground": true,
            "ticks": "",
            "zerolinecolor": "white"
           },
           "yaxis": {
            "backgroundcolor": "#E5ECF6",
            "gridcolor": "white",
            "gridwidth": 2,
            "linecolor": "white",
            "showbackground": true,
            "ticks": "",
            "zerolinecolor": "white"
           },
           "zaxis": {
            "backgroundcolor": "#E5ECF6",
            "gridcolor": "white",
            "gridwidth": 2,
            "linecolor": "white",
            "showbackground": true,
            "ticks": "",
            "zerolinecolor": "white"
           }
          },
          "shapedefaults": {
           "line": {
            "color": "#2a3f5f"
           }
          },
          "ternary": {
           "aaxis": {
            "gridcolor": "white",
            "linecolor": "white",
            "ticks": ""
           },
           "baxis": {
            "gridcolor": "white",
            "linecolor": "white",
            "ticks": ""
           },
           "bgcolor": "#E5ECF6",
           "caxis": {
            "gridcolor": "white",
            "linecolor": "white",
            "ticks": ""
           }
          },
          "title": {
           "x": 0.05
          },
          "xaxis": {
           "automargin": true,
           "gridcolor": "white",
           "linecolor": "white",
           "ticks": "",
           "title": {
            "standoff": 15
           },
           "zerolinecolor": "white",
           "zerolinewidth": 2
          },
          "yaxis": {
           "automargin": true,
           "gridcolor": "white",
           "linecolor": "white",
           "ticks": "",
           "title": {
            "standoff": 15
           },
           "zerolinecolor": "white",
           "zerolinewidth": 2
          }
         }
        },
        "xaxis": {
         "anchor": "y",
         "domain": [
          0,
          1
         ],
         "title": {
          "text": "x"
         }
        },
        "yaxis": {
         "anchor": "x",
         "domain": [
          0,
          1
         ],
         "title": {
          "text": "y"
         }
        }
       }
      }
     },
     "metadata": {},
     "output_type": "display_data"
    }
   ],
   "source": [
    "MARGIN = 10000000\n",
    "\n",
    "true_price = test_df[abs(test_df['off_by']) <= MARGIN]['price']\n",
    "price_predictions = test_df[abs(test_df['off_by']) <= MARGIN]['price_predictions']\n",
    "px.scatter(x=true_price, y=price_predictions, trendline='ols')"
   ]
  },
  {
   "cell_type": "code",
   "execution_count": 248,
   "metadata": {},
   "outputs": [
    {
     "data": {
      "text/html": [
       "<div>\n",
       "<style scoped>\n",
       "    .dataframe tbody tr th:only-of-type {\n",
       "        vertical-align: middle;\n",
       "    }\n",
       "\n",
       "    .dataframe tbody tr th {\n",
       "        vertical-align: top;\n",
       "    }\n",
       "\n",
       "    .dataframe thead th {\n",
       "        text-align: right;\n",
       "    }\n",
       "</style>\n",
       "<table border=\"1\" class=\"dataframe\">\n",
       "  <thead>\n",
       "    <tr style=\"text-align: right;\">\n",
       "      <th></th>\n",
       "      <th>price</th>\n",
       "      <th>bedrooms</th>\n",
       "      <th>bedrooms_partial</th>\n",
       "      <th>bathrooms</th>\n",
       "      <th>square_footage_min</th>\n",
       "      <th>square_footage_max</th>\n",
       "      <th>parking</th>\n",
       "      <th>type</th>\n",
       "      <th>levels</th>\n",
       "      <th>rooms_total</th>\n",
       "      <th>fsa</th>\n",
       "      <th>price_predictions</th>\n",
       "      <th>off_by</th>\n",
       "    </tr>\n",
       "  </thead>\n",
       "  <tbody>\n",
       "    <tr>\n",
       "      <th>2</th>\n",
       "      <td>574900.0</td>\n",
       "      <td>2</td>\n",
       "      <td>0.0</td>\n",
       "      <td>2</td>\n",
       "      <td>1000.0</td>\n",
       "      <td>1199.0</td>\n",
       "      <td>1.0</td>\n",
       "      <td>Condo Apt</td>\n",
       "      <td>Apartment</td>\n",
       "      <td>7.0</td>\n",
       "      <td>M8V</td>\n",
       "      <td>1.099616e+06</td>\n",
       "      <td>-524716.344595</td>\n",
       "    </tr>\n",
       "    <tr>\n",
       "      <th>8</th>\n",
       "      <td>1220000.0</td>\n",
       "      <td>4</td>\n",
       "      <td>1.0</td>\n",
       "      <td>4</td>\n",
       "      <td>1500.0</td>\n",
       "      <td>2000.0</td>\n",
       "      <td>1.0</td>\n",
       "      <td>Att/Row/Twnhouse</td>\n",
       "      <td>3-Storey</td>\n",
       "      <td>8.0</td>\n",
       "      <td>M4A</td>\n",
       "      <td>9.444189e+05</td>\n",
       "      <td>275581.147337</td>\n",
       "    </tr>\n",
       "    <tr>\n",
       "      <th>10</th>\n",
       "      <td>1500000.0</td>\n",
       "      <td>3</td>\n",
       "      <td>0.0</td>\n",
       "      <td>3</td>\n",
       "      <td>2750.0</td>\n",
       "      <td>2999.0</td>\n",
       "      <td>2.0</td>\n",
       "      <td>Condo Apt</td>\n",
       "      <td>2-Storey</td>\n",
       "      <td>8.0</td>\n",
       "      <td>M8V</td>\n",
       "      <td>2.237212e+06</td>\n",
       "      <td>-737212.457594</td>\n",
       "    </tr>\n",
       "    <tr>\n",
       "      <th>11</th>\n",
       "      <td>550000.0</td>\n",
       "      <td>1</td>\n",
       "      <td>1.0</td>\n",
       "      <td>1</td>\n",
       "      <td>500.0</td>\n",
       "      <td>599.0</td>\n",
       "      <td>0.0</td>\n",
       "      <td>Condo Apt</td>\n",
       "      <td>Apartment</td>\n",
       "      <td>6.0</td>\n",
       "      <td>M5J</td>\n",
       "      <td>6.786123e+05</td>\n",
       "      <td>-128612.263946</td>\n",
       "    </tr>\n",
       "    <tr>\n",
       "      <th>13</th>\n",
       "      <td>740000.0</td>\n",
       "      <td>1</td>\n",
       "      <td>0.0</td>\n",
       "      <td>1</td>\n",
       "      <td>500.0</td>\n",
       "      <td>599.0</td>\n",
       "      <td>1.0</td>\n",
       "      <td>Condo Apt</td>\n",
       "      <td>Apartment</td>\n",
       "      <td>6.0</td>\n",
       "      <td>M2N</td>\n",
       "      <td>5.832622e+05</td>\n",
       "      <td>156737.786464</td>\n",
       "    </tr>\n",
       "    <tr>\n",
       "      <th>14</th>\n",
       "      <td>594901.0</td>\n",
       "      <td>2</td>\n",
       "      <td>0.0</td>\n",
       "      <td>2</td>\n",
       "      <td>1200.0</td>\n",
       "      <td>1399.0</td>\n",
       "      <td>1.0</td>\n",
       "      <td>Condo Apt</td>\n",
       "      <td>Apartment</td>\n",
       "      <td>7.0</td>\n",
       "      <td>M9V</td>\n",
       "      <td>7.305661e+05</td>\n",
       "      <td>-135665.070924</td>\n",
       "    </tr>\n",
       "    <tr>\n",
       "      <th>15</th>\n",
       "      <td>619900.0</td>\n",
       "      <td>1</td>\n",
       "      <td>1.0</td>\n",
       "      <td>1</td>\n",
       "      <td>600.0</td>\n",
       "      <td>699.0</td>\n",
       "      <td>1.0</td>\n",
       "      <td>Condo Apt</td>\n",
       "      <td>Apartment</td>\n",
       "      <td>8.0</td>\n",
       "      <td>M3H</td>\n",
       "      <td>5.190080e+05</td>\n",
       "      <td>100891.952671</td>\n",
       "    </tr>\n",
       "  </tbody>\n",
       "</table>\n",
       "</div>"
      ],
      "text/plain": [
       "        price  bedrooms  bedrooms_partial  bathrooms  square_footage_min  \\\n",
       "2    574900.0         2               0.0          2              1000.0   \n",
       "8   1220000.0         4               1.0          4              1500.0   \n",
       "10  1500000.0         3               0.0          3              2750.0   \n",
       "11   550000.0         1               1.0          1               500.0   \n",
       "13   740000.0         1               0.0          1               500.0   \n",
       "14   594901.0         2               0.0          2              1200.0   \n",
       "15   619900.0         1               1.0          1               600.0   \n",
       "\n",
       "    square_footage_max  parking              type     levels  rooms_total  \\\n",
       "2               1199.0      1.0         Condo Apt  Apartment          7.0   \n",
       "8               2000.0      1.0  Att/Row/Twnhouse   3-Storey          8.0   \n",
       "10              2999.0      2.0         Condo Apt   2-Storey          8.0   \n",
       "11               599.0      0.0         Condo Apt  Apartment          6.0   \n",
       "13               599.0      1.0         Condo Apt  Apartment          6.0   \n",
       "14              1399.0      1.0         Condo Apt  Apartment          7.0   \n",
       "15               699.0      1.0         Condo Apt  Apartment          8.0   \n",
       "\n",
       "    fsa  price_predictions         off_by  \n",
       "2   M8V       1.099616e+06 -524716.344595  \n",
       "8   M4A       9.444189e+05  275581.147337  \n",
       "10  M8V       2.237212e+06 -737212.457594  \n",
       "11  M5J       6.786123e+05 -128612.263946  \n",
       "13  M2N       5.832622e+05  156737.786464  \n",
       "14  M9V       7.305661e+05 -135665.070924  \n",
       "15  M3H       5.190080e+05  100891.952671  "
      ]
     },
     "execution_count": 248,
     "metadata": {},
     "output_type": "execute_result"
    }
   ],
   "source": [
    "test_df[(abs(test_df['off_by']) > 100000)]"
   ]
  },
  {
   "cell_type": "code",
   "execution_count": 249,
   "metadata": {},
   "outputs": [
    {
     "data": {
      "text/plain": [
       "0.1632708559121281"
      ]
     },
     "execution_count": 249,
     "metadata": {},
     "output_type": "execute_result"
    }
   ],
   "source": [
    "r2_score(test_df['price'], test_df['price_predictions'])"
   ]
  },
  {
   "cell_type": "code",
   "execution_count": 250,
   "metadata": {},
   "outputs": [
    {
     "data": {
      "text/plain": [
       "0.4316282081203172"
      ]
     },
     "execution_count": 250,
     "metadata": {},
     "output_type": "execute_result"
    }
   ],
   "source": [
    "r2_score(test_df[~(abs(test_df['off_by']) > 200000)]['price'], test_df[~(abs(test_df['off_by']) > 200000)]['price_predictions'])"
   ]
  },
  {
   "cell_type": "code",
   "execution_count": null,
   "metadata": {},
   "outputs": [],
   "source": []
  }
 ],
 "metadata": {
  "kernelspec": {
   "display_name": "Data Analysis",
   "language": "python",
   "name": "data_analysis"
  },
  "language_info": {
   "codemirror_mode": {
    "name": "ipython",
    "version": 3
   },
   "file_extension": ".py",
   "mimetype": "text/x-python",
   "name": "python",
   "nbconvert_exporter": "python",
   "pygments_lexer": "ipython3",
   "version": "3.9.11"
  },
  "orig_nbformat": 4,
  "vscode": {
   "interpreter": {
    "hash": "3828e21e3a973d43c5a9b240b2120214b4b5f019792a0c479a7f451ccb3311cb"
   }
  }
 },
 "nbformat": 4,
 "nbformat_minor": 2
}
